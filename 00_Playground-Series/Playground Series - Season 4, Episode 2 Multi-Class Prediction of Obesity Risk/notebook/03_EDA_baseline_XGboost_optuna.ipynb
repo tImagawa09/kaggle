{
 "cells": [
  {
   "cell_type": "markdown",
   "metadata": {},
   "source": [
    "# Library"
   ]
  },
  {
   "cell_type": "code",
   "execution_count": 7,
   "metadata": {},
   "outputs": [],
   "source": [
    "import numpy as np\n",
    "import pandas as pd\n",
    "import os\n",
    "import seaborn as sns\n",
    "import matplotlib.pyplot as plt\n",
    "\n",
    "import gc\n",
    "\n",
    "import lightgbm as lgb\n",
    "\n",
    "import optuna\n",
    "from functools import partial\n",
    "from xgboost.sklearn import XGBClassifier\n",
    "from sklearn.metrics import log_loss\n",
    "from sklearn.model_selection import StratifiedShuffleSplit\n",
    "from tqdm import tqdm\n",
    "\n",
    "\n",
    "from sklearn.model_selection import train_test_split\n",
    "\n",
    "from catboost import CatBoostClassifier\n",
    "\n",
    "from sklearn.metrics import accuracy_score\n",
    "\n",
    "from sklearn.compose import ColumnTransformer\n",
    "from sklearn.pipeline import Pipeline\n",
    "from sklearn.impute import SimpleImputer\n",
    "from sklearn.preprocessing import StandardScaler, OneHotEncoder, OrdinalEncoder, LabelEncoder\n",
    "from sklearn import set_config"
   ]
  },
  {
   "cell_type": "markdown",
   "metadata": {},
   "source": [
    "# Data"
   ]
  },
  {
   "cell_type": "code",
   "execution_count": 8,
   "metadata": {},
   "outputs": [],
   "source": [
    "train = pd.read_csv('../data/train.csv')\n",
    "test = pd.read_csv('../data/test.csv')\n",
    "\n",
    "sample_submission = pd.read_csv('../data/sample_submission.csv')\n",
    "\n",
    "obsdata = pd.read_csv('../data/ObesityDataSet.csv', index_col=0)"
   ]
  },
  {
   "cell_type": "code",
   "execution_count": 9,
   "metadata": {},
   "outputs": [
    {
     "data": {
      "text/plain": [
       "((20758, 18), (13840, 17), (2111, 16))"
      ]
     },
     "execution_count": 9,
     "metadata": {},
     "output_type": "execute_result"
    }
   ],
   "source": [
    "train.shape, test.shape, obsdata.shape"
   ]
  },
  {
   "cell_type": "markdown",
   "metadata": {},
   "source": [
    "# FeatureEngineering"
   ]
  },
  {
   "cell_type": "markdown",
   "metadata": {},
   "source": [
    "- ビニング"
   ]
  },
  {
   "cell_type": "code",
   "execution_count": 10,
   "metadata": {},
   "outputs": [],
   "source": [
    "def feature_engineering(df):\n",
    "    df['Age_Cat'] = pd.cut(df['Age'], bins=[0, 20, 30, 40,50,60, float('inf')],labels=[0,1,2,3,4,5])\n",
    "    df['FCVC_Cat'] = pd.cut(df['FCVC'], bins=[1,2,3,4,5, float('inf')],labels=[1,2,3,4,5])\n",
    "    df['NCP_Cat'] = pd.cut(df['NCP'], bins=[1,2,3,4,5, float('inf')],labels=[1,2,3,4,5])\n",
    "    df['CH2O_Cat'] = pd.cut(df['CH2O'], bins=[0, 1, 2, 3,4, float('inf')],labels=[0,1,2,3,4])\n",
    "    df['FAF_Cat'] = pd.cut(df['FAF'], bins=[0, 0.5, 1.0, 1.5, 2.5, 3.5, float('inf')],labels=[0,1,2,3,4,5])\n",
    "    df['TUE_Cat'] = pd.cut(df['TUE'], bins=[0, 0.5, 1.0, 1.5, 2, 3, float('inf')],labels=[0,1,2,3,4,5])\n",
    "    return df"
   ]
  },
  {
   "cell_type": "code",
   "execution_count": 11,
   "metadata": {},
   "outputs": [],
   "source": [
    "train = feature_engineering(train)"
   ]
  },
  {
   "cell_type": "markdown",
   "metadata": {},
   "source": [
    "- ラベルエンコード"
   ]
  },
  {
   "cell_type": "code",
   "execution_count": 12,
   "metadata": {},
   "outputs": [
    {
     "data": {
      "text/html": [
       "<div>\n",
       "<style scoped>\n",
       "    .dataframe tbody tr th:only-of-type {\n",
       "        vertical-align: middle;\n",
       "    }\n",
       "\n",
       "    .dataframe tbody tr th {\n",
       "        vertical-align: top;\n",
       "    }\n",
       "\n",
       "    .dataframe thead th {\n",
       "        text-align: right;\n",
       "    }\n",
       "</style>\n",
       "<table border=\"1\" class=\"dataframe\">\n",
       "  <thead>\n",
       "    <tr style=\"text-align: right;\">\n",
       "      <th></th>\n",
       "      <th>id</th>\n",
       "      <th>Gender</th>\n",
       "      <th>Age</th>\n",
       "      <th>Height</th>\n",
       "      <th>Weight</th>\n",
       "      <th>family_history_with_overweight</th>\n",
       "      <th>FAVC</th>\n",
       "      <th>FCVC</th>\n",
       "      <th>NCP</th>\n",
       "      <th>CAEC</th>\n",
       "      <th>...</th>\n",
       "      <th>CALC</th>\n",
       "      <th>MTRANS</th>\n",
       "      <th>NObeyesdad</th>\n",
       "      <th>Age_Cat</th>\n",
       "      <th>FCVC_Cat</th>\n",
       "      <th>NCP_Cat</th>\n",
       "      <th>CH2O_Cat</th>\n",
       "      <th>FAF_Cat</th>\n",
       "      <th>TUE_Cat</th>\n",
       "      <th>target</th>\n",
       "    </tr>\n",
       "  </thead>\n",
       "  <tbody>\n",
       "    <tr>\n",
       "      <th>0</th>\n",
       "      <td>0</td>\n",
       "      <td>Male</td>\n",
       "      <td>24.443011</td>\n",
       "      <td>1.699998</td>\n",
       "      <td>81.669950</td>\n",
       "      <td>yes</td>\n",
       "      <td>yes</td>\n",
       "      <td>2.000000</td>\n",
       "      <td>2.983297</td>\n",
       "      <td>Sometimes</td>\n",
       "      <td>...</td>\n",
       "      <td>Sometimes</td>\n",
       "      <td>Public_Transportation</td>\n",
       "      <td>Overweight_Level_II</td>\n",
       "      <td>1</td>\n",
       "      <td>1</td>\n",
       "      <td>2</td>\n",
       "      <td>2</td>\n",
       "      <td>NaN</td>\n",
       "      <td>1</td>\n",
       "      <td>6</td>\n",
       "    </tr>\n",
       "    <tr>\n",
       "      <th>1</th>\n",
       "      <td>1</td>\n",
       "      <td>Female</td>\n",
       "      <td>18.000000</td>\n",
       "      <td>1.560000</td>\n",
       "      <td>57.000000</td>\n",
       "      <td>yes</td>\n",
       "      <td>yes</td>\n",
       "      <td>2.000000</td>\n",
       "      <td>3.000000</td>\n",
       "      <td>Frequently</td>\n",
       "      <td>...</td>\n",
       "      <td>no</td>\n",
       "      <td>Automobile</td>\n",
       "      <td>Normal_Weight</td>\n",
       "      <td>0</td>\n",
       "      <td>1</td>\n",
       "      <td>2</td>\n",
       "      <td>1</td>\n",
       "      <td>1</td>\n",
       "      <td>1</td>\n",
       "      <td>1</td>\n",
       "    </tr>\n",
       "    <tr>\n",
       "      <th>2</th>\n",
       "      <td>2</td>\n",
       "      <td>Female</td>\n",
       "      <td>18.000000</td>\n",
       "      <td>1.711460</td>\n",
       "      <td>50.165754</td>\n",
       "      <td>yes</td>\n",
       "      <td>yes</td>\n",
       "      <td>1.880534</td>\n",
       "      <td>1.411685</td>\n",
       "      <td>Sometimes</td>\n",
       "      <td>...</td>\n",
       "      <td>no</td>\n",
       "      <td>Public_Transportation</td>\n",
       "      <td>Insufficient_Weight</td>\n",
       "      <td>0</td>\n",
       "      <td>1</td>\n",
       "      <td>1</td>\n",
       "      <td>1</td>\n",
       "      <td>1</td>\n",
       "      <td>3</td>\n",
       "      <td>0</td>\n",
       "    </tr>\n",
       "    <tr>\n",
       "      <th>3</th>\n",
       "      <td>3</td>\n",
       "      <td>Female</td>\n",
       "      <td>20.952737</td>\n",
       "      <td>1.710730</td>\n",
       "      <td>131.274851</td>\n",
       "      <td>yes</td>\n",
       "      <td>yes</td>\n",
       "      <td>3.000000</td>\n",
       "      <td>3.000000</td>\n",
       "      <td>Sometimes</td>\n",
       "      <td>...</td>\n",
       "      <td>Sometimes</td>\n",
       "      <td>Public_Transportation</td>\n",
       "      <td>Obesity_Type_III</td>\n",
       "      <td>1</td>\n",
       "      <td>2</td>\n",
       "      <td>2</td>\n",
       "      <td>1</td>\n",
       "      <td>2</td>\n",
       "      <td>1</td>\n",
       "      <td>4</td>\n",
       "    </tr>\n",
       "    <tr>\n",
       "      <th>4</th>\n",
       "      <td>4</td>\n",
       "      <td>Male</td>\n",
       "      <td>31.641081</td>\n",
       "      <td>1.914186</td>\n",
       "      <td>93.798055</td>\n",
       "      <td>yes</td>\n",
       "      <td>yes</td>\n",
       "      <td>2.679664</td>\n",
       "      <td>1.971472</td>\n",
       "      <td>Sometimes</td>\n",
       "      <td>...</td>\n",
       "      <td>Sometimes</td>\n",
       "      <td>Public_Transportation</td>\n",
       "      <td>Overweight_Level_II</td>\n",
       "      <td>2</td>\n",
       "      <td>2</td>\n",
       "      <td>1</td>\n",
       "      <td>1</td>\n",
       "      <td>3</td>\n",
       "      <td>1</td>\n",
       "      <td>6</td>\n",
       "    </tr>\n",
       "  </tbody>\n",
       "</table>\n",
       "<p>5 rows × 25 columns</p>\n",
       "</div>"
      ],
      "text/plain": [
       "   id  Gender        Age    Height      Weight family_history_with_overweight   \n",
       "0   0    Male  24.443011  1.699998   81.669950                            yes  \\\n",
       "1   1  Female  18.000000  1.560000   57.000000                            yes   \n",
       "2   2  Female  18.000000  1.711460   50.165754                            yes   \n",
       "3   3  Female  20.952737  1.710730  131.274851                            yes   \n",
       "4   4    Male  31.641081  1.914186   93.798055                            yes   \n",
       "\n",
       "  FAVC      FCVC       NCP        CAEC  ...       CALC                 MTRANS   \n",
       "0  yes  2.000000  2.983297   Sometimes  ...  Sometimes  Public_Transportation  \\\n",
       "1  yes  2.000000  3.000000  Frequently  ...         no             Automobile   \n",
       "2  yes  1.880534  1.411685   Sometimes  ...         no  Public_Transportation   \n",
       "3  yes  3.000000  3.000000   Sometimes  ...  Sometimes  Public_Transportation   \n",
       "4  yes  2.679664  1.971472   Sometimes  ...  Sometimes  Public_Transportation   \n",
       "\n",
       "            NObeyesdad  Age_Cat  FCVC_Cat NCP_Cat CH2O_Cat FAF_Cat TUE_Cat   \n",
       "0  Overweight_Level_II        1         1       2        2     NaN       1  \\\n",
       "1        Normal_Weight        0         1       2        1       1       1   \n",
       "2  Insufficient_Weight        0         1       1        1       1       3   \n",
       "3     Obesity_Type_III        1         2       2        1       2       1   \n",
       "4  Overweight_Level_II        2         2       1        1       3       1   \n",
       "\n",
       "  target  \n",
       "0      6  \n",
       "1      1  \n",
       "2      0  \n",
       "3      4  \n",
       "4      6  \n",
       "\n",
       "[5 rows x 25 columns]"
      ]
     },
     "execution_count": 12,
     "metadata": {},
     "output_type": "execute_result"
    }
   ],
   "source": [
    "le = LabelEncoder()\n",
    "enc = le.fit_transform(train.NObeyesdad)\n",
    "train = train.assign(target=enc)\n",
    "train.head()"
   ]
  },
  {
   "cell_type": "markdown",
   "metadata": {},
   "source": [
    "# model_Data"
   ]
  },
  {
   "cell_type": "markdown",
   "metadata": {},
   "source": [
    "- データ"
   ]
  },
  {
   "cell_type": "code",
   "execution_count": 13,
   "metadata": {},
   "outputs": [],
   "source": [
    "numeric_features = ['Height','Weight']\n",
    "categorical_features = ['Gender','family_history_with_overweight','FAVC','CAEC','SMOKE','SCC','CALC','MTRANS']\n",
    "ordinal_features = ['Age_Cat','FCVC_Cat','NCP_Cat','CH2O_Cat','FAF_Cat','TUE_Cat']\n",
    "all_cols = numeric_features + categorical_features + ordinal_features"
   ]
  },
  {
   "cell_type": "markdown",
   "metadata": {},
   "source": [
    "- pipeline"
   ]
  },
  {
   "cell_type": "code",
   "execution_count": 14,
   "metadata": {},
   "outputs": [],
   "source": [
    "def get_pipeline():\n",
    "    numerical_pipe = Pipeline([('std_scaler',StandardScaler())])\n",
    "    categorical_pipe = Pipeline([('one_hot',OneHotEncoder())])\n",
    "    ordinal_pipe = Pipeline([('ordinal',OrdinalEncoder())])\n",
    "    numeric_transformer = Pipeline(steps=[('scaler', StandardScaler())])\n",
    "    categorical_transformer = Pipeline(steps=[('onehot', OneHotEncoder(handle_unknown='ignore'))])\n",
    "    ordinal_transformer = Pipeline(steps=[('ordinal', OrdinalEncoder(handle_unknown='use_encoded_value',unknown_value=np.nan))])    \n",
    "    preprocessor = ColumnTransformer(\n",
    "        transformers=[\n",
    "            ('num', numeric_transformer, numeric_features),\n",
    "            ('cat', categorical_transformer, categorical_features)])\n",
    "    pipeline = Pipeline(steps=[('preprocessor', preprocessor)])\n",
    "    return pipeline\n",
    "\n",
    "def build_model(model):\n",
    "    numerical_pipe = Pipeline([('std_scaler',StandardScaler())])\n",
    "    categorical_pipe = Pipeline([('one_hot',OneHotEncoder())])\n",
    "    numeric_transformer = Pipeline(steps=[('scaler', StandardScaler())])\n",
    "    categorical_transformer = Pipeline(steps=[('onehot', OneHotEncoder(handle_unknown='ignore'))])\n",
    "    ordinal_transformer = Pipeline(steps=[('ordinal', OrdinalEncoder(handle_unknown='use_encoded_value',unknown_value=np.nan))])        \n",
    "    preprocessor = ColumnTransformer(\n",
    "        transformers=[\n",
    "            ('num', numeric_transformer, numeric_features),\n",
    "            ('cat', categorical_transformer, categorical_features),\n",
    "            ('ordinal', ordinal_transformer, ordinal_features)\n",
    "        ])\n",
    "    mdl = Pipeline(steps=[('preprocessor', preprocessor),\n",
    "                      ('model', model)])   \n",
    "    set_config(display='diagram')\n",
    "    return mdl"
   ]
  },
  {
   "cell_type": "markdown",
   "metadata": {},
   "source": [
    "- Data"
   ]
  },
  {
   "cell_type": "code",
   "execution_count": 15,
   "metadata": {},
   "outputs": [],
   "source": [
    "X = train[all_cols]\n",
    "y = train['target']"
   ]
  },
  {
   "cell_type": "markdown",
   "metadata": {},
   "source": [
    "- oprtuna"
   ]
  },
  {
   "cell_type": "code",
   "execution_count": 20,
   "metadata": {},
   "outputs": [],
   "source": [
    "def callback(study, trial):\n",
    "    if study.best_trial.number == trial.number:\n",
    "        study.set_user_attr(key=\"best_model\", value=trial.user_attrs[\"best_model\"])\n",
    "\n",
    "def optimize(trial, X, y, n_splits):\n",
    " \n",
    "    n_estimators = trial.suggest_int(\"n_estimators\",500,1500)\n",
    "    max_depth = trial.suggest_int(\"max_depth\",15,30)\n",
    "    learning_rate = trial.suggest_uniform(\"learning_rate\", 0.01, 0.5)\n",
    "    gamma = trial.suggest_uniform(\"gamma\", 0.05, 0.8)\n",
    "    subsample = trial.suggest_uniform(\"subsample\", 0.5, 0.8)\n",
    "    min_child_weight = trial.suggest_uniform(\"min_child_weight\", 0.5, 3)\n",
    "    reg_lambda = trial.suggest_uniform(\"reg_lambda\", 1.3, 2.3)\n",
    "    reg_alpha = trial.suggest_uniform(\"reg_alpha\", 1.5, 2.2)\n",
    "    colsample_bytree = trial.suggest_uniform(\"colsample_bytree\", 0.25, 0.8)\n",
    "\n",
    "    params = dict(use_label_encoder=False,\n",
    "                  eval_metric='logloss',\n",
    "                  objective='multi:softmax',\n",
    "                  n_estimators = n_estimators,\n",
    "                  max_depth = max_depth,\n",
    "                  learning_rate = learning_rate,\n",
    "                  gamma = gamma,\n",
    "                  subsample = subsample,\n",
    "                  min_child_weight = min_child_weight,\n",
    "                  reg_lambda = reg_lambda,\n",
    "                  reg_alpha = reg_alpha,                  \n",
    "                  colsample_bytree = colsample_bytree,\n",
    "                  random_state=42)\n",
    "\n",
    "    # gpu_params = dict(tree_method='gpu_hist',gpu_id=0)\n",
    "    # params.update(gpu_params)\n",
    "\n",
    "    model = build_model(XGBClassifier(**params))\n",
    "    \n",
    "    strat_split = StratifiedShuffleSplit(n_splits=n_splits, \n",
    "                                         test_size = 0.2, \n",
    "                                         random_state=42)\n",
    "    lg_loss = []\n",
    "    for fold, (train_idx, test_idx) in tqdm(enumerate(strat_split.split(X=X, y=y))):\n",
    "        X_train = X.loc[train_idx]\n",
    "        y_train = y.loc[train_idx]      \n",
    "        X_val = X.loc[test_idx]\n",
    "        y_val = y.loc[test_idx]\n",
    "\n",
    "        #model.fit(X_train, y_train,eval_set=[(X_val,y_val)], early_stopping_rounds=100)\n",
    "        model.fit(X_train, y_train)\n",
    "        preds = model.predict_proba(X_val)\n",
    "        fold_lgloss = log_loss(y_val,preds)\n",
    "        lg_loss.append(fold_lgloss)\n",
    "\n",
    "    print(f\"y_Mean log_loss : {np.mean(lg_loss)}rs_\")\n",
    "    trial.set_user_attr(key=\"best_model\", value=model)\n",
    "    return np.mean(lg_loss)"
   ]
  },
  {
   "cell_type": "markdown",
   "metadata": {},
   "source": [
    "- optuna_trial"
   ]
  },
  {
   "cell_type": "code",
   "execution_count": 21,
   "metadata": {},
   "outputs": [
    {
     "name": "stderr",
     "output_type": "stream",
     "text": [
      "[I 2024-02-05 14:40:54,993] A new study created in memory with name: s4e2-feb2024-xgboost-optuna\n",
      "C:\\Users\\104161\\AppData\\Local\\Temp\\ipykernel_7748\\755758792.py:9: FutureWarning: suggest_uniform has been deprecated in v3.0.0. This feature will be removed in v6.0.0. See https://github.com/optuna/optuna/releases/tag/v3.0.0. Use suggest_float instead.\n",
      "  learning_rate = trial.suggest_uniform(\"learning_rate\", 0.01, 0.5)\n",
      "C:\\Users\\104161\\AppData\\Local\\Temp\\ipykernel_7748\\755758792.py:10: FutureWarning: suggest_uniform has been deprecated in v3.0.0. This feature will be removed in v6.0.0. See https://github.com/optuna/optuna/releases/tag/v3.0.0. Use suggest_float instead.\n",
      "  gamma = trial.suggest_uniform(\"gamma\", 0.05, 0.8)\n",
      "C:\\Users\\104161\\AppData\\Local\\Temp\\ipykernel_7748\\755758792.py:11: FutureWarning: suggest_uniform has been deprecated in v3.0.0. This feature will be removed in v6.0.0. See https://github.com/optuna/optuna/releases/tag/v3.0.0. Use suggest_float instead.\n",
      "  subsample = trial.suggest_uniform(\"subsample\", 0.5, 0.8)\n",
      "C:\\Users\\104161\\AppData\\Local\\Temp\\ipykernel_7748\\755758792.py:12: FutureWarning: suggest_uniform has been deprecated in v3.0.0. This feature will be removed in v6.0.0. See https://github.com/optuna/optuna/releases/tag/v3.0.0. Use suggest_float instead.\n",
      "  min_child_weight = trial.suggest_uniform(\"min_child_weight\", 0.5, 3)\n",
      "C:\\Users\\104161\\AppData\\Local\\Temp\\ipykernel_7748\\755758792.py:13: FutureWarning: suggest_uniform has been deprecated in v3.0.0. This feature will be removed in v6.0.0. See https://github.com/optuna/optuna/releases/tag/v3.0.0. Use suggest_float instead.\n",
      "  reg_lambda = trial.suggest_uniform(\"reg_lambda\", 1.3, 2.3)\n",
      "C:\\Users\\104161\\AppData\\Local\\Temp\\ipykernel_7748\\755758792.py:14: FutureWarning: suggest_uniform has been deprecated in v3.0.0. This feature will be removed in v6.0.0. See https://github.com/optuna/optuna/releases/tag/v3.0.0. Use suggest_float instead.\n",
      "  reg_alpha = trial.suggest_uniform(\"reg_alpha\", 1.5, 2.2)\n",
      "C:\\Users\\104161\\AppData\\Local\\Temp\\ipykernel_7748\\755758792.py:15: FutureWarning: suggest_uniform has been deprecated in v3.0.0. This feature will be removed in v6.0.0. See https://github.com/optuna/optuna/releases/tag/v3.0.0. Use suggest_float instead.\n",
      "  colsample_bytree = trial.suggest_uniform(\"colsample_bytree\", 0.25, 0.8)\n",
      "5it [00:33,  6.65s/it]\n"
     ]
    },
    {
     "name": "stdout",
     "output_type": "stream",
     "text": [
      "y_Mean log_loss : 0.29210391620579734rs_\n"
     ]
    },
    {
     "name": "stderr",
     "output_type": "stream",
     "text": [
      "[I 2024-02-05 14:41:28,932] Trial 0 finished with value: 0.29210391620579734 and parameters: {'n_estimators': 1407, 'max_depth': 18, 'learning_rate': 0.4252736429093766, 'gamma': 0.27755955873599913, 'subsample': 0.7645651978326519, 'min_child_weight': 2.443404815782571, 'reg_lambda': 2.1425021623249503, 'reg_alpha': 1.7606827578361264, 'colsample_bytree': 0.3536488183618155}. Best is trial 0 with value: 0.29210391620579734.\n",
      "C:\\Users\\104161\\AppData\\Local\\Temp\\ipykernel_7748\\755758792.py:9: FutureWarning: suggest_uniform has been deprecated in v3.0.0. This feature will be removed in v6.0.0. See https://github.com/optuna/optuna/releases/tag/v3.0.0. Use suggest_float instead.\n",
      "  learning_rate = trial.suggest_uniform(\"learning_rate\", 0.01, 0.5)\n",
      "C:\\Users\\104161\\AppData\\Local\\Temp\\ipykernel_7748\\755758792.py:10: FutureWarning: suggest_uniform has been deprecated in v3.0.0. This feature will be removed in v6.0.0. See https://github.com/optuna/optuna/releases/tag/v3.0.0. Use suggest_float instead.\n",
      "  gamma = trial.suggest_uniform(\"gamma\", 0.05, 0.8)\n",
      "C:\\Users\\104161\\AppData\\Local\\Temp\\ipykernel_7748\\755758792.py:11: FutureWarning: suggest_uniform has been deprecated in v3.0.0. This feature will be removed in v6.0.0. See https://github.com/optuna/optuna/releases/tag/v3.0.0. Use suggest_float instead.\n",
      "  subsample = trial.suggest_uniform(\"subsample\", 0.5, 0.8)\n",
      "C:\\Users\\104161\\AppData\\Local\\Temp\\ipykernel_7748\\755758792.py:12: FutureWarning: suggest_uniform has been deprecated in v3.0.0. This feature will be removed in v6.0.0. See https://github.com/optuna/optuna/releases/tag/v3.0.0. Use suggest_float instead.\n",
      "  min_child_weight = trial.suggest_uniform(\"min_child_weight\", 0.5, 3)\n",
      "C:\\Users\\104161\\AppData\\Local\\Temp\\ipykernel_7748\\755758792.py:13: FutureWarning: suggest_uniform has been deprecated in v3.0.0. This feature will be removed in v6.0.0. See https://github.com/optuna/optuna/releases/tag/v3.0.0. Use suggest_float instead.\n",
      "  reg_lambda = trial.suggest_uniform(\"reg_lambda\", 1.3, 2.3)\n",
      "C:\\Users\\104161\\AppData\\Local\\Temp\\ipykernel_7748\\755758792.py:14: FutureWarning: suggest_uniform has been deprecated in v3.0.0. This feature will be removed in v6.0.0. See https://github.com/optuna/optuna/releases/tag/v3.0.0. Use suggest_float instead.\n",
      "  reg_alpha = trial.suggest_uniform(\"reg_alpha\", 1.5, 2.2)\n",
      "C:\\Users\\104161\\AppData\\Local\\Temp\\ipykernel_7748\\755758792.py:15: FutureWarning: suggest_uniform has been deprecated in v3.0.0. This feature will be removed in v6.0.0. See https://github.com/optuna/optuna/releases/tag/v3.0.0. Use suggest_float instead.\n",
      "  colsample_bytree = trial.suggest_uniform(\"colsample_bytree\", 0.25, 0.8)\n",
      "5it [00:26,  5.37s/it]\n"
     ]
    },
    {
     "name": "stdout",
     "output_type": "stream",
     "text": [
      "y_Mean log_loss : 0.27991561129853026rs_\n"
     ]
    },
    {
     "name": "stderr",
     "output_type": "stream",
     "text": [
      "[I 2024-02-05 14:41:56,601] Trial 1 finished with value: 0.27991561129853026 and parameters: {'n_estimators': 1015, 'max_depth': 23, 'learning_rate': 0.2713288616329084, 'gamma': 0.7867694743095488, 'subsample': 0.7913378162475828, 'min_child_weight': 2.183867536743872, 'reg_lambda': 2.061745543209171, 'reg_alpha': 1.753080478750923, 'colsample_bytree': 0.6308579778246476}. Best is trial 1 with value: 0.27991561129853026.\n",
      "C:\\Users\\104161\\AppData\\Local\\Temp\\ipykernel_7748\\755758792.py:9: FutureWarning: suggest_uniform has been deprecated in v3.0.0. This feature will be removed in v6.0.0. See https://github.com/optuna/optuna/releases/tag/v3.0.0. Use suggest_float instead.\n",
      "  learning_rate = trial.suggest_uniform(\"learning_rate\", 0.01, 0.5)\n",
      "C:\\Users\\104161\\AppData\\Local\\Temp\\ipykernel_7748\\755758792.py:10: FutureWarning: suggest_uniform has been deprecated in v3.0.0. This feature will be removed in v6.0.0. See https://github.com/optuna/optuna/releases/tag/v3.0.0. Use suggest_float instead.\n",
      "  gamma = trial.suggest_uniform(\"gamma\", 0.05, 0.8)\n",
      "C:\\Users\\104161\\AppData\\Local\\Temp\\ipykernel_7748\\755758792.py:11: FutureWarning: suggest_uniform has been deprecated in v3.0.0. This feature will be removed in v6.0.0. See https://github.com/optuna/optuna/releases/tag/v3.0.0. Use suggest_float instead.\n",
      "  subsample = trial.suggest_uniform(\"subsample\", 0.5, 0.8)\n",
      "C:\\Users\\104161\\AppData\\Local\\Temp\\ipykernel_7748\\755758792.py:12: FutureWarning: suggest_uniform has been deprecated in v3.0.0. This feature will be removed in v6.0.0. See https://github.com/optuna/optuna/releases/tag/v3.0.0. Use suggest_float instead.\n",
      "  min_child_weight = trial.suggest_uniform(\"min_child_weight\", 0.5, 3)\n",
      "C:\\Users\\104161\\AppData\\Local\\Temp\\ipykernel_7748\\755758792.py:13: FutureWarning: suggest_uniform has been deprecated in v3.0.0. This feature will be removed in v6.0.0. See https://github.com/optuna/optuna/releases/tag/v3.0.0. Use suggest_float instead.\n",
      "  reg_lambda = trial.suggest_uniform(\"reg_lambda\", 1.3, 2.3)\n",
      "C:\\Users\\104161\\AppData\\Local\\Temp\\ipykernel_7748\\755758792.py:14: FutureWarning: suggest_uniform has been deprecated in v3.0.0. This feature will be removed in v6.0.0. See https://github.com/optuna/optuna/releases/tag/v3.0.0. Use suggest_float instead.\n",
      "  reg_alpha = trial.suggest_uniform(\"reg_alpha\", 1.5, 2.2)\n",
      "C:\\Users\\104161\\AppData\\Local\\Temp\\ipykernel_7748\\755758792.py:15: FutureWarning: suggest_uniform has been deprecated in v3.0.0. This feature will be removed in v6.0.0. See https://github.com/optuna/optuna/releases/tag/v3.0.0. Use suggest_float instead.\n",
      "  colsample_bytree = trial.suggest_uniform(\"colsample_bytree\", 0.25, 0.8)\n",
      "5it [00:34,  6.82s/it]\n"
     ]
    },
    {
     "name": "stdout",
     "output_type": "stream",
     "text": [
      "y_Mean log_loss : 0.2843252387516517rs_\n"
     ]
    },
    {
     "name": "stderr",
     "output_type": "stream",
     "text": [
      "[I 2024-02-05 14:42:31,541] Trial 2 finished with value: 0.2843252387516517 and parameters: {'n_estimators': 1216, 'max_depth': 29, 'learning_rate': 0.3340206207374731, 'gamma': 0.619466218596777, 'subsample': 0.625037047758365, 'min_child_weight': 2.5788726224198832, 'reg_lambda': 1.6667894926455364, 'reg_alpha': 1.9114776096243031, 'colsample_bytree': 0.3836730174494707}. Best is trial 1 with value: 0.27991561129853026.\n",
      "C:\\Users\\104161\\AppData\\Local\\Temp\\ipykernel_7748\\755758792.py:9: FutureWarning: suggest_uniform has been deprecated in v3.0.0. This feature will be removed in v6.0.0. See https://github.com/optuna/optuna/releases/tag/v3.0.0. Use suggest_float instead.\n",
      "  learning_rate = trial.suggest_uniform(\"learning_rate\", 0.01, 0.5)\n",
      "C:\\Users\\104161\\AppData\\Local\\Temp\\ipykernel_7748\\755758792.py:10: FutureWarning: suggest_uniform has been deprecated in v3.0.0. This feature will be removed in v6.0.0. See https://github.com/optuna/optuna/releases/tag/v3.0.0. Use suggest_float instead.\n",
      "  gamma = trial.suggest_uniform(\"gamma\", 0.05, 0.8)\n",
      "C:\\Users\\104161\\AppData\\Local\\Temp\\ipykernel_7748\\755758792.py:11: FutureWarning: suggest_uniform has been deprecated in v3.0.0. This feature will be removed in v6.0.0. See https://github.com/optuna/optuna/releases/tag/v3.0.0. Use suggest_float instead.\n",
      "  subsample = trial.suggest_uniform(\"subsample\", 0.5, 0.8)\n",
      "C:\\Users\\104161\\AppData\\Local\\Temp\\ipykernel_7748\\755758792.py:12: FutureWarning: suggest_uniform has been deprecated in v3.0.0. This feature will be removed in v6.0.0. See https://github.com/optuna/optuna/releases/tag/v3.0.0. Use suggest_float instead.\n",
      "  min_child_weight = trial.suggest_uniform(\"min_child_weight\", 0.5, 3)\n",
      "C:\\Users\\104161\\AppData\\Local\\Temp\\ipykernel_7748\\755758792.py:13: FutureWarning: suggest_uniform has been deprecated in v3.0.0. This feature will be removed in v6.0.0. See https://github.com/optuna/optuna/releases/tag/v3.0.0. Use suggest_float instead.\n",
      "  reg_lambda = trial.suggest_uniform(\"reg_lambda\", 1.3, 2.3)\n",
      "C:\\Users\\104161\\AppData\\Local\\Temp\\ipykernel_7748\\755758792.py:14: FutureWarning: suggest_uniform has been deprecated in v3.0.0. This feature will be removed in v6.0.0. See https://github.com/optuna/optuna/releases/tag/v3.0.0. Use suggest_float instead.\n",
      "  reg_alpha = trial.suggest_uniform(\"reg_alpha\", 1.5, 2.2)\n",
      "C:\\Users\\104161\\AppData\\Local\\Temp\\ipykernel_7748\\755758792.py:15: FutureWarning: suggest_uniform has been deprecated in v3.0.0. This feature will be removed in v6.0.0. See https://github.com/optuna/optuna/releases/tag/v3.0.0. Use suggest_float instead.\n",
      "  colsample_bytree = trial.suggest_uniform(\"colsample_bytree\", 0.25, 0.8)\n",
      "5it [00:39,  7.90s/it]\n"
     ]
    },
    {
     "name": "stdout",
     "output_type": "stream",
     "text": [
      "y_Mean log_loss : 0.29183610530112103rs_\n"
     ]
    },
    {
     "name": "stderr",
     "output_type": "stream",
     "text": [
      "[I 2024-02-05 14:43:11,885] Trial 3 finished with value: 0.29183610530112103 and parameters: {'n_estimators': 1048, 'max_depth': 25, 'learning_rate': 0.21726730986302428, 'gamma': 0.42450543731043583, 'subsample': 0.5857635246313191, 'min_child_weight': 2.363558797366117, 'reg_lambda': 1.3183281386052215, 'reg_alpha': 2.0268857251521872, 'colsample_bytree': 0.6931379285085737}. Best is trial 1 with value: 0.27991561129853026.\n",
      "C:\\Users\\104161\\AppData\\Local\\Temp\\ipykernel_7748\\755758792.py:9: FutureWarning: suggest_uniform has been deprecated in v3.0.0. This feature will be removed in v6.0.0. See https://github.com/optuna/optuna/releases/tag/v3.0.0. Use suggest_float instead.\n",
      "  learning_rate = trial.suggest_uniform(\"learning_rate\", 0.01, 0.5)\n",
      "C:\\Users\\104161\\AppData\\Local\\Temp\\ipykernel_7748\\755758792.py:10: FutureWarning: suggest_uniform has been deprecated in v3.0.0. This feature will be removed in v6.0.0. See https://github.com/optuna/optuna/releases/tag/v3.0.0. Use suggest_float instead.\n",
      "  gamma = trial.suggest_uniform(\"gamma\", 0.05, 0.8)\n",
      "C:\\Users\\104161\\AppData\\Local\\Temp\\ipykernel_7748\\755758792.py:11: FutureWarning: suggest_uniform has been deprecated in v3.0.0. This feature will be removed in v6.0.0. See https://github.com/optuna/optuna/releases/tag/v3.0.0. Use suggest_float instead.\n",
      "  subsample = trial.suggest_uniform(\"subsample\", 0.5, 0.8)\n",
      "C:\\Users\\104161\\AppData\\Local\\Temp\\ipykernel_7748\\755758792.py:12: FutureWarning: suggest_uniform has been deprecated in v3.0.0. This feature will be removed in v6.0.0. See https://github.com/optuna/optuna/releases/tag/v3.0.0. Use suggest_float instead.\n",
      "  min_child_weight = trial.suggest_uniform(\"min_child_weight\", 0.5, 3)\n",
      "C:\\Users\\104161\\AppData\\Local\\Temp\\ipykernel_7748\\755758792.py:13: FutureWarning: suggest_uniform has been deprecated in v3.0.0. This feature will be removed in v6.0.0. See https://github.com/optuna/optuna/releases/tag/v3.0.0. Use suggest_float instead.\n",
      "  reg_lambda = trial.suggest_uniform(\"reg_lambda\", 1.3, 2.3)\n",
      "C:\\Users\\104161\\AppData\\Local\\Temp\\ipykernel_7748\\755758792.py:14: FutureWarning: suggest_uniform has been deprecated in v3.0.0. This feature will be removed in v6.0.0. See https://github.com/optuna/optuna/releases/tag/v3.0.0. Use suggest_float instead.\n",
      "  reg_alpha = trial.suggest_uniform(\"reg_alpha\", 1.5, 2.2)\n",
      "C:\\Users\\104161\\AppData\\Local\\Temp\\ipykernel_7748\\755758792.py:15: FutureWarning: suggest_uniform has been deprecated in v3.0.0. This feature will be removed in v6.0.0. See https://github.com/optuna/optuna/releases/tag/v3.0.0. Use suggest_float instead.\n",
      "  colsample_bytree = trial.suggest_uniform(\"colsample_bytree\", 0.25, 0.8)\n",
      "5it [00:29,  5.82s/it]\n"
     ]
    },
    {
     "name": "stdout",
     "output_type": "stream",
     "text": [
      "y_Mean log_loss : 0.30684629813140807rs_\n"
     ]
    },
    {
     "name": "stderr",
     "output_type": "stream",
     "text": [
      "[I 2024-02-05 14:43:41,895] Trial 4 finished with value: 0.30684629813140807 and parameters: {'n_estimators': 627, 'max_depth': 23, 'learning_rate': 0.438633549076499, 'gamma': 0.37716572563027123, 'subsample': 0.6228451103068842, 'min_child_weight': 0.8450468365741421, 'reg_lambda': 1.819464052367378, 'reg_alpha': 1.6986564144019243, 'colsample_bytree': 0.7531236906918923}. Best is trial 1 with value: 0.27991561129853026.\n",
      "C:\\Users\\104161\\AppData\\Local\\Temp\\ipykernel_7748\\755758792.py:9: FutureWarning: suggest_uniform has been deprecated in v3.0.0. This feature will be removed in v6.0.0. See https://github.com/optuna/optuna/releases/tag/v3.0.0. Use suggest_float instead.\n",
      "  learning_rate = trial.suggest_uniform(\"learning_rate\", 0.01, 0.5)\n",
      "C:\\Users\\104161\\AppData\\Local\\Temp\\ipykernel_7748\\755758792.py:10: FutureWarning: suggest_uniform has been deprecated in v3.0.0. This feature will be removed in v6.0.0. See https://github.com/optuna/optuna/releases/tag/v3.0.0. Use suggest_float instead.\n",
      "  gamma = trial.suggest_uniform(\"gamma\", 0.05, 0.8)\n",
      "C:\\Users\\104161\\AppData\\Local\\Temp\\ipykernel_7748\\755758792.py:11: FutureWarning: suggest_uniform has been deprecated in v3.0.0. This feature will be removed in v6.0.0. See https://github.com/optuna/optuna/releases/tag/v3.0.0. Use suggest_float instead.\n",
      "  subsample = trial.suggest_uniform(\"subsample\", 0.5, 0.8)\n",
      "C:\\Users\\104161\\AppData\\Local\\Temp\\ipykernel_7748\\755758792.py:12: FutureWarning: suggest_uniform has been deprecated in v3.0.0. This feature will be removed in v6.0.0. See https://github.com/optuna/optuna/releases/tag/v3.0.0. Use suggest_float instead.\n",
      "  min_child_weight = trial.suggest_uniform(\"min_child_weight\", 0.5, 3)\n",
      "C:\\Users\\104161\\AppData\\Local\\Temp\\ipykernel_7748\\755758792.py:13: FutureWarning: suggest_uniform has been deprecated in v3.0.0. This feature will be removed in v6.0.0. See https://github.com/optuna/optuna/releases/tag/v3.0.0. Use suggest_float instead.\n",
      "  reg_lambda = trial.suggest_uniform(\"reg_lambda\", 1.3, 2.3)\n",
      "C:\\Users\\104161\\AppData\\Local\\Temp\\ipykernel_7748\\755758792.py:14: FutureWarning: suggest_uniform has been deprecated in v3.0.0. This feature will be removed in v6.0.0. See https://github.com/optuna/optuna/releases/tag/v3.0.0. Use suggest_float instead.\n",
      "  reg_alpha = trial.suggest_uniform(\"reg_alpha\", 1.5, 2.2)\n",
      "C:\\Users\\104161\\AppData\\Local\\Temp\\ipykernel_7748\\755758792.py:15: FutureWarning: suggest_uniform has been deprecated in v3.0.0. This feature will be removed in v6.0.0. See https://github.com/optuna/optuna/releases/tag/v3.0.0. Use suggest_float instead.\n",
      "  colsample_bytree = trial.suggest_uniform(\"colsample_bytree\", 0.25, 0.8)\n",
      "5it [00:42,  8.46s/it]\n"
     ]
    },
    {
     "name": "stdout",
     "output_type": "stream",
     "text": [
      "y_Mean log_loss : 0.281410575677988rs_\n"
     ]
    },
    {
     "name": "stderr",
     "output_type": "stream",
     "text": [
      "[I 2024-02-05 14:44:25,146] Trial 5 finished with value: 0.281410575677988 and parameters: {'n_estimators': 929, 'max_depth': 16, 'learning_rate': 0.1509417696559817, 'gamma': 0.39256732019916724, 'subsample': 0.5936968890870178, 'min_child_weight': 2.4119580011522475, 'reg_lambda': 2.0516831144430165, 'reg_alpha': 2.0968517332238537, 'colsample_bytree': 0.4783665006473903}. Best is trial 1 with value: 0.27991561129853026.\n",
      "C:\\Users\\104161\\AppData\\Local\\Temp\\ipykernel_7748\\755758792.py:9: FutureWarning: suggest_uniform has been deprecated in v3.0.0. This feature will be removed in v6.0.0. See https://github.com/optuna/optuna/releases/tag/v3.0.0. Use suggest_float instead.\n",
      "  learning_rate = trial.suggest_uniform(\"learning_rate\", 0.01, 0.5)\n",
      "C:\\Users\\104161\\AppData\\Local\\Temp\\ipykernel_7748\\755758792.py:10: FutureWarning: suggest_uniform has been deprecated in v3.0.0. This feature will be removed in v6.0.0. See https://github.com/optuna/optuna/releases/tag/v3.0.0. Use suggest_float instead.\n",
      "  gamma = trial.suggest_uniform(\"gamma\", 0.05, 0.8)\n",
      "C:\\Users\\104161\\AppData\\Local\\Temp\\ipykernel_7748\\755758792.py:11: FutureWarning: suggest_uniform has been deprecated in v3.0.0. This feature will be removed in v6.0.0. See https://github.com/optuna/optuna/releases/tag/v3.0.0. Use suggest_float instead.\n",
      "  subsample = trial.suggest_uniform(\"subsample\", 0.5, 0.8)\n",
      "C:\\Users\\104161\\AppData\\Local\\Temp\\ipykernel_7748\\755758792.py:12: FutureWarning: suggest_uniform has been deprecated in v3.0.0. This feature will be removed in v6.0.0. See https://github.com/optuna/optuna/releases/tag/v3.0.0. Use suggest_float instead.\n",
      "  min_child_weight = trial.suggest_uniform(\"min_child_weight\", 0.5, 3)\n",
      "C:\\Users\\104161\\AppData\\Local\\Temp\\ipykernel_7748\\755758792.py:13: FutureWarning: suggest_uniform has been deprecated in v3.0.0. This feature will be removed in v6.0.0. See https://github.com/optuna/optuna/releases/tag/v3.0.0. Use suggest_float instead.\n",
      "  reg_lambda = trial.suggest_uniform(\"reg_lambda\", 1.3, 2.3)\n",
      "C:\\Users\\104161\\AppData\\Local\\Temp\\ipykernel_7748\\755758792.py:14: FutureWarning: suggest_uniform has been deprecated in v3.0.0. This feature will be removed in v6.0.0. See https://github.com/optuna/optuna/releases/tag/v3.0.0. Use suggest_float instead.\n",
      "  reg_alpha = trial.suggest_uniform(\"reg_alpha\", 1.5, 2.2)\n",
      "C:\\Users\\104161\\AppData\\Local\\Temp\\ipykernel_7748\\755758792.py:15: FutureWarning: suggest_uniform has been deprecated in v3.0.0. This feature will be removed in v6.0.0. See https://github.com/optuna/optuna/releases/tag/v3.0.0. Use suggest_float instead.\n",
      "  colsample_bytree = trial.suggest_uniform(\"colsample_bytree\", 0.25, 0.8)\n",
      "5it [00:45,  9.11s/it]\n"
     ]
    },
    {
     "name": "stdout",
     "output_type": "stream",
     "text": [
      "y_Mean log_loss : 0.28492994077741574rs_\n"
     ]
    },
    {
     "name": "stderr",
     "output_type": "stream",
     "text": [
      "[I 2024-02-05 14:45:11,626] Trial 6 finished with value: 0.28492994077741574 and parameters: {'n_estimators': 1081, 'max_depth': 22, 'learning_rate': 0.09973425741239252, 'gamma': 0.5066088113460966, 'subsample': 0.5888739354408621, 'min_child_weight': 2.969621403928047, 'reg_lambda': 1.8635353719995345, 'reg_alpha': 1.583709738281168, 'colsample_bytree': 0.7562284231569402}. Best is trial 1 with value: 0.27991561129853026.\n",
      "C:\\Users\\104161\\AppData\\Local\\Temp\\ipykernel_7748\\755758792.py:9: FutureWarning: suggest_uniform has been deprecated in v3.0.0. This feature will be removed in v6.0.0. See https://github.com/optuna/optuna/releases/tag/v3.0.0. Use suggest_float instead.\n",
      "  learning_rate = trial.suggest_uniform(\"learning_rate\", 0.01, 0.5)\n",
      "C:\\Users\\104161\\AppData\\Local\\Temp\\ipykernel_7748\\755758792.py:10: FutureWarning: suggest_uniform has been deprecated in v3.0.0. This feature will be removed in v6.0.0. See https://github.com/optuna/optuna/releases/tag/v3.0.0. Use suggest_float instead.\n",
      "  gamma = trial.suggest_uniform(\"gamma\", 0.05, 0.8)\n",
      "C:\\Users\\104161\\AppData\\Local\\Temp\\ipykernel_7748\\755758792.py:11: FutureWarning: suggest_uniform has been deprecated in v3.0.0. This feature will be removed in v6.0.0. See https://github.com/optuna/optuna/releases/tag/v3.0.0. Use suggest_float instead.\n",
      "  subsample = trial.suggest_uniform(\"subsample\", 0.5, 0.8)\n",
      "C:\\Users\\104161\\AppData\\Local\\Temp\\ipykernel_7748\\755758792.py:12: FutureWarning: suggest_uniform has been deprecated in v3.0.0. This feature will be removed in v6.0.0. See https://github.com/optuna/optuna/releases/tag/v3.0.0. Use suggest_float instead.\n",
      "  min_child_weight = trial.suggest_uniform(\"min_child_weight\", 0.5, 3)\n",
      "C:\\Users\\104161\\AppData\\Local\\Temp\\ipykernel_7748\\755758792.py:13: FutureWarning: suggest_uniform has been deprecated in v3.0.0. This feature will be removed in v6.0.0. See https://github.com/optuna/optuna/releases/tag/v3.0.0. Use suggest_float instead.\n",
      "  reg_lambda = trial.suggest_uniform(\"reg_lambda\", 1.3, 2.3)\n",
      "C:\\Users\\104161\\AppData\\Local\\Temp\\ipykernel_7748\\755758792.py:14: FutureWarning: suggest_uniform has been deprecated in v3.0.0. This feature will be removed in v6.0.0. See https://github.com/optuna/optuna/releases/tag/v3.0.0. Use suggest_float instead.\n",
      "  reg_alpha = trial.suggest_uniform(\"reg_alpha\", 1.5, 2.2)\n",
      "C:\\Users\\104161\\AppData\\Local\\Temp\\ipykernel_7748\\755758792.py:15: FutureWarning: suggest_uniform has been deprecated in v3.0.0. This feature will be removed in v6.0.0. See https://github.com/optuna/optuna/releases/tag/v3.0.0. Use suggest_float instead.\n",
      "  colsample_bytree = trial.suggest_uniform(\"colsample_bytree\", 0.25, 0.8)\n",
      "5it [00:28,  5.68s/it]\n"
     ]
    },
    {
     "name": "stdout",
     "output_type": "stream",
     "text": [
      "y_Mean log_loss : 0.2792738399644056rs_\n"
     ]
    },
    {
     "name": "stderr",
     "output_type": "stream",
     "text": [
      "[I 2024-02-05 14:45:40,713] Trial 7 finished with value: 0.2792738399644056 and parameters: {'n_estimators': 597, 'max_depth': 17, 'learning_rate': 0.07637092741890077, 'gamma': 0.23297098396051247, 'subsample': 0.77776612934952, 'min_child_weight': 2.141518326737641, 'reg_lambda': 2.268302471866175, 'reg_alpha': 1.8605318656331928, 'colsample_bytree': 0.5810635567218015}. Best is trial 7 with value: 0.2792738399644056.\n",
      "C:\\Users\\104161\\AppData\\Local\\Temp\\ipykernel_7748\\755758792.py:9: FutureWarning: suggest_uniform has been deprecated in v3.0.0. This feature will be removed in v6.0.0. See https://github.com/optuna/optuna/releases/tag/v3.0.0. Use suggest_float instead.\n",
      "  learning_rate = trial.suggest_uniform(\"learning_rate\", 0.01, 0.5)\n",
      "C:\\Users\\104161\\AppData\\Local\\Temp\\ipykernel_7748\\755758792.py:10: FutureWarning: suggest_uniform has been deprecated in v3.0.0. This feature will be removed in v6.0.0. See https://github.com/optuna/optuna/releases/tag/v3.0.0. Use suggest_float instead.\n",
      "  gamma = trial.suggest_uniform(\"gamma\", 0.05, 0.8)\n",
      "C:\\Users\\104161\\AppData\\Local\\Temp\\ipykernel_7748\\755758792.py:11: FutureWarning: suggest_uniform has been deprecated in v3.0.0. This feature will be removed in v6.0.0. See https://github.com/optuna/optuna/releases/tag/v3.0.0. Use suggest_float instead.\n",
      "  subsample = trial.suggest_uniform(\"subsample\", 0.5, 0.8)\n",
      "C:\\Users\\104161\\AppData\\Local\\Temp\\ipykernel_7748\\755758792.py:12: FutureWarning: suggest_uniform has been deprecated in v3.0.0. This feature will be removed in v6.0.0. See https://github.com/optuna/optuna/releases/tag/v3.0.0. Use suggest_float instead.\n",
      "  min_child_weight = trial.suggest_uniform(\"min_child_weight\", 0.5, 3)\n",
      "C:\\Users\\104161\\AppData\\Local\\Temp\\ipykernel_7748\\755758792.py:13: FutureWarning: suggest_uniform has been deprecated in v3.0.0. This feature will be removed in v6.0.0. See https://github.com/optuna/optuna/releases/tag/v3.0.0. Use suggest_float instead.\n",
      "  reg_lambda = trial.suggest_uniform(\"reg_lambda\", 1.3, 2.3)\n",
      "C:\\Users\\104161\\AppData\\Local\\Temp\\ipykernel_7748\\755758792.py:14: FutureWarning: suggest_uniform has been deprecated in v3.0.0. This feature will be removed in v6.0.0. See https://github.com/optuna/optuna/releases/tag/v3.0.0. Use suggest_float instead.\n",
      "  reg_alpha = trial.suggest_uniform(\"reg_alpha\", 1.5, 2.2)\n",
      "C:\\Users\\104161\\AppData\\Local\\Temp\\ipykernel_7748\\755758792.py:15: FutureWarning: suggest_uniform has been deprecated in v3.0.0. This feature will be removed in v6.0.0. See https://github.com/optuna/optuna/releases/tag/v3.0.0. Use suggest_float instead.\n",
      "  colsample_bytree = trial.suggest_uniform(\"colsample_bytree\", 0.25, 0.8)\n",
      "5it [00:28,  5.67s/it]\n"
     ]
    },
    {
     "name": "stdout",
     "output_type": "stream",
     "text": [
      "y_Mean log_loss : 0.2837111898362281rs_\n"
     ]
    },
    {
     "name": "stderr",
     "output_type": "stream",
     "text": [
      "[I 2024-02-05 14:46:09,681] Trial 8 finished with value: 0.2837111898362281 and parameters: {'n_estimators': 682, 'max_depth': 30, 'learning_rate': 0.14117099679458264, 'gamma': 0.2089625503211836, 'subsample': 0.6824974017184366, 'min_child_weight': 1.7063041907868142, 'reg_lambda': 2.260343840375932, 'reg_alpha': 1.5128200270494123, 'colsample_bytree': 0.40739518071854275}. Best is trial 7 with value: 0.2792738399644056.\n",
      "C:\\Users\\104161\\AppData\\Local\\Temp\\ipykernel_7748\\755758792.py:9: FutureWarning: suggest_uniform has been deprecated in v3.0.0. This feature will be removed in v6.0.0. See https://github.com/optuna/optuna/releases/tag/v3.0.0. Use suggest_float instead.\n",
      "  learning_rate = trial.suggest_uniform(\"learning_rate\", 0.01, 0.5)\n",
      "C:\\Users\\104161\\AppData\\Local\\Temp\\ipykernel_7748\\755758792.py:10: FutureWarning: suggest_uniform has been deprecated in v3.0.0. This feature will be removed in v6.0.0. See https://github.com/optuna/optuna/releases/tag/v3.0.0. Use suggest_float instead.\n",
      "  gamma = trial.suggest_uniform(\"gamma\", 0.05, 0.8)\n",
      "C:\\Users\\104161\\AppData\\Local\\Temp\\ipykernel_7748\\755758792.py:11: FutureWarning: suggest_uniform has been deprecated in v3.0.0. This feature will be removed in v6.0.0. See https://github.com/optuna/optuna/releases/tag/v3.0.0. Use suggest_float instead.\n",
      "  subsample = trial.suggest_uniform(\"subsample\", 0.5, 0.8)\n",
      "C:\\Users\\104161\\AppData\\Local\\Temp\\ipykernel_7748\\755758792.py:12: FutureWarning: suggest_uniform has been deprecated in v3.0.0. This feature will be removed in v6.0.0. See https://github.com/optuna/optuna/releases/tag/v3.0.0. Use suggest_float instead.\n",
      "  min_child_weight = trial.suggest_uniform(\"min_child_weight\", 0.5, 3)\n",
      "C:\\Users\\104161\\AppData\\Local\\Temp\\ipykernel_7748\\755758792.py:13: FutureWarning: suggest_uniform has been deprecated in v3.0.0. This feature will be removed in v6.0.0. See https://github.com/optuna/optuna/releases/tag/v3.0.0. Use suggest_float instead.\n",
      "  reg_lambda = trial.suggest_uniform(\"reg_lambda\", 1.3, 2.3)\n",
      "C:\\Users\\104161\\AppData\\Local\\Temp\\ipykernel_7748\\755758792.py:14: FutureWarning: suggest_uniform has been deprecated in v3.0.0. This feature will be removed in v6.0.0. See https://github.com/optuna/optuna/releases/tag/v3.0.0. Use suggest_float instead.\n",
      "  reg_alpha = trial.suggest_uniform(\"reg_alpha\", 1.5, 2.2)\n",
      "C:\\Users\\104161\\AppData\\Local\\Temp\\ipykernel_7748\\755758792.py:15: FutureWarning: suggest_uniform has been deprecated in v3.0.0. This feature will be removed in v6.0.0. See https://github.com/optuna/optuna/releases/tag/v3.0.0. Use suggest_float instead.\n",
      "  colsample_bytree = trial.suggest_uniform(\"colsample_bytree\", 0.25, 0.8)\n",
      "5it [00:41,  8.28s/it]\n"
     ]
    },
    {
     "name": "stdout",
     "output_type": "stream",
     "text": [
      "y_Mean log_loss : 0.28103946157866544rs_\n"
     ]
    },
    {
     "name": "stderr",
     "output_type": "stream",
     "text": [
      "[I 2024-02-05 14:46:51,805] Trial 9 finished with value: 0.28103946157866544 and parameters: {'n_estimators': 1123, 'max_depth': 19, 'learning_rate': 0.12611068694815095, 'gamma': 0.2656969541957156, 'subsample': 0.6673346016497722, 'min_child_weight': 1.637637609021337, 'reg_lambda': 1.5885047666789829, 'reg_alpha': 1.995813111004263, 'colsample_bytree': 0.4187842208427162}. Best is trial 7 with value: 0.2792738399644056.\n",
      "C:\\Users\\104161\\AppData\\Local\\Temp\\ipykernel_7748\\755758792.py:9: FutureWarning: suggest_uniform has been deprecated in v3.0.0. This feature will be removed in v6.0.0. See https://github.com/optuna/optuna/releases/tag/v3.0.0. Use suggest_float instead.\n",
      "  learning_rate = trial.suggest_uniform(\"learning_rate\", 0.01, 0.5)\n",
      "C:\\Users\\104161\\AppData\\Local\\Temp\\ipykernel_7748\\755758792.py:10: FutureWarning: suggest_uniform has been deprecated in v3.0.0. This feature will be removed in v6.0.0. See https://github.com/optuna/optuna/releases/tag/v3.0.0. Use suggest_float instead.\n",
      "  gamma = trial.suggest_uniform(\"gamma\", 0.05, 0.8)\n",
      "C:\\Users\\104161\\AppData\\Local\\Temp\\ipykernel_7748\\755758792.py:11: FutureWarning: suggest_uniform has been deprecated in v3.0.0. This feature will be removed in v6.0.0. See https://github.com/optuna/optuna/releases/tag/v3.0.0. Use suggest_float instead.\n",
      "  subsample = trial.suggest_uniform(\"subsample\", 0.5, 0.8)\n",
      "C:\\Users\\104161\\AppData\\Local\\Temp\\ipykernel_7748\\755758792.py:12: FutureWarning: suggest_uniform has been deprecated in v3.0.0. This feature will be removed in v6.0.0. See https://github.com/optuna/optuna/releases/tag/v3.0.0. Use suggest_float instead.\n",
      "  min_child_weight = trial.suggest_uniform(\"min_child_weight\", 0.5, 3)\n",
      "C:\\Users\\104161\\AppData\\Local\\Temp\\ipykernel_7748\\755758792.py:13: FutureWarning: suggest_uniform has been deprecated in v3.0.0. This feature will be removed in v6.0.0. See https://github.com/optuna/optuna/releases/tag/v3.0.0. Use suggest_float instead.\n",
      "  reg_lambda = trial.suggest_uniform(\"reg_lambda\", 1.3, 2.3)\n",
      "C:\\Users\\104161\\AppData\\Local\\Temp\\ipykernel_7748\\755758792.py:14: FutureWarning: suggest_uniform has been deprecated in v3.0.0. This feature will be removed in v6.0.0. See https://github.com/optuna/optuna/releases/tag/v3.0.0. Use suggest_float instead.\n",
      "  reg_alpha = trial.suggest_uniform(\"reg_alpha\", 1.5, 2.2)\n",
      "C:\\Users\\104161\\AppData\\Local\\Temp\\ipykernel_7748\\755758792.py:15: FutureWarning: suggest_uniform has been deprecated in v3.0.0. This feature will be removed in v6.0.0. See https://github.com/optuna/optuna/releases/tag/v3.0.0. Use suggest_float instead.\n",
      "  colsample_bytree = trial.suggest_uniform(\"colsample_bytree\", 0.25, 0.8)\n",
      "5it [00:54, 10.97s/it]\n"
     ]
    },
    {
     "name": "stdout",
     "output_type": "stream",
     "text": [
      "y_Mean log_loss : 0.3780887134178295rs_\n"
     ]
    },
    {
     "name": "stderr",
     "output_type": "stream",
     "text": [
      "[I 2024-02-05 14:47:47,409] Trial 10 finished with value: 0.3780887134178295 and parameters: {'n_estimators': 798, 'max_depth': 15, 'learning_rate': 0.01036903466167223, 'gamma': 0.06358561962665954, 'subsample': 0.5003057127236731, 'min_child_weight': 1.2832026354878787, 'reg_lambda': 2.286982506163495, 'reg_alpha': 2.1793164493325583, 'colsample_bytree': 0.26840593517529776}. Best is trial 7 with value: 0.2792738399644056.\n",
      "C:\\Users\\104161\\AppData\\Local\\Temp\\ipykernel_7748\\755758792.py:9: FutureWarning: suggest_uniform has been deprecated in v3.0.0. This feature will be removed in v6.0.0. See https://github.com/optuna/optuna/releases/tag/v3.0.0. Use suggest_float instead.\n",
      "  learning_rate = trial.suggest_uniform(\"learning_rate\", 0.01, 0.5)\n",
      "C:\\Users\\104161\\AppData\\Local\\Temp\\ipykernel_7748\\755758792.py:10: FutureWarning: suggest_uniform has been deprecated in v3.0.0. This feature will be removed in v6.0.0. See https://github.com/optuna/optuna/releases/tag/v3.0.0. Use suggest_float instead.\n",
      "  gamma = trial.suggest_uniform(\"gamma\", 0.05, 0.8)\n",
      "C:\\Users\\104161\\AppData\\Local\\Temp\\ipykernel_7748\\755758792.py:11: FutureWarning: suggest_uniform has been deprecated in v3.0.0. This feature will be removed in v6.0.0. See https://github.com/optuna/optuna/releases/tag/v3.0.0. Use suggest_float instead.\n",
      "  subsample = trial.suggest_uniform(\"subsample\", 0.5, 0.8)\n",
      "C:\\Users\\104161\\AppData\\Local\\Temp\\ipykernel_7748\\755758792.py:12: FutureWarning: suggest_uniform has been deprecated in v3.0.0. This feature will be removed in v6.0.0. See https://github.com/optuna/optuna/releases/tag/v3.0.0. Use suggest_float instead.\n",
      "  min_child_weight = trial.suggest_uniform(\"min_child_weight\", 0.5, 3)\n",
      "C:\\Users\\104161\\AppData\\Local\\Temp\\ipykernel_7748\\755758792.py:13: FutureWarning: suggest_uniform has been deprecated in v3.0.0. This feature will be removed in v6.0.0. See https://github.com/optuna/optuna/releases/tag/v3.0.0. Use suggest_float instead.\n",
      "  reg_lambda = trial.suggest_uniform(\"reg_lambda\", 1.3, 2.3)\n",
      "C:\\Users\\104161\\AppData\\Local\\Temp\\ipykernel_7748\\755758792.py:14: FutureWarning: suggest_uniform has been deprecated in v3.0.0. This feature will be removed in v6.0.0. See https://github.com/optuna/optuna/releases/tag/v3.0.0. Use suggest_float instead.\n",
      "  reg_alpha = trial.suggest_uniform(\"reg_alpha\", 1.5, 2.2)\n",
      "C:\\Users\\104161\\AppData\\Local\\Temp\\ipykernel_7748\\755758792.py:15: FutureWarning: suggest_uniform has been deprecated in v3.0.0. This feature will be removed in v6.0.0. See https://github.com/optuna/optuna/releases/tag/v3.0.0. Use suggest_float instead.\n",
      "  colsample_bytree = trial.suggest_uniform(\"colsample_bytree\", 0.25, 0.8)\n",
      "5it [00:20,  4.01s/it]\n"
     ]
    },
    {
     "name": "stdout",
     "output_type": "stream",
     "text": [
      "y_Mean log_loss : 0.2820683596140782rs_\n"
     ]
    },
    {
     "name": "stderr",
     "output_type": "stream",
     "text": [
      "[I 2024-02-05 14:48:08,220] Trial 11 finished with value: 0.2820683596140782 and parameters: {'n_estimators': 503, 'max_depth': 26, 'learning_rate': 0.27855286494652837, 'gamma': 0.7878668117703136, 'subsample': 0.7990495124268577, 'min_child_weight': 2.0606872417970683, 'reg_lambda': 2.034671448828993, 'reg_alpha': 1.8125614087060964, 'colsample_bytree': 0.6007874379890042}. Best is trial 7 with value: 0.2792738399644056.\n",
      "C:\\Users\\104161\\AppData\\Local\\Temp\\ipykernel_7748\\755758792.py:9: FutureWarning: suggest_uniform has been deprecated in v3.0.0. This feature will be removed in v6.0.0. See https://github.com/optuna/optuna/releases/tag/v3.0.0. Use suggest_float instead.\n",
      "  learning_rate = trial.suggest_uniform(\"learning_rate\", 0.01, 0.5)\n",
      "C:\\Users\\104161\\AppData\\Local\\Temp\\ipykernel_7748\\755758792.py:10: FutureWarning: suggest_uniform has been deprecated in v3.0.0. This feature will be removed in v6.0.0. See https://github.com/optuna/optuna/releases/tag/v3.0.0. Use suggest_float instead.\n",
      "  gamma = trial.suggest_uniform(\"gamma\", 0.05, 0.8)\n",
      "C:\\Users\\104161\\AppData\\Local\\Temp\\ipykernel_7748\\755758792.py:11: FutureWarning: suggest_uniform has been deprecated in v3.0.0. This feature will be removed in v6.0.0. See https://github.com/optuna/optuna/releases/tag/v3.0.0. Use suggest_float instead.\n",
      "  subsample = trial.suggest_uniform(\"subsample\", 0.5, 0.8)\n",
      "C:\\Users\\104161\\AppData\\Local\\Temp\\ipykernel_7748\\755758792.py:12: FutureWarning: suggest_uniform has been deprecated in v3.0.0. This feature will be removed in v6.0.0. See https://github.com/optuna/optuna/releases/tag/v3.0.0. Use suggest_float instead.\n",
      "  min_child_weight = trial.suggest_uniform(\"min_child_weight\", 0.5, 3)\n",
      "C:\\Users\\104161\\AppData\\Local\\Temp\\ipykernel_7748\\755758792.py:13: FutureWarning: suggest_uniform has been deprecated in v3.0.0. This feature will be removed in v6.0.0. See https://github.com/optuna/optuna/releases/tag/v3.0.0. Use suggest_float instead.\n",
      "  reg_lambda = trial.suggest_uniform(\"reg_lambda\", 1.3, 2.3)\n",
      "C:\\Users\\104161\\AppData\\Local\\Temp\\ipykernel_7748\\755758792.py:14: FutureWarning: suggest_uniform has been deprecated in v3.0.0. This feature will be removed in v6.0.0. See https://github.com/optuna/optuna/releases/tag/v3.0.0. Use suggest_float instead.\n",
      "  reg_alpha = trial.suggest_uniform(\"reg_alpha\", 1.5, 2.2)\n",
      "C:\\Users\\104161\\AppData\\Local\\Temp\\ipykernel_7748\\755758792.py:15: FutureWarning: suggest_uniform has been deprecated in v3.0.0. This feature will be removed in v6.0.0. See https://github.com/optuna/optuna/releases/tag/v3.0.0. Use suggest_float instead.\n",
      "  colsample_bytree = trial.suggest_uniform(\"colsample_bytree\", 0.25, 0.8)\n",
      "5it [00:36,  7.36s/it]\n"
     ]
    },
    {
     "name": "stdout",
     "output_type": "stream",
     "text": [
      "y_Mean log_loss : 0.27981841952791814rs_\n"
     ]
    },
    {
     "name": "stderr",
     "output_type": "stream",
     "text": [
      "[I 2024-02-05 14:48:45,849] Trial 12 finished with value: 0.27981841952791814 and parameters: {'n_estimators': 860, 'max_depth': 20, 'learning_rate': 0.2573641274381523, 'gamma': 0.7658016968644082, 'subsample': 0.7510361333409219, 'min_child_weight': 1.9873729815313326, 'reg_lambda': 2.139130573976062, 'reg_alpha': 1.8645746743898726, 'colsample_bytree': 0.5811044227114709}. Best is trial 7 with value: 0.2792738399644056.\n",
      "C:\\Users\\104161\\AppData\\Local\\Temp\\ipykernel_7748\\755758792.py:9: FutureWarning: suggest_uniform has been deprecated in v3.0.0. This feature will be removed in v6.0.0. See https://github.com/optuna/optuna/releases/tag/v3.0.0. Use suggest_float instead.\n",
      "  learning_rate = trial.suggest_uniform(\"learning_rate\", 0.01, 0.5)\n",
      "C:\\Users\\104161\\AppData\\Local\\Temp\\ipykernel_7748\\755758792.py:10: FutureWarning: suggest_uniform has been deprecated in v3.0.0. This feature will be removed in v6.0.0. See https://github.com/optuna/optuna/releases/tag/v3.0.0. Use suggest_float instead.\n",
      "  gamma = trial.suggest_uniform(\"gamma\", 0.05, 0.8)\n",
      "C:\\Users\\104161\\AppData\\Local\\Temp\\ipykernel_7748\\755758792.py:11: FutureWarning: suggest_uniform has been deprecated in v3.0.0. This feature will be removed in v6.0.0. See https://github.com/optuna/optuna/releases/tag/v3.0.0. Use suggest_float instead.\n",
      "  subsample = trial.suggest_uniform(\"subsample\", 0.5, 0.8)\n",
      "C:\\Users\\104161\\AppData\\Local\\Temp\\ipykernel_7748\\755758792.py:12: FutureWarning: suggest_uniform has been deprecated in v3.0.0. This feature will be removed in v6.0.0. See https://github.com/optuna/optuna/releases/tag/v3.0.0. Use suggest_float instead.\n",
      "  min_child_weight = trial.suggest_uniform(\"min_child_weight\", 0.5, 3)\n",
      "C:\\Users\\104161\\AppData\\Local\\Temp\\ipykernel_7748\\755758792.py:13: FutureWarning: suggest_uniform has been deprecated in v3.0.0. This feature will be removed in v6.0.0. See https://github.com/optuna/optuna/releases/tag/v3.0.0. Use suggest_float instead.\n",
      "  reg_lambda = trial.suggest_uniform(\"reg_lambda\", 1.3, 2.3)\n",
      "C:\\Users\\104161\\AppData\\Local\\Temp\\ipykernel_7748\\755758792.py:14: FutureWarning: suggest_uniform has been deprecated in v3.0.0. This feature will be removed in v6.0.0. See https://github.com/optuna/optuna/releases/tag/v3.0.0. Use suggest_float instead.\n",
      "  reg_alpha = trial.suggest_uniform(\"reg_alpha\", 1.5, 2.2)\n",
      "C:\\Users\\104161\\AppData\\Local\\Temp\\ipykernel_7748\\755758792.py:15: FutureWarning: suggest_uniform has been deprecated in v3.0.0. This feature will be removed in v6.0.0. See https://github.com/optuna/optuna/releases/tag/v3.0.0. Use suggest_float instead.\n",
      "  colsample_bytree = trial.suggest_uniform(\"colsample_bytree\", 0.25, 0.8)\n",
      "5it [00:52, 10.42s/it]\n"
     ]
    },
    {
     "name": "stdout",
     "output_type": "stream",
     "text": [
      "y_Mean log_loss : 0.2816449552381469rs_\n"
     ]
    },
    {
     "name": "stderr",
     "output_type": "stream",
     "text": [
      "[I 2024-02-05 14:49:38,725] Trial 13 finished with value: 0.2816449552381469 and parameters: {'n_estimators': 820, 'max_depth': 19, 'learning_rate': 0.01802843135691596, 'gamma': 0.62599090580666, 'subsample': 0.7393106241877193, 'min_child_weight': 1.9637469557976264, 'reg_lambda': 2.291477130884288, 'reg_alpha': 1.8804710689011104, 'colsample_bytree': 0.5533830528236161}. Best is trial 7 with value: 0.2792738399644056.\n",
      "C:\\Users\\104161\\AppData\\Local\\Temp\\ipykernel_7748\\755758792.py:9: FutureWarning: suggest_uniform has been deprecated in v3.0.0. This feature will be removed in v6.0.0. See https://github.com/optuna/optuna/releases/tag/v3.0.0. Use suggest_float instead.\n",
      "  learning_rate = trial.suggest_uniform(\"learning_rate\", 0.01, 0.5)\n",
      "C:\\Users\\104161\\AppData\\Local\\Temp\\ipykernel_7748\\755758792.py:10: FutureWarning: suggest_uniform has been deprecated in v3.0.0. This feature will be removed in v6.0.0. See https://github.com/optuna/optuna/releases/tag/v3.0.0. Use suggest_float instead.\n",
      "  gamma = trial.suggest_uniform(\"gamma\", 0.05, 0.8)\n",
      "C:\\Users\\104161\\AppData\\Local\\Temp\\ipykernel_7748\\755758792.py:11: FutureWarning: suggest_uniform has been deprecated in v3.0.0. This feature will be removed in v6.0.0. See https://github.com/optuna/optuna/releases/tag/v3.0.0. Use suggest_float instead.\n",
      "  subsample = trial.suggest_uniform(\"subsample\", 0.5, 0.8)\n",
      "C:\\Users\\104161\\AppData\\Local\\Temp\\ipykernel_7748\\755758792.py:12: FutureWarning: suggest_uniform has been deprecated in v3.0.0. This feature will be removed in v6.0.0. See https://github.com/optuna/optuna/releases/tag/v3.0.0. Use suggest_float instead.\n",
      "  min_child_weight = trial.suggest_uniform(\"min_child_weight\", 0.5, 3)\n",
      "C:\\Users\\104161\\AppData\\Local\\Temp\\ipykernel_7748\\755758792.py:13: FutureWarning: suggest_uniform has been deprecated in v3.0.0. This feature will be removed in v6.0.0. See https://github.com/optuna/optuna/releases/tag/v3.0.0. Use suggest_float instead.\n",
      "  reg_lambda = trial.suggest_uniform(\"reg_lambda\", 1.3, 2.3)\n",
      "C:\\Users\\104161\\AppData\\Local\\Temp\\ipykernel_7748\\755758792.py:14: FutureWarning: suggest_uniform has been deprecated in v3.0.0. This feature will be removed in v6.0.0. See https://github.com/optuna/optuna/releases/tag/v3.0.0. Use suggest_float instead.\n",
      "  reg_alpha = trial.suggest_uniform(\"reg_alpha\", 1.5, 2.2)\n",
      "C:\\Users\\104161\\AppData\\Local\\Temp\\ipykernel_7748\\755758792.py:15: FutureWarning: suggest_uniform has been deprecated in v3.0.0. This feature will be removed in v6.0.0. See https://github.com/optuna/optuna/releases/tag/v3.0.0. Use suggest_float instead.\n",
      "  colsample_bytree = trial.suggest_uniform(\"colsample_bytree\", 0.25, 0.8)\n",
      "5it [00:19,  3.94s/it]\n"
     ]
    },
    {
     "name": "stdout",
     "output_type": "stream",
     "text": [
      "y_Mean log_loss : 0.2796702019868234rs_\n"
     ]
    },
    {
     "name": "stderr",
     "output_type": "stream",
     "text": [
      "[I 2024-02-05 14:49:59,129] Trial 14 finished with value: 0.2796702019868234 and parameters: {'n_estimators': 532, 'max_depth': 21, 'learning_rate': 0.21314425012837843, 'gamma': 0.5506498587177985, 'subsample': 0.7321813535662509, 'min_child_weight': 1.5221615891273836, 'reg_lambda': 2.1283419362309797, 'reg_alpha': 1.9270904351848996, 'colsample_bytree': 0.5372544377228453}. Best is trial 7 with value: 0.2792738399644056.\n"
     ]
    }
   ],
   "source": [
    "num_trails = 15\n",
    "study = optuna.create_study(direction='minimize', study_name='s4e2-feb2024-xgboost-optuna')\n",
    "optimization_function = partial(optimize, X=X, y=y, n_splits=5)\n",
    "study.optimize(optimization_function,n_trials=num_trails, callbacks=[callback])"
   ]
  },
  {
   "cell_type": "markdown",
   "metadata": {},
   "source": [
    "- optuna_check"
   ]
  },
  {
   "cell_type": "code",
   "execution_count": 22,
   "metadata": {},
   "outputs": [
    {
     "name": "stdout",
     "output_type": "stream",
     "text": [
      "Best trial: score 0.2792738399644056, params {'n_estimators': 597, 'max_depth': 17, 'learning_rate': 0.07637092741890077, 'gamma': 0.23297098396051247, 'subsample': 0.77776612934952, 'min_child_weight': 2.141518326737641, 'reg_lambda': 2.268302471866175, 'reg_alpha': 1.8605318656331928, 'colsample_bytree': 0.5810635567218015}\n"
     ]
    }
   ],
   "source": [
    "print('Best trial: score {}, params {}'.format(study.best_trial.value, study.best_trial.params))"
   ]
  },
  {
   "cell_type": "code",
   "execution_count": 23,
   "metadata": {},
   "outputs": [
    {
     "data": {
      "text/plain": [
       "{'n_estimators': 597,\n",
       " 'max_depth': 17,\n",
       " 'learning_rate': 0.07637092741890077,\n",
       " 'gamma': 0.23297098396051247,\n",
       " 'subsample': 0.77776612934952,\n",
       " 'min_child_weight': 2.141518326737641,\n",
       " 'reg_lambda': 2.268302471866175,\n",
       " 'reg_alpha': 1.8605318656331928,\n",
       " 'colsample_bytree': 0.5810635567218015}"
      ]
     },
     "execution_count": 23,
     "metadata": {},
     "output_type": "execute_result"
    }
   ],
   "source": [
    "study.best_trial.params"
   ]
  },
  {
   "cell_type": "markdown",
   "metadata": {},
   "source": [
    "- xgboost_optuna"
   ]
  },
  {
   "cell_type": "code",
   "execution_count": 26,
   "metadata": {},
   "outputs": [
    {
     "data": {
      "text/plain": [
       "{'use_label_encoder': False,\n",
       " 'eval_metric': 'logloss',\n",
       " 'objective': 'multi:softmax',\n",
       " 'verbosity': 1,\n",
       " 'random_state': 42,\n",
       " 'n_estimators': 597,\n",
       " 'max_depth': 17,\n",
       " 'learning_rate': 0.07637092741890077,\n",
       " 'gamma': 0.23297098396051247,\n",
       " 'subsample': 0.77776612934952,\n",
       " 'min_child_weight': 2.141518326737641,\n",
       " 'reg_lambda': 2.268302471866175,\n",
       " 'reg_alpha': 1.8605318656331928,\n",
       " 'colsample_bytree': 0.5810635567218015}"
      ]
     },
     "execution_count": 26,
     "metadata": {},
     "output_type": "execute_result"
    }
   ],
   "source": [
    "params = dict(use_label_encoder=False,\n",
    "                  eval_metric='logloss',\n",
    "                  objective='multi:softmax',\n",
    "              verbosity=1,\n",
    "              random_state=42)\n",
    "params.update(study.best_trial.params)\n",
    "# gpu_params = dict(tree_method='gpu_hist',gpu_id=0)\n",
    "# params.update(gpu_params)\n",
    "params"
   ]
  },
  {
   "cell_type": "code",
   "execution_count": 27,
   "metadata": {},
   "outputs": [
    {
     "data": {
      "text/html": [
       "<style>#sk-container-id-1 {color: black;background-color: white;}#sk-container-id-1 pre{padding: 0;}#sk-container-id-1 div.sk-toggleable {background-color: white;}#sk-container-id-1 label.sk-toggleable__label {cursor: pointer;display: block;width: 100%;margin-bottom: 0;padding: 0.3em;box-sizing: border-box;text-align: center;}#sk-container-id-1 label.sk-toggleable__label-arrow:before {content: \"▸\";float: left;margin-right: 0.25em;color: #696969;}#sk-container-id-1 label.sk-toggleable__label-arrow:hover:before {color: black;}#sk-container-id-1 div.sk-estimator:hover label.sk-toggleable__label-arrow:before {color: black;}#sk-container-id-1 div.sk-toggleable__content {max-height: 0;max-width: 0;overflow: hidden;text-align: left;background-color: #f0f8ff;}#sk-container-id-1 div.sk-toggleable__content pre {margin: 0.2em;color: black;border-radius: 0.25em;background-color: #f0f8ff;}#sk-container-id-1 input.sk-toggleable__control:checked~div.sk-toggleable__content {max-height: 200px;max-width: 100%;overflow: auto;}#sk-container-id-1 input.sk-toggleable__control:checked~label.sk-toggleable__label-arrow:before {content: \"▾\";}#sk-container-id-1 div.sk-estimator input.sk-toggleable__control:checked~label.sk-toggleable__label {background-color: #d4ebff;}#sk-container-id-1 div.sk-label input.sk-toggleable__control:checked~label.sk-toggleable__label {background-color: #d4ebff;}#sk-container-id-1 input.sk-hidden--visually {border: 0;clip: rect(1px 1px 1px 1px);clip: rect(1px, 1px, 1px, 1px);height: 1px;margin: -1px;overflow: hidden;padding: 0;position: absolute;width: 1px;}#sk-container-id-1 div.sk-estimator {font-family: monospace;background-color: #f0f8ff;border: 1px dotted black;border-radius: 0.25em;box-sizing: border-box;margin-bottom: 0.5em;}#sk-container-id-1 div.sk-estimator:hover {background-color: #d4ebff;}#sk-container-id-1 div.sk-parallel-item::after {content: \"\";width: 100%;border-bottom: 1px solid gray;flex-grow: 1;}#sk-container-id-1 div.sk-label:hover label.sk-toggleable__label {background-color: #d4ebff;}#sk-container-id-1 div.sk-serial::before {content: \"\";position: absolute;border-left: 1px solid gray;box-sizing: border-box;top: 0;bottom: 0;left: 50%;z-index: 0;}#sk-container-id-1 div.sk-serial {display: flex;flex-direction: column;align-items: center;background-color: white;padding-right: 0.2em;padding-left: 0.2em;position: relative;}#sk-container-id-1 div.sk-item {position: relative;z-index: 1;}#sk-container-id-1 div.sk-parallel {display: flex;align-items: stretch;justify-content: center;background-color: white;position: relative;}#sk-container-id-1 div.sk-item::before, #sk-container-id-1 div.sk-parallel-item::before {content: \"\";position: absolute;border-left: 1px solid gray;box-sizing: border-box;top: 0;bottom: 0;left: 50%;z-index: -1;}#sk-container-id-1 div.sk-parallel-item {display: flex;flex-direction: column;z-index: 1;position: relative;background-color: white;}#sk-container-id-1 div.sk-parallel-item:first-child::after {align-self: flex-end;width: 50%;}#sk-container-id-1 div.sk-parallel-item:last-child::after {align-self: flex-start;width: 50%;}#sk-container-id-1 div.sk-parallel-item:only-child::after {width: 0;}#sk-container-id-1 div.sk-dashed-wrapped {border: 1px dashed gray;margin: 0 0.4em 0.5em 0.4em;box-sizing: border-box;padding-bottom: 0.4em;background-color: white;}#sk-container-id-1 div.sk-label label {font-family: monospace;font-weight: bold;display: inline-block;line-height: 1.2em;}#sk-container-id-1 div.sk-label-container {text-align: center;}#sk-container-id-1 div.sk-container {/* jupyter's `normalize.less` sets `[hidden] { display: none; }` but bootstrap.min.css set `[hidden] { display: none !important; }` so we also need the `!important` here to be able to override the default hidden behavior on the sphinx rendered scikit-learn.org. See: https://github.com/scikit-learn/scikit-learn/issues/21755 */display: inline-block !important;position: relative;}#sk-container-id-1 div.sk-text-repr-fallback {display: none;}</style><div id=\"sk-container-id-1\" class=\"sk-top-container\"><div class=\"sk-text-repr-fallback\"><pre>Pipeline(steps=[(&#x27;preprocessor&#x27;,\n",
       "                 ColumnTransformer(transformers=[(&#x27;num&#x27;,\n",
       "                                                  Pipeline(steps=[(&#x27;scaler&#x27;,\n",
       "                                                                   StandardScaler())]),\n",
       "                                                  [&#x27;Height&#x27;, &#x27;Weight&#x27;]),\n",
       "                                                 (&#x27;cat&#x27;,\n",
       "                                                  Pipeline(steps=[(&#x27;onehot&#x27;,\n",
       "                                                                   OneHotEncoder(handle_unknown=&#x27;ignore&#x27;))]),\n",
       "                                                  [&#x27;Gender&#x27;,\n",
       "                                                   &#x27;family_history_with_overweight&#x27;,\n",
       "                                                   &#x27;FAVC&#x27;, &#x27;CAEC&#x27;, &#x27;SMOKE&#x27;,\n",
       "                                                   &#x27;SCC&#x27;, &#x27;CALC&#x27;, &#x27;MTRANS&#x27;]),\n",
       "                                                 (&#x27;ordinal&#x27;,\n",
       "                                                  Pipeline(steps=[(&#x27;ordinal&#x27;,\n",
       "                                                                   OrdinalEnc...\n",
       "                               grow_policy=None, importance_type=None,\n",
       "                               interaction_constraints=None,\n",
       "                               learning_rate=0.07637092741890077, max_bin=None,\n",
       "                               max_cat_threshold=None, max_cat_to_onehot=None,\n",
       "                               max_delta_step=None, max_depth=17,\n",
       "                               max_leaves=None,\n",
       "                               min_child_weight=2.141518326737641, missing=nan,\n",
       "                               monotone_constraints=None, multi_strategy=None,\n",
       "                               n_estimators=597, n_jobs=None,\n",
       "                               num_parallel_tree=None,\n",
       "                               objective=&#x27;multi:softmax&#x27;, ...))])</pre><b>In a Jupyter environment, please rerun this cell to show the HTML representation or trust the notebook. <br />On GitHub, the HTML representation is unable to render, please try loading this page with nbviewer.org.</b></div><div class=\"sk-container\" hidden><div class=\"sk-item sk-dashed-wrapped\"><div class=\"sk-label-container\"><div class=\"sk-label sk-toggleable\"><input class=\"sk-toggleable__control sk-hidden--visually\" id=\"sk-estimator-id-1\" type=\"checkbox\" ><label for=\"sk-estimator-id-1\" class=\"sk-toggleable__label sk-toggleable__label-arrow\">Pipeline</label><div class=\"sk-toggleable__content\"><pre>Pipeline(steps=[(&#x27;preprocessor&#x27;,\n",
       "                 ColumnTransformer(transformers=[(&#x27;num&#x27;,\n",
       "                                                  Pipeline(steps=[(&#x27;scaler&#x27;,\n",
       "                                                                   StandardScaler())]),\n",
       "                                                  [&#x27;Height&#x27;, &#x27;Weight&#x27;]),\n",
       "                                                 (&#x27;cat&#x27;,\n",
       "                                                  Pipeline(steps=[(&#x27;onehot&#x27;,\n",
       "                                                                   OneHotEncoder(handle_unknown=&#x27;ignore&#x27;))]),\n",
       "                                                  [&#x27;Gender&#x27;,\n",
       "                                                   &#x27;family_history_with_overweight&#x27;,\n",
       "                                                   &#x27;FAVC&#x27;, &#x27;CAEC&#x27;, &#x27;SMOKE&#x27;,\n",
       "                                                   &#x27;SCC&#x27;, &#x27;CALC&#x27;, &#x27;MTRANS&#x27;]),\n",
       "                                                 (&#x27;ordinal&#x27;,\n",
       "                                                  Pipeline(steps=[(&#x27;ordinal&#x27;,\n",
       "                                                                   OrdinalEnc...\n",
       "                               grow_policy=None, importance_type=None,\n",
       "                               interaction_constraints=None,\n",
       "                               learning_rate=0.07637092741890077, max_bin=None,\n",
       "                               max_cat_threshold=None, max_cat_to_onehot=None,\n",
       "                               max_delta_step=None, max_depth=17,\n",
       "                               max_leaves=None,\n",
       "                               min_child_weight=2.141518326737641, missing=nan,\n",
       "                               monotone_constraints=None, multi_strategy=None,\n",
       "                               n_estimators=597, n_jobs=None,\n",
       "                               num_parallel_tree=None,\n",
       "                               objective=&#x27;multi:softmax&#x27;, ...))])</pre></div></div></div><div class=\"sk-serial\"><div class=\"sk-item sk-dashed-wrapped\"><div class=\"sk-label-container\"><div class=\"sk-label sk-toggleable\"><input class=\"sk-toggleable__control sk-hidden--visually\" id=\"sk-estimator-id-2\" type=\"checkbox\" ><label for=\"sk-estimator-id-2\" class=\"sk-toggleable__label sk-toggleable__label-arrow\">preprocessor: ColumnTransformer</label><div class=\"sk-toggleable__content\"><pre>ColumnTransformer(transformers=[(&#x27;num&#x27;,\n",
       "                                 Pipeline(steps=[(&#x27;scaler&#x27;, StandardScaler())]),\n",
       "                                 [&#x27;Height&#x27;, &#x27;Weight&#x27;]),\n",
       "                                (&#x27;cat&#x27;,\n",
       "                                 Pipeline(steps=[(&#x27;onehot&#x27;,\n",
       "                                                  OneHotEncoder(handle_unknown=&#x27;ignore&#x27;))]),\n",
       "                                 [&#x27;Gender&#x27;, &#x27;family_history_with_overweight&#x27;,\n",
       "                                  &#x27;FAVC&#x27;, &#x27;CAEC&#x27;, &#x27;SMOKE&#x27;, &#x27;SCC&#x27;, &#x27;CALC&#x27;,\n",
       "                                  &#x27;MTRANS&#x27;]),\n",
       "                                (&#x27;ordinal&#x27;,\n",
       "                                 Pipeline(steps=[(&#x27;ordinal&#x27;,\n",
       "                                                  OrdinalEncoder(handle_unknown=&#x27;use_encoded_value&#x27;,\n",
       "                                                                 unknown_value=nan))]),\n",
       "                                 [&#x27;Age_Cat&#x27;, &#x27;FCVC_Cat&#x27;, &#x27;NCP_Cat&#x27;, &#x27;CH2O_Cat&#x27;,\n",
       "                                  &#x27;FAF_Cat&#x27;, &#x27;TUE_Cat&#x27;])])</pre></div></div></div><div class=\"sk-parallel\"><div class=\"sk-parallel-item\"><div class=\"sk-item\"><div class=\"sk-label-container\"><div class=\"sk-label sk-toggleable\"><input class=\"sk-toggleable__control sk-hidden--visually\" id=\"sk-estimator-id-3\" type=\"checkbox\" ><label for=\"sk-estimator-id-3\" class=\"sk-toggleable__label sk-toggleable__label-arrow\">num</label><div class=\"sk-toggleable__content\"><pre>[&#x27;Height&#x27;, &#x27;Weight&#x27;]</pre></div></div></div><div class=\"sk-serial\"><div class=\"sk-item\"><div class=\"sk-serial\"><div class=\"sk-item\"><div class=\"sk-estimator sk-toggleable\"><input class=\"sk-toggleable__control sk-hidden--visually\" id=\"sk-estimator-id-4\" type=\"checkbox\" ><label for=\"sk-estimator-id-4\" class=\"sk-toggleable__label sk-toggleable__label-arrow\">StandardScaler</label><div class=\"sk-toggleable__content\"><pre>StandardScaler()</pre></div></div></div></div></div></div></div></div><div class=\"sk-parallel-item\"><div class=\"sk-item\"><div class=\"sk-label-container\"><div class=\"sk-label sk-toggleable\"><input class=\"sk-toggleable__control sk-hidden--visually\" id=\"sk-estimator-id-5\" type=\"checkbox\" ><label for=\"sk-estimator-id-5\" class=\"sk-toggleable__label sk-toggleable__label-arrow\">cat</label><div class=\"sk-toggleable__content\"><pre>[&#x27;Gender&#x27;, &#x27;family_history_with_overweight&#x27;, &#x27;FAVC&#x27;, &#x27;CAEC&#x27;, &#x27;SMOKE&#x27;, &#x27;SCC&#x27;, &#x27;CALC&#x27;, &#x27;MTRANS&#x27;]</pre></div></div></div><div class=\"sk-serial\"><div class=\"sk-item\"><div class=\"sk-serial\"><div class=\"sk-item\"><div class=\"sk-estimator sk-toggleable\"><input class=\"sk-toggleable__control sk-hidden--visually\" id=\"sk-estimator-id-6\" type=\"checkbox\" ><label for=\"sk-estimator-id-6\" class=\"sk-toggleable__label sk-toggleable__label-arrow\">OneHotEncoder</label><div class=\"sk-toggleable__content\"><pre>OneHotEncoder(handle_unknown=&#x27;ignore&#x27;)</pre></div></div></div></div></div></div></div></div><div class=\"sk-parallel-item\"><div class=\"sk-item\"><div class=\"sk-label-container\"><div class=\"sk-label sk-toggleable\"><input class=\"sk-toggleable__control sk-hidden--visually\" id=\"sk-estimator-id-7\" type=\"checkbox\" ><label for=\"sk-estimator-id-7\" class=\"sk-toggleable__label sk-toggleable__label-arrow\">ordinal</label><div class=\"sk-toggleable__content\"><pre>[&#x27;Age_Cat&#x27;, &#x27;FCVC_Cat&#x27;, &#x27;NCP_Cat&#x27;, &#x27;CH2O_Cat&#x27;, &#x27;FAF_Cat&#x27;, &#x27;TUE_Cat&#x27;]</pre></div></div></div><div class=\"sk-serial\"><div class=\"sk-item\"><div class=\"sk-serial\"><div class=\"sk-item\"><div class=\"sk-estimator sk-toggleable\"><input class=\"sk-toggleable__control sk-hidden--visually\" id=\"sk-estimator-id-8\" type=\"checkbox\" ><label for=\"sk-estimator-id-8\" class=\"sk-toggleable__label sk-toggleable__label-arrow\">OrdinalEncoder</label><div class=\"sk-toggleable__content\"><pre>OrdinalEncoder(handle_unknown=&#x27;use_encoded_value&#x27;, unknown_value=nan)</pre></div></div></div></div></div></div></div></div></div></div><div class=\"sk-item\"><div class=\"sk-estimator sk-toggleable\"><input class=\"sk-toggleable__control sk-hidden--visually\" id=\"sk-estimator-id-9\" type=\"checkbox\" ><label for=\"sk-estimator-id-9\" class=\"sk-toggleable__label sk-toggleable__label-arrow\">XGBClassifier</label><div class=\"sk-toggleable__content\"><pre>XGBClassifier(base_score=None, booster=None, callbacks=None,\n",
       "              colsample_bylevel=None, colsample_bynode=None,\n",
       "              colsample_bytree=0.5810635567218015, device=None,\n",
       "              early_stopping_rounds=None, enable_categorical=False,\n",
       "              eval_metric=&#x27;logloss&#x27;, feature_types=None,\n",
       "              gamma=0.23297098396051247, grow_policy=None, importance_type=None,\n",
       "              interaction_constraints=None, learning_rate=0.07637092741890077,\n",
       "              max_bin=None, max_cat_threshold=None, max_cat_to_onehot=None,\n",
       "              max_delta_step=None, max_depth=17, max_leaves=None,\n",
       "              min_child_weight=2.141518326737641, missing=nan,\n",
       "              monotone_constraints=None, multi_strategy=None, n_estimators=597,\n",
       "              n_jobs=None, num_parallel_tree=None, objective=&#x27;multi:softmax&#x27;, ...)</pre></div></div></div></div></div></div></div>"
      ],
      "text/plain": [
       "Pipeline(steps=[('preprocessor',\n",
       "                 ColumnTransformer(transformers=[('num',\n",
       "                                                  Pipeline(steps=[('scaler',\n",
       "                                                                   StandardScaler())]),\n",
       "                                                  ['Height', 'Weight']),\n",
       "                                                 ('cat',\n",
       "                                                  Pipeline(steps=[('onehot',\n",
       "                                                                   OneHotEncoder(handle_unknown='ignore'))]),\n",
       "                                                  ['Gender',\n",
       "                                                   'family_history_with_overweight',\n",
       "                                                   'FAVC', 'CAEC', 'SMOKE',\n",
       "                                                   'SCC', 'CALC', 'MTRANS']),\n",
       "                                                 ('ordinal',\n",
       "                                                  Pipeline(steps=[('ordinal',\n",
       "                                                                   OrdinalEnc...\n",
       "                               grow_policy=None, importance_type=None,\n",
       "                               interaction_constraints=None,\n",
       "                               learning_rate=0.07637092741890077, max_bin=None,\n",
       "                               max_cat_threshold=None, max_cat_to_onehot=None,\n",
       "                               max_delta_step=None, max_depth=17,\n",
       "                               max_leaves=None,\n",
       "                               min_child_weight=2.141518326737641, missing=nan,\n",
       "                               monotone_constraints=None, multi_strategy=None,\n",
       "                               n_estimators=597, n_jobs=None,\n",
       "                               num_parallel_tree=None,\n",
       "                               objective='multi:softmax', ...))])"
      ]
     },
     "execution_count": 27,
     "metadata": {},
     "output_type": "execute_result"
    }
   ],
   "source": [
    "best_model = build_model(XGBClassifier(**params))\n",
    "best_model.fit(X,y)"
   ]
  },
  {
   "cell_type": "markdown",
   "metadata": {},
   "source": [
    "# val予測"
   ]
  },
  {
   "cell_type": "code",
   "execution_count": 9,
   "metadata": {},
   "outputs": [],
   "source": [
    "y_val_pred = base_model.predict(X_val)"
   ]
  },
  {
   "cell_type": "code",
   "execution_count": 10,
   "metadata": {},
   "outputs": [
    {
     "name": "stdout",
     "output_type": "stream",
     "text": [
      "Accuracy: 0.9090558766859345\n"
     ]
    }
   ],
   "source": [
    "accuracy = accuracy_score(y_val, y_val_pred)\n",
    "print(f'Accuracy: {accuracy}')"
   ]
  },
  {
   "cell_type": "markdown",
   "metadata": {},
   "source": [
    "# test予測"
   ]
  },
  {
   "cell_type": "code",
   "execution_count": 28,
   "metadata": {},
   "outputs": [],
   "source": [
    "test = feature_engineering(test)\n",
    "predictions = best_model.predict(test[all_cols])"
   ]
  },
  {
   "cell_type": "markdown",
   "metadata": {},
   "source": [
    "- 結合"
   ]
  },
  {
   "cell_type": "code",
   "execution_count": 29,
   "metadata": {},
   "outputs": [],
   "source": [
    "submit = pd.DataFrame(predictions, columns = ['target'])\n",
    "submit['id'] = sample_submission['id']\n",
    "submit = submit[['id','target']]"
   ]
  },
  {
   "cell_type": "code",
   "execution_count": 30,
   "metadata": {},
   "outputs": [
    {
     "data": {
      "text/plain": [
       "{0: 'Insufficient_Weight',\n",
       " 1: 'Normal_Weight',\n",
       " 2: 'Obesity_Type_I',\n",
       " 3: 'Obesity_Type_II',\n",
       " 4: 'Obesity_Type_III',\n",
       " 5: 'Overweight_Level_I',\n",
       " 6: 'Overweight_Level_II'}"
      ]
     },
     "execution_count": 30,
     "metadata": {},
     "output_type": "execute_result"
    }
   ],
   "source": [
    "le_target_map = dict(zip(le.transform(le.classes_), le.classes_))\n",
    "le_target_map"
   ]
  },
  {
   "cell_type": "code",
   "execution_count": 31,
   "metadata": {},
   "outputs": [],
   "source": [
    "submit['NObeyesdad'] = submit['target'].apply(lambda x: le_target_map[x])\n",
    "submit = submit[['id','NObeyesdad']]"
   ]
  },
  {
   "cell_type": "code",
   "execution_count": 36,
   "metadata": {},
   "outputs": [],
   "source": [
    "submit.to_csv(f'../output/submit_val.csv', index=False)"
   ]
  },
  {
   "cell_type": "markdown",
   "metadata": {},
   "source": [
    "- submit確認"
   ]
  },
  {
   "cell_type": "code",
   "execution_count": 37,
   "metadata": {},
   "outputs": [
    {
     "data": {
      "text/html": [
       "<div>\n",
       "<style scoped>\n",
       "    .dataframe tbody tr th:only-of-type {\n",
       "        vertical-align: middle;\n",
       "    }\n",
       "\n",
       "    .dataframe tbody tr th {\n",
       "        vertical-align: top;\n",
       "    }\n",
       "\n",
       "    .dataframe thead th {\n",
       "        text-align: right;\n",
       "    }\n",
       "</style>\n",
       "<table border=\"1\" class=\"dataframe\">\n",
       "  <thead>\n",
       "    <tr style=\"text-align: right;\">\n",
       "      <th></th>\n",
       "      <th>id</th>\n",
       "      <th>NObeyesdad</th>\n",
       "    </tr>\n",
       "  </thead>\n",
       "  <tbody>\n",
       "    <tr>\n",
       "      <th>0</th>\n",
       "      <td>20758</td>\n",
       "      <td>Obesity_Type_II</td>\n",
       "    </tr>\n",
       "    <tr>\n",
       "      <th>1</th>\n",
       "      <td>20759</td>\n",
       "      <td>Overweight_Level_I</td>\n",
       "    </tr>\n",
       "    <tr>\n",
       "      <th>2</th>\n",
       "      <td>20760</td>\n",
       "      <td>Obesity_Type_III</td>\n",
       "    </tr>\n",
       "    <tr>\n",
       "      <th>3</th>\n",
       "      <td>20761</td>\n",
       "      <td>Obesity_Type_I</td>\n",
       "    </tr>\n",
       "    <tr>\n",
       "      <th>4</th>\n",
       "      <td>20762</td>\n",
       "      <td>Obesity_Type_III</td>\n",
       "    </tr>\n",
       "  </tbody>\n",
       "</table>\n",
       "</div>"
      ],
      "text/plain": [
       "      id          NObeyesdad\n",
       "0  20758     Obesity_Type_II\n",
       "1  20759  Overweight_Level_I\n",
       "2  20760    Obesity_Type_III\n",
       "3  20761      Obesity_Type_I\n",
       "4  20762    Obesity_Type_III"
      ]
     },
     "execution_count": 37,
     "metadata": {},
     "output_type": "execute_result"
    }
   ],
   "source": [
    "submit.head()"
   ]
  },
  {
   "cell_type": "code",
   "execution_count": null,
   "metadata": {},
   "outputs": [],
   "source": []
  }
 ],
 "metadata": {
  "kernelspec": {
   "display_name": "py310_analysis",
   "language": "python",
   "name": "python3"
  },
  "language_info": {
   "codemirror_mode": {
    "name": "ipython",
    "version": 3
   },
   "file_extension": ".py",
   "mimetype": "text/x-python",
   "name": "python",
   "nbconvert_exporter": "python",
   "pygments_lexer": "ipython3",
   "version": "3.10.11"
  }
 },
 "nbformat": 4,
 "nbformat_minor": 2
}
