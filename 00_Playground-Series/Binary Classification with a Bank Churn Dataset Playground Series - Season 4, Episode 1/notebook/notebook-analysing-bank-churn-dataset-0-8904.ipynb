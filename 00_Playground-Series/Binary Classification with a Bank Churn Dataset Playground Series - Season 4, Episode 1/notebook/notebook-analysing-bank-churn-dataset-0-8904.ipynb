{
 "cells": [
  {
   "cell_type": "code",
   "execution_count": 1,
   "id": "a44671a3",
   "metadata": {
    "execution": {
     "iopub.execute_input": "2024-01-08T15:46:12.429317Z",
     "iopub.status.busy": "2024-01-08T15:46:12.428921Z",
     "iopub.status.idle": "2024-01-08T15:46:13.165293Z",
     "shell.execute_reply": "2024-01-08T15:46:13.164376Z"
    },
    "papermill": {
     "duration": 0.755871,
     "end_time": "2024-01-08T15:46:13.167485",
     "exception": false,
     "start_time": "2024-01-08T15:46:12.411614",
     "status": "completed"
    },
    "tags": []
   },
   "outputs": [
    {
     "name": "stdout",
     "output_type": "stream",
     "text": [
      "../input/Churn_Modelling.csv\n",
      "../input/sample_submission.csv\n",
      "../input/test.csv\n",
      "../input/train.csv\n"
     ]
    }
   ],
   "source": [
    "# This Python 3 environment comes with many helpful analytics libraries installed\n",
    "# It is defined by the kaggle/python Docker image: https://github.com/kaggle/docker-python\n",
    "# For example, here's several helpful packages to load\n",
    "\n",
    "import numpy as np # linear algebra\n",
    "import pandas as pd # data processing, CSV file I/O (e.g. pd.read_csv)\n",
    "\n",
    "# Input data files are available in the read-only \"../input/\" directory\n",
    "# For example, running this (by clicking run or pressing Shift+Enter) will list all files under the input directory\n",
    "\n",
    "import os\n",
    "for dirname, _, filenames in os.walk('../input/'):\n",
    "    for filename in filenames:\n",
    "        print(os.path.join(dirname, filename))\n",
    "\n",
    "# You can write up to 20GB to the current directory (/kaggle/working/) that gets preserved as output when you create a version using \"Save & Run All\" \n",
    "# You can also write temporary files to /kaggle/temp/, but they won't be saved outside of the current session"
   ]
  },
  {
   "cell_type": "code",
   "execution_count": 2,
   "id": "10484531",
   "metadata": {
    "execution": {
     "iopub.execute_input": "2024-01-08T15:46:13.200592Z",
     "iopub.status.busy": "2024-01-08T15:46:13.200124Z",
     "iopub.status.idle": "2024-01-08T15:46:14.959466Z",
     "shell.execute_reply": "2024-01-08T15:46:14.958357Z"
    },
    "papermill": {
     "duration": 1.778662,
     "end_time": "2024-01-08T15:46:14.962115",
     "exception": false,
     "start_time": "2024-01-08T15:46:13.183453",
     "status": "completed"
    },
    "tags": []
   },
   "outputs": [
    {
     "name": "stdout",
     "output_type": "stream",
     "text": [
      "1.3.0\n",
      "/bin/bash: line 1: python: command not found\n"
     ]
    }
   ],
   "source": [
    "import sklearn\n",
    "print(sklearn.__version__)\n",
    "!python --version"
   ]
  },
  {
   "cell_type": "code",
   "execution_count": 3,
   "id": "fb9b983e",
   "metadata": {
    "execution": {
     "iopub.execute_input": "2024-01-08T15:46:14.995580Z",
     "iopub.status.busy": "2024-01-08T15:46:14.995185Z",
     "iopub.status.idle": "2024-01-08T15:46:15.269512Z",
     "shell.execute_reply": "2024-01-08T15:46:15.268310Z"
    },
    "papermill": {
     "duration": 0.293563,
     "end_time": "2024-01-08T15:46:15.271604",
     "exception": false,
     "start_time": "2024-01-08T15:46:14.978041",
     "status": "completed"
    },
    "tags": []
   },
   "outputs": [
    {
     "name": "stdout",
     "output_type": "stream",
     "text": [
      "done\n"
     ]
    }
   ],
   "source": [
    "import pandas as pd\n",
    "#import pandas_profiling \n",
    "import numpy as np\n",
    "import matplotlib.pyplot as plt\n",
    "import seaborn as sns\n",
    "import pickle\n",
    "sns.set()\n",
    "print(\"done\")"
   ]
  },
  {
   "cell_type": "code",
   "execution_count": 4,
   "id": "aa08e99e",
   "metadata": {
    "execution": {
     "iopub.execute_input": "2024-01-08T15:46:15.307853Z",
     "iopub.status.busy": "2024-01-08T15:46:15.307501Z",
     "iopub.status.idle": "2024-01-08T15:46:15.416506Z",
     "shell.execute_reply": "2024-01-08T15:46:15.415705Z"
    },
    "papermill": {
     "duration": 0.130301,
     "end_time": "2024-01-08T15:46:15.418891",
     "exception": false,
     "start_time": "2024-01-08T15:46:15.288590",
     "status": "completed"
    },
    "tags": []
   },
   "outputs": [],
   "source": [
    "from sklearn.preprocessing import LabelEncoder"
   ]
  },
  {
   "cell_type": "code",
   "execution_count": 5,
   "id": "8e9b72d0",
   "metadata": {
    "execution": {
     "iopub.execute_input": "2024-01-08T15:46:15.452752Z",
     "iopub.status.busy": "2024-01-08T15:46:15.452084Z",
     "iopub.status.idle": "2024-01-08T15:46:15.457414Z",
     "shell.execute_reply": "2024-01-08T15:46:15.456299Z"
    },
    "papermill": {
     "duration": 0.024744,
     "end_time": "2024-01-08T15:46:15.459546",
     "exception": false,
     "start_time": "2024-01-08T15:46:15.434802",
     "status": "completed"
    },
    "tags": []
   },
   "outputs": [
    {
     "name": "stdout",
     "output_type": "stream",
     "text": [
      "done\n"
     ]
    }
   ],
   "source": [
    "import warnings\n",
    "warnings.filterwarnings('ignore')\n",
    "print(\"done\")"
   ]
  },
  {
   "cell_type": "code",
   "execution_count": 6,
   "id": "61d679cf",
   "metadata": {
    "execution": {
     "iopub.execute_input": "2024-01-08T15:46:15.492980Z",
     "iopub.status.busy": "2024-01-08T15:46:15.492262Z",
     "iopub.status.idle": "2024-01-08T15:46:15.499360Z",
     "shell.execute_reply": "2024-01-08T15:46:15.498467Z"
    },
    "papermill": {
     "duration": 0.026042,
     "end_time": "2024-01-08T15:46:15.501277",
     "exception": false,
     "start_time": "2024-01-08T15:46:15.475235",
     "status": "completed"
    },
    "tags": []
   },
   "outputs": [
    {
     "data": {
      "text/plain": [
       "['Churn_Modelling.csv', 'sample_submission.csv', 'test.csv', 'train.csv']"
      ]
     },
     "execution_count": 6,
     "metadata": {},
     "output_type": "execute_result"
    }
   ],
   "source": [
    "import os;\n",
    "os.listdir('../input/')"
   ]
  },
  {
   "cell_type": "code",
   "execution_count": 7,
   "id": "4ebb7aff",
   "metadata": {
    "execution": {
     "iopub.execute_input": "2024-01-08T15:46:15.534914Z",
     "iopub.status.busy": "2024-01-08T15:46:15.534188Z",
     "iopub.status.idle": "2024-01-08T15:46:15.540924Z",
     "shell.execute_reply": "2024-01-08T15:46:15.540091Z"
    },
    "papermill": {
     "duration": 0.025795,
     "end_time": "2024-01-08T15:46:15.542871",
     "exception": false,
     "start_time": "2024-01-08T15:46:15.517076",
     "status": "completed"
    },
    "tags": []
   },
   "outputs": [
    {
     "data": {
      "text/html": [
       "<svg  width=\"550\" height=\"55\"><rect x=\"0\" y=\"0\" width=\"55\" height=\"55\" style=\"fill:#a1c9f4;stroke-width:2;stroke:rgb(255,255,255)\"/><rect x=\"55\" y=\"0\" width=\"55\" height=\"55\" style=\"fill:#ffb482;stroke-width:2;stroke:rgb(255,255,255)\"/><rect x=\"110\" y=\"0\" width=\"55\" height=\"55\" style=\"fill:#8de5a1;stroke-width:2;stroke:rgb(255,255,255)\"/><rect x=\"165\" y=\"0\" width=\"55\" height=\"55\" style=\"fill:#ff9f9b;stroke-width:2;stroke:rgb(255,255,255)\"/><rect x=\"220\" y=\"0\" width=\"55\" height=\"55\" style=\"fill:#d0bbff;stroke-width:2;stroke:rgb(255,255,255)\"/><rect x=\"275\" y=\"0\" width=\"55\" height=\"55\" style=\"fill:#debb9b;stroke-width:2;stroke:rgb(255,255,255)\"/><rect x=\"330\" y=\"0\" width=\"55\" height=\"55\" style=\"fill:#fab0e4;stroke-width:2;stroke:rgb(255,255,255)\"/><rect x=\"385\" y=\"0\" width=\"55\" height=\"55\" style=\"fill:#cfcfcf;stroke-width:2;stroke:rgb(255,255,255)\"/><rect x=\"440\" y=\"0\" width=\"55\" height=\"55\" style=\"fill:#fffea3;stroke-width:2;stroke:rgb(255,255,255)\"/><rect x=\"495\" y=\"0\" width=\"55\" height=\"55\" style=\"fill:#b9f2f0;stroke-width:2;stroke:rgb(255,255,255)\"/></svg>"
      ],
      "text/plain": [
       "[(0.6313725490196078, 0.788235294117647, 0.9568627450980393),\n",
       " (1.0, 0.7058823529411765, 0.5098039215686274),\n",
       " (0.5529411764705883, 0.8980392156862745, 0.6313725490196078),\n",
       " (1.0, 0.6235294117647059, 0.6078431372549019),\n",
       " (0.8156862745098039, 0.7333333333333333, 1.0),\n",
       " (0.8705882352941177, 0.7333333333333333, 0.6078431372549019),\n",
       " (0.9803921568627451, 0.6901960784313725, 0.8941176470588236),\n",
       " (0.8117647058823529, 0.8117647058823529, 0.8117647058823529),\n",
       " (1.0, 0.996078431372549, 0.6392156862745098),\n",
       " (0.7254901960784313, 0.9490196078431372, 0.9411764705882353)]"
      ]
     },
     "execution_count": 7,
     "metadata": {},
     "output_type": "execute_result"
    }
   ],
   "source": [
    "#choose color palette\n",
    "sns.color_palette(\"pastel\")"
   ]
  },
  {
   "cell_type": "code",
   "execution_count": 8,
   "id": "2170ea82",
   "metadata": {
    "execution": {
     "iopub.execute_input": "2024-01-08T15:46:15.576995Z",
     "iopub.status.busy": "2024-01-08T15:46:15.576197Z",
     "iopub.status.idle": "2024-01-08T15:46:16.334605Z",
     "shell.execute_reply": "2024-01-08T15:46:16.333552Z"
    },
    "papermill": {
     "duration": 0.777862,
     "end_time": "2024-01-08T15:46:16.336910",
     "exception": false,
     "start_time": "2024-01-08T15:46:15.559048",
     "status": "completed"
    },
    "tags": []
   },
   "outputs": [
    {
     "name": "stdout",
     "output_type": "stream",
     "text": [
      "...done\n"
     ]
    }
   ],
   "source": [
    "df_train = pd.read_csv('../input/train.csv')\n",
    "df_test = pd.read_csv('../input/test.csv')\n",
    "df_sub  = pd.read_csv('../input/sample_submission.csv')\n",
    "df_orig = pd.read_csv('../input/Churn_Modelling.csv')\n",
    "print(\"...done\")"
   ]
  },
  {
   "cell_type": "code",
   "execution_count": 9,
   "id": "a65ffdbf",
   "metadata": {
    "execution": {
     "iopub.execute_input": "2024-01-08T15:46:16.373736Z",
     "iopub.status.busy": "2024-01-08T15:46:16.373381Z",
     "iopub.status.idle": "2024-01-08T15:46:16.377473Z",
     "shell.execute_reply": "2024-01-08T15:46:16.376550Z"
    },
    "papermill": {
     "duration": 0.023534,
     "end_time": "2024-01-08T15:46:16.379371",
     "exception": false,
     "start_time": "2024-01-08T15:46:16.355837",
     "status": "completed"
    },
    "tags": []
   },
   "outputs": [],
   "source": [
    "#df_train.profile_report()"
   ]
  },
  {
   "cell_type": "code",
   "execution_count": 10,
   "id": "2b085a43",
   "metadata": {
    "execution": {
     "iopub.execute_input": "2024-01-08T15:46:16.415847Z",
     "iopub.status.busy": "2024-01-08T15:46:16.415417Z",
     "iopub.status.idle": "2024-01-08T15:46:16.423240Z",
     "shell.execute_reply": "2024-01-08T15:46:16.422124Z"
    },
    "papermill": {
     "duration": 0.029811,
     "end_time": "2024-01-08T15:46:16.425411",
     "exception": false,
     "start_time": "2024-01-08T15:46:16.395600",
     "status": "completed"
    },
    "tags": []
   },
   "outputs": [
    {
     "data": {
      "text/plain": [
       "((165034, 14), (10002, 14))"
      ]
     },
     "execution_count": 10,
     "metadata": {},
     "output_type": "execute_result"
    }
   ],
   "source": [
    "df_train.shape , df_orig.shape"
   ]
  },
  {
   "cell_type": "code",
   "execution_count": 11,
   "id": "09cb8cfa",
   "metadata": {
    "execution": {
     "iopub.execute_input": "2024-01-08T15:46:16.507129Z",
     "iopub.status.busy": "2024-01-08T15:46:16.506760Z",
     "iopub.status.idle": "2024-01-08T15:46:16.513611Z",
     "shell.execute_reply": "2024-01-08T15:46:16.512780Z"
    },
    "papermill": {
     "duration": 0.026709,
     "end_time": "2024-01-08T15:46:16.515694",
     "exception": false,
     "start_time": "2024-01-08T15:46:16.488985",
     "status": "completed"
    },
    "tags": []
   },
   "outputs": [
    {
     "data": {
      "text/plain": [
       "Index(['id', 'CustomerId', 'Surname', 'CreditScore', 'Geography', 'Gender',\n",
       "       'Age', 'Tenure', 'Balance', 'NumOfProducts', 'HasCrCard',\n",
       "       'IsActiveMember', 'EstimatedSalary', 'Exited'],\n",
       "      dtype='object')"
      ]
     },
     "execution_count": 11,
     "metadata": {},
     "output_type": "execute_result"
    }
   ],
   "source": [
    "df_train.keys()"
   ]
  },
  {
   "cell_type": "code",
   "execution_count": 12,
   "id": "36704f3f",
   "metadata": {
    "execution": {
     "iopub.execute_input": "2024-01-08T15:46:16.552188Z",
     "iopub.status.busy": "2024-01-08T15:46:16.551746Z",
     "iopub.status.idle": "2024-01-08T15:46:16.559041Z",
     "shell.execute_reply": "2024-01-08T15:46:16.557998Z"
    },
    "papermill": {
     "duration": 0.029197,
     "end_time": "2024-01-08T15:46:16.561453",
     "exception": false,
     "start_time": "2024-01-08T15:46:16.532256",
     "status": "completed"
    },
    "tags": []
   },
   "outputs": [
    {
     "data": {
      "text/plain": [
       "Index(['id', 'CustomerId', 'Surname', 'CreditScore', 'Geography', 'Gender',\n",
       "       'Age', 'Tenure', 'Balance', 'NumOfProducts', 'HasCrCard',\n",
       "       'IsActiveMember', 'EstimatedSalary'],\n",
       "      dtype='object')"
      ]
     },
     "execution_count": 12,
     "metadata": {},
     "output_type": "execute_result"
    }
   ],
   "source": [
    "df_test.keys()"
   ]
  },
  {
   "cell_type": "code",
   "execution_count": 13,
   "id": "5501c936",
   "metadata": {
    "execution": {
     "iopub.execute_input": "2024-01-08T15:46:16.600069Z",
     "iopub.status.busy": "2024-01-08T15:46:16.599169Z",
     "iopub.status.idle": "2024-01-08T15:46:16.606910Z",
     "shell.execute_reply": "2024-01-08T15:46:16.605685Z"
    },
    "papermill": {
     "duration": 0.028413,
     "end_time": "2024-01-08T15:46:16.609493",
     "exception": false,
     "start_time": "2024-01-08T15:46:16.581080",
     "status": "completed"
    },
    "tags": []
   },
   "outputs": [
    {
     "data": {
      "text/plain": [
       "Index(['RowNumber', 'CustomerId', 'Surname', 'CreditScore', 'Geography',\n",
       "       'Gender', 'Age', 'Tenure', 'Balance', 'NumOfProducts', 'HasCrCard',\n",
       "       'IsActiveMember', 'EstimatedSalary', 'Exited'],\n",
       "      dtype='object')"
      ]
     },
     "execution_count": 13,
     "metadata": {},
     "output_type": "execute_result"
    }
   ],
   "source": [
    "df_orig.keys() #only 'id' is missing in df_orig"
   ]
  },
  {
   "cell_type": "code",
   "execution_count": 14,
   "id": "c09fb67b",
   "metadata": {
    "execution": {
     "iopub.execute_input": "2024-01-08T15:46:16.644931Z",
     "iopub.status.busy": "2024-01-08T15:46:16.644610Z",
     "iopub.status.idle": "2024-01-08T15:46:16.650550Z",
     "shell.execute_reply": "2024-01-08T15:46:16.649664Z"
    },
    "papermill": {
     "duration": 0.026129,
     "end_time": "2024-01-08T15:46:16.652582",
     "exception": false,
     "start_time": "2024-01-08T15:46:16.626453",
     "status": "completed"
    },
    "tags": []
   },
   "outputs": [
    {
     "data": {
      "text/plain": [
       "((165034, 14), (10002, 14), (110023, 13))"
      ]
     },
     "execution_count": 14,
     "metadata": {},
     "output_type": "execute_result"
    }
   ],
   "source": [
    "df_train.shape , df_orig.shape,df_test.shape"
   ]
  },
  {
   "cell_type": "code",
   "execution_count": 15,
   "id": "f529d51f",
   "metadata": {
    "execution": {
     "iopub.execute_input": "2024-01-08T15:46:16.687833Z",
     "iopub.status.busy": "2024-01-08T15:46:16.687045Z",
     "iopub.status.idle": "2024-01-08T15:46:16.711649Z",
     "shell.execute_reply": "2024-01-08T15:46:16.710741Z"
    },
    "papermill": {
     "duration": 0.044282,
     "end_time": "2024-01-08T15:46:16.713552",
     "exception": false,
     "start_time": "2024-01-08T15:46:16.669270",
     "status": "completed"
    },
    "tags": []
   },
   "outputs": [
    {
     "data": {
      "text/html": [
       "<div>\n",
       "<style scoped>\n",
       "    .dataframe tbody tr th:only-of-type {\n",
       "        vertical-align: middle;\n",
       "    }\n",
       "\n",
       "    .dataframe tbody tr th {\n",
       "        vertical-align: top;\n",
       "    }\n",
       "\n",
       "    .dataframe thead th {\n",
       "        text-align: right;\n",
       "    }\n",
       "</style>\n",
       "<table border=\"1\" class=\"dataframe\">\n",
       "  <thead>\n",
       "    <tr style=\"text-align: right;\">\n",
       "      <th></th>\n",
       "      <th>id</th>\n",
       "      <th>CustomerId</th>\n",
       "      <th>Surname</th>\n",
       "      <th>CreditScore</th>\n",
       "      <th>Geography</th>\n",
       "      <th>Gender</th>\n",
       "      <th>Age</th>\n",
       "      <th>Tenure</th>\n",
       "      <th>Balance</th>\n",
       "      <th>NumOfProducts</th>\n",
       "      <th>HasCrCard</th>\n",
       "      <th>IsActiveMember</th>\n",
       "      <th>EstimatedSalary</th>\n",
       "      <th>Exited</th>\n",
       "    </tr>\n",
       "  </thead>\n",
       "  <tbody>\n",
       "    <tr>\n",
       "      <th>0</th>\n",
       "      <td>0</td>\n",
       "      <td>15674932</td>\n",
       "      <td>Okwudilichukwu</td>\n",
       "      <td>668</td>\n",
       "      <td>France</td>\n",
       "      <td>Male</td>\n",
       "      <td>33.0</td>\n",
       "      <td>3</td>\n",
       "      <td>0.00</td>\n",
       "      <td>2</td>\n",
       "      <td>1.0</td>\n",
       "      <td>0.0</td>\n",
       "      <td>181449.97</td>\n",
       "      <td>0</td>\n",
       "    </tr>\n",
       "    <tr>\n",
       "      <th>1</th>\n",
       "      <td>1</td>\n",
       "      <td>15749177</td>\n",
       "      <td>Okwudiliolisa</td>\n",
       "      <td>627</td>\n",
       "      <td>France</td>\n",
       "      <td>Male</td>\n",
       "      <td>33.0</td>\n",
       "      <td>1</td>\n",
       "      <td>0.00</td>\n",
       "      <td>2</td>\n",
       "      <td>1.0</td>\n",
       "      <td>1.0</td>\n",
       "      <td>49503.50</td>\n",
       "      <td>0</td>\n",
       "    </tr>\n",
       "    <tr>\n",
       "      <th>2</th>\n",
       "      <td>2</td>\n",
       "      <td>15694510</td>\n",
       "      <td>Hsueh</td>\n",
       "      <td>678</td>\n",
       "      <td>France</td>\n",
       "      <td>Male</td>\n",
       "      <td>40.0</td>\n",
       "      <td>10</td>\n",
       "      <td>0.00</td>\n",
       "      <td>2</td>\n",
       "      <td>1.0</td>\n",
       "      <td>0.0</td>\n",
       "      <td>184866.69</td>\n",
       "      <td>0</td>\n",
       "    </tr>\n",
       "    <tr>\n",
       "      <th>3</th>\n",
       "      <td>3</td>\n",
       "      <td>15741417</td>\n",
       "      <td>Kao</td>\n",
       "      <td>581</td>\n",
       "      <td>France</td>\n",
       "      <td>Male</td>\n",
       "      <td>34.0</td>\n",
       "      <td>2</td>\n",
       "      <td>148882.54</td>\n",
       "      <td>1</td>\n",
       "      <td>1.0</td>\n",
       "      <td>1.0</td>\n",
       "      <td>84560.88</td>\n",
       "      <td>0</td>\n",
       "    </tr>\n",
       "    <tr>\n",
       "      <th>4</th>\n",
       "      <td>4</td>\n",
       "      <td>15766172</td>\n",
       "      <td>Chiemenam</td>\n",
       "      <td>716</td>\n",
       "      <td>Spain</td>\n",
       "      <td>Male</td>\n",
       "      <td>33.0</td>\n",
       "      <td>5</td>\n",
       "      <td>0.00</td>\n",
       "      <td>2</td>\n",
       "      <td>1.0</td>\n",
       "      <td>1.0</td>\n",
       "      <td>15068.83</td>\n",
       "      <td>0</td>\n",
       "    </tr>\n",
       "  </tbody>\n",
       "</table>\n",
       "</div>"
      ],
      "text/plain": [
       "   id  CustomerId         Surname  CreditScore Geography Gender   Age  Tenure  \\\n",
       "0   0    15674932  Okwudilichukwu          668    France   Male  33.0       3   \n",
       "1   1    15749177   Okwudiliolisa          627    France   Male  33.0       1   \n",
       "2   2    15694510           Hsueh          678    France   Male  40.0      10   \n",
       "3   3    15741417             Kao          581    France   Male  34.0       2   \n",
       "4   4    15766172       Chiemenam          716     Spain   Male  33.0       5   \n",
       "\n",
       "     Balance  NumOfProducts  HasCrCard  IsActiveMember  EstimatedSalary  \\\n",
       "0       0.00              2        1.0             0.0        181449.97   \n",
       "1       0.00              2        1.0             1.0         49503.50   \n",
       "2       0.00              2        1.0             0.0        184866.69   \n",
       "3  148882.54              1        1.0             1.0         84560.88   \n",
       "4       0.00              2        1.0             1.0         15068.83   \n",
       "\n",
       "   Exited  \n",
       "0       0  \n",
       "1       0  \n",
       "2       0  \n",
       "3       0  \n",
       "4       0  "
      ]
     },
     "execution_count": 15,
     "metadata": {},
     "output_type": "execute_result"
    }
   ],
   "source": [
    "df_train.head()"
   ]
  },
  {
   "cell_type": "code",
   "execution_count": 16,
   "id": "91fe6850",
   "metadata": {
    "execution": {
     "iopub.execute_input": "2024-01-08T15:46:16.750031Z",
     "iopub.status.busy": "2024-01-08T15:46:16.749202Z",
     "iopub.status.idle": "2024-01-08T15:46:16.765237Z",
     "shell.execute_reply": "2024-01-08T15:46:16.764358Z"
    },
    "papermill": {
     "duration": 0.036308,
     "end_time": "2024-01-08T15:46:16.767268",
     "exception": false,
     "start_time": "2024-01-08T15:46:16.730960",
     "status": "completed"
    },
    "tags": []
   },
   "outputs": [
    {
     "data": {
      "text/html": [
       "<div>\n",
       "<style scoped>\n",
       "    .dataframe tbody tr th:only-of-type {\n",
       "        vertical-align: middle;\n",
       "    }\n",
       "\n",
       "    .dataframe tbody tr th {\n",
       "        vertical-align: top;\n",
       "    }\n",
       "\n",
       "    .dataframe thead th {\n",
       "        text-align: right;\n",
       "    }\n",
       "</style>\n",
       "<table border=\"1\" class=\"dataframe\">\n",
       "  <thead>\n",
       "    <tr style=\"text-align: right;\">\n",
       "      <th></th>\n",
       "      <th>id</th>\n",
       "      <th>CustomerId</th>\n",
       "      <th>Surname</th>\n",
       "      <th>CreditScore</th>\n",
       "      <th>Geography</th>\n",
       "      <th>Gender</th>\n",
       "      <th>Age</th>\n",
       "      <th>Tenure</th>\n",
       "      <th>Balance</th>\n",
       "      <th>NumOfProducts</th>\n",
       "      <th>HasCrCard</th>\n",
       "      <th>IsActiveMember</th>\n",
       "      <th>EstimatedSalary</th>\n",
       "    </tr>\n",
       "  </thead>\n",
       "  <tbody>\n",
       "    <tr>\n",
       "      <th>0</th>\n",
       "      <td>165034</td>\n",
       "      <td>15773898</td>\n",
       "      <td>Lucchese</td>\n",
       "      <td>586</td>\n",
       "      <td>France</td>\n",
       "      <td>Female</td>\n",
       "      <td>23.0</td>\n",
       "      <td>2</td>\n",
       "      <td>0.00</td>\n",
       "      <td>2</td>\n",
       "      <td>0.0</td>\n",
       "      <td>1.0</td>\n",
       "      <td>160976.75</td>\n",
       "    </tr>\n",
       "    <tr>\n",
       "      <th>1</th>\n",
       "      <td>165035</td>\n",
       "      <td>15782418</td>\n",
       "      <td>Nott</td>\n",
       "      <td>683</td>\n",
       "      <td>France</td>\n",
       "      <td>Female</td>\n",
       "      <td>46.0</td>\n",
       "      <td>2</td>\n",
       "      <td>0.00</td>\n",
       "      <td>1</td>\n",
       "      <td>1.0</td>\n",
       "      <td>0.0</td>\n",
       "      <td>72549.27</td>\n",
       "    </tr>\n",
       "    <tr>\n",
       "      <th>2</th>\n",
       "      <td>165036</td>\n",
       "      <td>15807120</td>\n",
       "      <td>K?</td>\n",
       "      <td>656</td>\n",
       "      <td>France</td>\n",
       "      <td>Female</td>\n",
       "      <td>34.0</td>\n",
       "      <td>7</td>\n",
       "      <td>0.00</td>\n",
       "      <td>2</td>\n",
       "      <td>1.0</td>\n",
       "      <td>0.0</td>\n",
       "      <td>138882.09</td>\n",
       "    </tr>\n",
       "    <tr>\n",
       "      <th>3</th>\n",
       "      <td>165037</td>\n",
       "      <td>15808905</td>\n",
       "      <td>O'Donnell</td>\n",
       "      <td>681</td>\n",
       "      <td>France</td>\n",
       "      <td>Male</td>\n",
       "      <td>36.0</td>\n",
       "      <td>8</td>\n",
       "      <td>0.00</td>\n",
       "      <td>1</td>\n",
       "      <td>1.0</td>\n",
       "      <td>0.0</td>\n",
       "      <td>113931.57</td>\n",
       "    </tr>\n",
       "    <tr>\n",
       "      <th>4</th>\n",
       "      <td>165038</td>\n",
       "      <td>15607314</td>\n",
       "      <td>Higgins</td>\n",
       "      <td>752</td>\n",
       "      <td>Germany</td>\n",
       "      <td>Male</td>\n",
       "      <td>38.0</td>\n",
       "      <td>10</td>\n",
       "      <td>121263.62</td>\n",
       "      <td>1</td>\n",
       "      <td>1.0</td>\n",
       "      <td>0.0</td>\n",
       "      <td>139431.00</td>\n",
       "    </tr>\n",
       "  </tbody>\n",
       "</table>\n",
       "</div>"
      ],
      "text/plain": [
       "       id  CustomerId    Surname  CreditScore Geography  Gender   Age  Tenure  \\\n",
       "0  165034    15773898   Lucchese          586    France  Female  23.0       2   \n",
       "1  165035    15782418       Nott          683    France  Female  46.0       2   \n",
       "2  165036    15807120         K?          656    France  Female  34.0       7   \n",
       "3  165037    15808905  O'Donnell          681    France    Male  36.0       8   \n",
       "4  165038    15607314    Higgins          752   Germany    Male  38.0      10   \n",
       "\n",
       "     Balance  NumOfProducts  HasCrCard  IsActiveMember  EstimatedSalary  \n",
       "0       0.00              2        0.0             1.0        160976.75  \n",
       "1       0.00              1        1.0             0.0         72549.27  \n",
       "2       0.00              2        1.0             0.0        138882.09  \n",
       "3       0.00              1        1.0             0.0        113931.57  \n",
       "4  121263.62              1        1.0             0.0        139431.00  "
      ]
     },
     "execution_count": 16,
     "metadata": {},
     "output_type": "execute_result"
    }
   ],
   "source": [
    "df_test.head()"
   ]
  },
  {
   "cell_type": "code",
   "execution_count": 17,
   "id": "710fd53f",
   "metadata": {
    "execution": {
     "iopub.execute_input": "2024-01-08T15:46:16.803407Z",
     "iopub.status.busy": "2024-01-08T15:46:16.802997Z",
     "iopub.status.idle": "2024-01-08T15:46:16.827602Z",
     "shell.execute_reply": "2024-01-08T15:46:16.826480Z"
    },
    "papermill": {
     "duration": 0.045223,
     "end_time": "2024-01-08T15:46:16.829891",
     "exception": false,
     "start_time": "2024-01-08T15:46:16.784668",
     "status": "completed"
    },
    "tags": []
   },
   "outputs": [
    {
     "name": "stdout",
     "output_type": "stream",
     "text": [
      "<class 'pandas.core.frame.DataFrame'>\n",
      "RangeIndex: 10002 entries, 0 to 10001\n",
      "Data columns (total 14 columns):\n",
      " #   Column           Non-Null Count  Dtype  \n",
      "---  ------           --------------  -----  \n",
      " 0   RowNumber        10002 non-null  int64  \n",
      " 1   CustomerId       10002 non-null  int64  \n",
      " 2   Surname          10002 non-null  object \n",
      " 3   CreditScore      10002 non-null  int64  \n",
      " 4   Geography        10001 non-null  object \n",
      " 5   Gender           10002 non-null  object \n",
      " 6   Age              10001 non-null  float64\n",
      " 7   Tenure           10002 non-null  int64  \n",
      " 8   Balance          10002 non-null  float64\n",
      " 9   NumOfProducts    10002 non-null  int64  \n",
      " 10  HasCrCard        10001 non-null  float64\n",
      " 11  IsActiveMember   10001 non-null  float64\n",
      " 12  EstimatedSalary  10002 non-null  float64\n",
      " 13  Exited           10002 non-null  int64  \n",
      "dtypes: float64(5), int64(6), object(3)\n",
      "memory usage: 1.1+ MB\n"
     ]
    }
   ],
   "source": [
    "df_orig.info()"
   ]
  },
  {
   "cell_type": "code",
   "execution_count": 18,
   "id": "7a8635a2",
   "metadata": {
    "execution": {
     "iopub.execute_input": "2024-01-08T15:46:16.867200Z",
     "iopub.status.busy": "2024-01-08T15:46:16.866565Z",
     "iopub.status.idle": "2024-01-08T15:46:16.871609Z",
     "shell.execute_reply": "2024-01-08T15:46:16.870767Z"
    },
    "papermill": {
     "duration": 0.025679,
     "end_time": "2024-01-08T15:46:16.873555",
     "exception": false,
     "start_time": "2024-01-08T15:46:16.847876",
     "status": "completed"
    },
    "tags": []
   },
   "outputs": [],
   "source": [
    "df_orig.rename(columns = {'RowNumber':'id'}, inplace = True) "
   ]
  },
  {
   "cell_type": "code",
   "execution_count": 19,
   "id": "b38dd51d",
   "metadata": {
    "execution": {
     "iopub.execute_input": "2024-01-08T15:46:16.910528Z",
     "iopub.status.busy": "2024-01-08T15:46:16.909727Z",
     "iopub.status.idle": "2024-01-08T15:46:16.920490Z",
     "shell.execute_reply": "2024-01-08T15:46:16.919599Z"
    },
    "papermill": {
     "duration": 0.031438,
     "end_time": "2024-01-08T15:46:16.922501",
     "exception": false,
     "start_time": "2024-01-08T15:46:16.891063",
     "status": "completed"
    },
    "tags": []
   },
   "outputs": [],
   "source": [
    "#combining df_train and df_orig\n",
    "df_combined = pd.concat([df_train, df_orig], ignore_index=True)"
   ]
  },
  {
   "cell_type": "code",
   "execution_count": 20,
   "id": "4cd0908e",
   "metadata": {
    "execution": {
     "iopub.execute_input": "2024-01-08T15:46:16.959612Z",
     "iopub.status.busy": "2024-01-08T15:46:16.958800Z",
     "iopub.status.idle": "2024-01-08T15:46:17.108668Z",
     "shell.execute_reply": "2024-01-08T15:46:17.107693Z"
    },
    "papermill": {
     "duration": 0.17061,
     "end_time": "2024-01-08T15:46:17.110815",
     "exception": false,
     "start_time": "2024-01-08T15:46:16.940205",
     "status": "completed"
    },
    "tags": []
   },
   "outputs": [
    {
     "data": {
      "text/plain": [
       "((175036, 14), (165034, 14), (10002, 14))"
      ]
     },
     "execution_count": 20,
     "metadata": {},
     "output_type": "execute_result"
    }
   ],
   "source": [
    "#drop duplicates\n",
    "df_combined.drop_duplicates()\n",
    "df_combined.shape, df_train.shape,df_orig.shape"
   ]
  },
  {
   "cell_type": "code",
   "execution_count": 21,
   "id": "f85f448c",
   "metadata": {
    "execution": {
     "iopub.execute_input": "2024-01-08T15:46:17.148325Z",
     "iopub.status.busy": "2024-01-08T15:46:17.147617Z",
     "iopub.status.idle": "2024-01-08T15:46:17.155317Z",
     "shell.execute_reply": "2024-01-08T15:46:17.154471Z"
    },
    "papermill": {
     "duration": 0.028488,
     "end_time": "2024-01-08T15:46:17.157175",
     "exception": false,
     "start_time": "2024-01-08T15:46:17.128687",
     "status": "completed"
    },
    "tags": []
   },
   "outputs": [
    {
     "data": {
      "text/plain": [
       "(array([0, 1]), array([1, 0]))"
      ]
     },
     "execution_count": 21,
     "metadata": {},
     "output_type": "execute_result"
    }
   ],
   "source": [
    "df_train['Exited'].unique(), df_orig['Exited'].unique()"
   ]
  },
  {
   "cell_type": "code",
   "execution_count": 22,
   "id": "b3754558",
   "metadata": {
    "execution": {
     "iopub.execute_input": "2024-01-08T15:46:17.194526Z",
     "iopub.status.busy": "2024-01-08T15:46:17.193684Z",
     "iopub.status.idle": "2024-01-08T15:46:17.221966Z",
     "shell.execute_reply": "2024-01-08T15:46:17.221084Z"
    },
    "papermill": {
     "duration": 0.049061,
     "end_time": "2024-01-08T15:46:17.223991",
     "exception": false,
     "start_time": "2024-01-08T15:46:17.174930",
     "status": "completed"
    },
    "tags": []
   },
   "outputs": [
    {
     "data": {
      "text/plain": [
       "(array(['Male', 'Female'], dtype=object),\n",
       " array(['Female', 'Male'], dtype=object),\n",
       " array(['Female', 'Male'], dtype=object))"
      ]
     },
     "execution_count": 22,
     "metadata": {},
     "output_type": "execute_result"
    }
   ],
   "source": [
    "df_train['Gender'].unique(), df_orig['Gender'].unique(),df_test['Gender'].unique()"
   ]
  },
  {
   "cell_type": "code",
   "execution_count": 23,
   "id": "20d9511c",
   "metadata": {
    "execution": {
     "iopub.execute_input": "2024-01-08T15:46:17.261872Z",
     "iopub.status.busy": "2024-01-08T15:46:17.261160Z",
     "iopub.status.idle": "2024-01-08T15:46:17.289740Z",
     "shell.execute_reply": "2024-01-08T15:46:17.288802Z"
    },
    "papermill": {
     "duration": 0.049759,
     "end_time": "2024-01-08T15:46:17.291899",
     "exception": false,
     "start_time": "2024-01-08T15:46:17.242140",
     "status": "completed"
    },
    "tags": []
   },
   "outputs": [
    {
     "data": {
      "text/plain": [
       "(array(['France', 'Spain', 'Germany'], dtype=object),\n",
       " array(['France', 'Spain', nan, 'Germany'], dtype=object),\n",
       " array(['France', 'Germany', 'Spain'], dtype=object))"
      ]
     },
     "execution_count": 23,
     "metadata": {},
     "output_type": "execute_result"
    }
   ],
   "source": [
    "df_train['Geography'].unique(), df_orig['Geography'].unique(),df_test['Geography'].unique()"
   ]
  },
  {
   "cell_type": "code",
   "execution_count": 24,
   "id": "aaad56f3",
   "metadata": {
    "execution": {
     "iopub.execute_input": "2024-01-08T15:46:17.330547Z",
     "iopub.status.busy": "2024-01-08T15:46:17.330068Z",
     "iopub.status.idle": "2024-01-08T15:46:17.380066Z",
     "shell.execute_reply": "2024-01-08T15:46:17.379033Z"
    },
    "papermill": {
     "duration": 0.071908,
     "end_time": "2024-01-08T15:46:17.382237",
     "exception": false,
     "start_time": "2024-01-08T15:46:17.310329",
     "status": "completed"
    },
    "tags": []
   },
   "outputs": [
    {
     "data": {
      "text/plain": [
       "(2932, 2797, 2932, 2708)"
      ]
     },
     "execution_count": 24,
     "metadata": {},
     "output_type": "execute_result"
    }
   ],
   "source": [
    "len(df_combined['Surname'].unique()),len(df_train['Surname'].unique()) , len(df_orig['Surname'].unique()), len(df_test['Surname'].unique())"
   ]
  },
  {
   "cell_type": "code",
   "execution_count": 25,
   "id": "d9676256",
   "metadata": {
    "execution": {
     "iopub.execute_input": "2024-01-08T15:46:17.421393Z",
     "iopub.status.busy": "2024-01-08T15:46:17.421018Z",
     "iopub.status.idle": "2024-01-08T15:46:17.871603Z",
     "shell.execute_reply": "2024-01-08T15:46:17.870780Z"
    },
    "papermill": {
     "duration": 0.472699,
     "end_time": "2024-01-08T15:46:17.873937",
     "exception": false,
     "start_time": "2024-01-08T15:46:17.401238",
     "status": "completed"
    },
    "tags": []
   },
   "outputs": [],
   "source": [
    "l_test=list(df_test)\n",
    "l_combined=list(df_combined)\n",
    "le = LabelEncoder()\n",
    "l1=df_combined['Surname'].unique()\n",
    "l2=df_test['Surname'].unique()\n",
    "l3=np.hstack([l1,l2])\n",
    "l_Surname=list(np.unique(l3))\n",
    "\n",
    "l_Surname=le.fit_transform(l_Surname)\n",
    "df_combined['Surname']=le.transform(df_combined['Surname'])\n",
    "df_combined=pd.DataFrame(df_combined,columns=l_combined)\n",
    "df_test['Surname']=le.transform(df_test['Surname'])\n",
    "df_test=pd.DataFrame(df_test,columns=l_test)\n",
    "\n",
    "le = LabelEncoder()\n",
    "df_combined['Gender']=le.fit_transform(df_combined['Gender'])\n",
    "df_test['Gender']=le.transform(df_test['Gender'])\n",
    "df_test=pd.DataFrame(df_test,columns=l_test)\n",
    "\n",
    "le = LabelEncoder()\n",
    "df_combined['Geography']=le.fit_transform(df_combined['Geography'])\n",
    "df_test['Geography']=le.transform(df_test['Geography'])\n",
    "df_test=pd.DataFrame(df_test,columns=l_test)"
   ]
  },
  {
   "cell_type": "code",
   "execution_count": 26,
   "id": "4f821695",
   "metadata": {
    "execution": {
     "iopub.execute_input": "2024-01-08T15:46:17.914241Z",
     "iopub.status.busy": "2024-01-08T15:46:17.913891Z",
     "iopub.status.idle": "2024-01-08T15:46:17.924204Z",
     "shell.execute_reply": "2024-01-08T15:46:17.923324Z"
    },
    "papermill": {
     "duration": 0.032788,
     "end_time": "2024-01-08T15:46:17.926245",
     "exception": false,
     "start_time": "2024-01-08T15:46:17.893457",
     "status": "completed"
    },
    "tags": []
   },
   "outputs": [
    {
     "data": {
      "text/plain": [
       "Exited\n",
       "0    138077\n",
       "1     36959\n",
       "Name: count, dtype: int64"
      ]
     },
     "execution_count": 26,
     "metadata": {},
     "output_type": "execute_result"
    }
   ],
   "source": [
    "df_combined['Exited'].value_counts()"
   ]
  },
  {
   "cell_type": "code",
   "execution_count": 27,
   "id": "538dbe59",
   "metadata": {
    "execution": {
     "iopub.execute_input": "2024-01-08T15:46:17.964622Z",
     "iopub.status.busy": "2024-01-08T15:46:17.964233Z",
     "iopub.status.idle": "2024-01-08T15:46:17.975064Z",
     "shell.execute_reply": "2024-01-08T15:46:17.974149Z"
    },
    "papermill": {
     "duration": 0.032399,
     "end_time": "2024-01-08T15:46:17.977106",
     "exception": false,
     "start_time": "2024-01-08T15:46:17.944707",
     "status": "completed"
    },
    "tags": []
   },
   "outputs": [
    {
     "data": {
      "text/plain": [
       "id                 0\n",
       "CustomerId         0\n",
       "Surname            0\n",
       "CreditScore        0\n",
       "Geography          0\n",
       "Gender             0\n",
       "Age                1\n",
       "Tenure             0\n",
       "Balance            0\n",
       "NumOfProducts      0\n",
       "HasCrCard          1\n",
       "IsActiveMember     1\n",
       "EstimatedSalary    0\n",
       "Exited             0\n",
       "dtype: int64"
      ]
     },
     "execution_count": 27,
     "metadata": {},
     "output_type": "execute_result"
    }
   ],
   "source": [
    "df_combined.isnull().sum()"
   ]
  },
  {
   "cell_type": "code",
   "execution_count": 28,
   "id": "d339ca6c",
   "metadata": {
    "execution": {
     "iopub.execute_input": "2024-01-08T15:46:18.015496Z",
     "iopub.status.busy": "2024-01-08T15:46:18.015130Z",
     "iopub.status.idle": "2024-01-08T15:46:18.032651Z",
     "shell.execute_reply": "2024-01-08T15:46:18.031909Z"
    },
    "papermill": {
     "duration": 0.039113,
     "end_time": "2024-01-08T15:46:18.034666",
     "exception": false,
     "start_time": "2024-01-08T15:46:17.995553",
     "status": "completed"
    },
    "tags": []
   },
   "outputs": [],
   "source": [
    "df_combined=df_combined.dropna()"
   ]
  },
  {
   "cell_type": "code",
   "execution_count": 29,
   "id": "e077ae2f",
   "metadata": {
    "execution": {
     "iopub.execute_input": "2024-01-08T15:46:18.073165Z",
     "iopub.status.busy": "2024-01-08T15:46:18.072819Z",
     "iopub.status.idle": "2024-01-08T15:46:18.096242Z",
     "shell.execute_reply": "2024-01-08T15:46:18.095371Z"
    },
    "papermill": {
     "duration": 0.045179,
     "end_time": "2024-01-08T15:46:18.098328",
     "exception": false,
     "start_time": "2024-01-08T15:46:18.053149",
     "status": "completed"
    },
    "tags": []
   },
   "outputs": [
    {
     "data": {
      "text/html": [
       "<div>\n",
       "<style scoped>\n",
       "    .dataframe tbody tr th:only-of-type {\n",
       "        vertical-align: middle;\n",
       "    }\n",
       "\n",
       "    .dataframe tbody tr th {\n",
       "        vertical-align: top;\n",
       "    }\n",
       "\n",
       "    .dataframe thead th {\n",
       "        text-align: right;\n",
       "    }\n",
       "</style>\n",
       "<table border=\"1\" class=\"dataframe\">\n",
       "  <thead>\n",
       "    <tr style=\"text-align: right;\">\n",
       "      <th></th>\n",
       "      <th>id</th>\n",
       "      <th>CustomerId</th>\n",
       "      <th>Surname</th>\n",
       "      <th>CreditScore</th>\n",
       "      <th>Geography</th>\n",
       "      <th>Gender</th>\n",
       "      <th>Age</th>\n",
       "      <th>Tenure</th>\n",
       "      <th>Balance</th>\n",
       "      <th>NumOfProducts</th>\n",
       "      <th>HasCrCard</th>\n",
       "      <th>IsActiveMember</th>\n",
       "      <th>EstimatedSalary</th>\n",
       "      <th>Exited</th>\n",
       "    </tr>\n",
       "  </thead>\n",
       "  <tbody>\n",
       "    <tr>\n",
       "      <th>0</th>\n",
       "      <td>0</td>\n",
       "      <td>15674932</td>\n",
       "      <td>2023</td>\n",
       "      <td>668</td>\n",
       "      <td>0</td>\n",
       "      <td>1</td>\n",
       "      <td>33.0</td>\n",
       "      <td>3</td>\n",
       "      <td>0.00</td>\n",
       "      <td>2</td>\n",
       "      <td>1.0</td>\n",
       "      <td>0.0</td>\n",
       "      <td>181449.97</td>\n",
       "      <td>0</td>\n",
       "    </tr>\n",
       "    <tr>\n",
       "      <th>1</th>\n",
       "      <td>1</td>\n",
       "      <td>15749177</td>\n",
       "      <td>2024</td>\n",
       "      <td>627</td>\n",
       "      <td>0</td>\n",
       "      <td>1</td>\n",
       "      <td>33.0</td>\n",
       "      <td>1</td>\n",
       "      <td>0.00</td>\n",
       "      <td>2</td>\n",
       "      <td>1.0</td>\n",
       "      <td>1.0</td>\n",
       "      <td>49503.50</td>\n",
       "      <td>0</td>\n",
       "    </tr>\n",
       "    <tr>\n",
       "      <th>2</th>\n",
       "      <td>2</td>\n",
       "      <td>15694510</td>\n",
       "      <td>1236</td>\n",
       "      <td>678</td>\n",
       "      <td>0</td>\n",
       "      <td>1</td>\n",
       "      <td>40.0</td>\n",
       "      <td>10</td>\n",
       "      <td>0.00</td>\n",
       "      <td>2</td>\n",
       "      <td>1.0</td>\n",
       "      <td>0.0</td>\n",
       "      <td>184866.69</td>\n",
       "      <td>0</td>\n",
       "    </tr>\n",
       "    <tr>\n",
       "      <th>3</th>\n",
       "      <td>3</td>\n",
       "      <td>15741417</td>\n",
       "      <td>1362</td>\n",
       "      <td>581</td>\n",
       "      <td>0</td>\n",
       "      <td>1</td>\n",
       "      <td>34.0</td>\n",
       "      <td>2</td>\n",
       "      <td>148882.54</td>\n",
       "      <td>1</td>\n",
       "      <td>1.0</td>\n",
       "      <td>1.0</td>\n",
       "      <td>84560.88</td>\n",
       "      <td>0</td>\n",
       "    </tr>\n",
       "    <tr>\n",
       "      <th>4</th>\n",
       "      <td>4</td>\n",
       "      <td>15766172</td>\n",
       "      <td>491</td>\n",
       "      <td>716</td>\n",
       "      <td>2</td>\n",
       "      <td>1</td>\n",
       "      <td>33.0</td>\n",
       "      <td>5</td>\n",
       "      <td>0.00</td>\n",
       "      <td>2</td>\n",
       "      <td>1.0</td>\n",
       "      <td>1.0</td>\n",
       "      <td>15068.83</td>\n",
       "      <td>0</td>\n",
       "    </tr>\n",
       "    <tr>\n",
       "      <th>...</th>\n",
       "      <td>...</td>\n",
       "      <td>...</td>\n",
       "      <td>...</td>\n",
       "      <td>...</td>\n",
       "      <td>...</td>\n",
       "      <td>...</td>\n",
       "      <td>...</td>\n",
       "      <td>...</td>\n",
       "      <td>...</td>\n",
       "      <td>...</td>\n",
       "      <td>...</td>\n",
       "      <td>...</td>\n",
       "      <td>...</td>\n",
       "      <td>...</td>\n",
       "    </tr>\n",
       "    <tr>\n",
       "      <th>175031</th>\n",
       "      <td>9998</td>\n",
       "      <td>15584532</td>\n",
       "      <td>1570</td>\n",
       "      <td>709</td>\n",
       "      <td>0</td>\n",
       "      <td>0</td>\n",
       "      <td>36.0</td>\n",
       "      <td>7</td>\n",
       "      <td>0.00</td>\n",
       "      <td>1</td>\n",
       "      <td>0.0</td>\n",
       "      <td>1.0</td>\n",
       "      <td>42085.58</td>\n",
       "      <td>1</td>\n",
       "    </tr>\n",
       "    <tr>\n",
       "      <th>175032</th>\n",
       "      <td>9999</td>\n",
       "      <td>15682355</td>\n",
       "      <td>2345</td>\n",
       "      <td>772</td>\n",
       "      <td>1</td>\n",
       "      <td>1</td>\n",
       "      <td>42.0</td>\n",
       "      <td>3</td>\n",
       "      <td>75075.31</td>\n",
       "      <td>2</td>\n",
       "      <td>1.0</td>\n",
       "      <td>0.0</td>\n",
       "      <td>92888.52</td>\n",
       "      <td>1</td>\n",
       "    </tr>\n",
       "    <tr>\n",
       "      <th>175033</th>\n",
       "      <td>9999</td>\n",
       "      <td>15682355</td>\n",
       "      <td>2345</td>\n",
       "      <td>772</td>\n",
       "      <td>1</td>\n",
       "      <td>1</td>\n",
       "      <td>42.0</td>\n",
       "      <td>3</td>\n",
       "      <td>75075.31</td>\n",
       "      <td>2</td>\n",
       "      <td>1.0</td>\n",
       "      <td>0.0</td>\n",
       "      <td>92888.52</td>\n",
       "      <td>1</td>\n",
       "    </tr>\n",
       "    <tr>\n",
       "      <th>175034</th>\n",
       "      <td>10000</td>\n",
       "      <td>15628319</td>\n",
       "      <td>2751</td>\n",
       "      <td>792</td>\n",
       "      <td>0</td>\n",
       "      <td>0</td>\n",
       "      <td>28.0</td>\n",
       "      <td>4</td>\n",
       "      <td>130142.79</td>\n",
       "      <td>1</td>\n",
       "      <td>1.0</td>\n",
       "      <td>0.0</td>\n",
       "      <td>38190.78</td>\n",
       "      <td>0</td>\n",
       "    </tr>\n",
       "    <tr>\n",
       "      <th>175035</th>\n",
       "      <td>10000</td>\n",
       "      <td>15628319</td>\n",
       "      <td>2751</td>\n",
       "      <td>792</td>\n",
       "      <td>0</td>\n",
       "      <td>0</td>\n",
       "      <td>28.0</td>\n",
       "      <td>4</td>\n",
       "      <td>130142.79</td>\n",
       "      <td>1</td>\n",
       "      <td>1.0</td>\n",
       "      <td>0.0</td>\n",
       "      <td>38190.78</td>\n",
       "      <td>0</td>\n",
       "    </tr>\n",
       "  </tbody>\n",
       "</table>\n",
       "<p>175033 rows × 14 columns</p>\n",
       "</div>"
      ],
      "text/plain": [
       "           id  CustomerId  Surname  CreditScore  Geography  Gender   Age  \\\n",
       "0           0    15674932     2023          668          0       1  33.0   \n",
       "1           1    15749177     2024          627          0       1  33.0   \n",
       "2           2    15694510     1236          678          0       1  40.0   \n",
       "3           3    15741417     1362          581          0       1  34.0   \n",
       "4           4    15766172      491          716          2       1  33.0   \n",
       "...       ...         ...      ...          ...        ...     ...   ...   \n",
       "175031   9998    15584532     1570          709          0       0  36.0   \n",
       "175032   9999    15682355     2345          772          1       1  42.0   \n",
       "175033   9999    15682355     2345          772          1       1  42.0   \n",
       "175034  10000    15628319     2751          792          0       0  28.0   \n",
       "175035  10000    15628319     2751          792          0       0  28.0   \n",
       "\n",
       "        Tenure    Balance  NumOfProducts  HasCrCard  IsActiveMember  \\\n",
       "0            3       0.00              2        1.0             0.0   \n",
       "1            1       0.00              2        1.0             1.0   \n",
       "2           10       0.00              2        1.0             0.0   \n",
       "3            2  148882.54              1        1.0             1.0   \n",
       "4            5       0.00              2        1.0             1.0   \n",
       "...        ...        ...            ...        ...             ...   \n",
       "175031       7       0.00              1        0.0             1.0   \n",
       "175032       3   75075.31              2        1.0             0.0   \n",
       "175033       3   75075.31              2        1.0             0.0   \n",
       "175034       4  130142.79              1        1.0             0.0   \n",
       "175035       4  130142.79              1        1.0             0.0   \n",
       "\n",
       "        EstimatedSalary  Exited  \n",
       "0             181449.97       0  \n",
       "1              49503.50       0  \n",
       "2             184866.69       0  \n",
       "3              84560.88       0  \n",
       "4              15068.83       0  \n",
       "...                 ...     ...  \n",
       "175031         42085.58       1  \n",
       "175032         92888.52       1  \n",
       "175033         92888.52       1  \n",
       "175034         38190.78       0  \n",
       "175035         38190.78       0  \n",
       "\n",
       "[175033 rows x 14 columns]"
      ]
     },
     "execution_count": 29,
     "metadata": {},
     "output_type": "execute_result"
    }
   ],
   "source": [
    "df_combined"
   ]
  },
  {
   "cell_type": "code",
   "execution_count": 30,
   "id": "3237abf8",
   "metadata": {
    "execution": {
     "iopub.execute_input": "2024-01-08T15:46:18.138062Z",
     "iopub.status.busy": "2024-01-08T15:46:18.137715Z",
     "iopub.status.idle": "2024-01-08T15:46:18.159113Z",
     "shell.execute_reply": "2024-01-08T15:46:18.158209Z"
    },
    "papermill": {
     "duration": 0.043861,
     "end_time": "2024-01-08T15:46:18.161131",
     "exception": false,
     "start_time": "2024-01-08T15:46:18.117270",
     "status": "completed"
    },
    "tags": []
   },
   "outputs": [
    {
     "data": {
      "text/html": [
       "<div>\n",
       "<style scoped>\n",
       "    .dataframe tbody tr th:only-of-type {\n",
       "        vertical-align: middle;\n",
       "    }\n",
       "\n",
       "    .dataframe tbody tr th {\n",
       "        vertical-align: top;\n",
       "    }\n",
       "\n",
       "    .dataframe thead th {\n",
       "        text-align: right;\n",
       "    }\n",
       "</style>\n",
       "<table border=\"1\" class=\"dataframe\">\n",
       "  <thead>\n",
       "    <tr style=\"text-align: right;\">\n",
       "      <th></th>\n",
       "      <th>id</th>\n",
       "      <th>CustomerId</th>\n",
       "      <th>Surname</th>\n",
       "      <th>CreditScore</th>\n",
       "      <th>Geography</th>\n",
       "      <th>Gender</th>\n",
       "      <th>Age</th>\n",
       "      <th>Tenure</th>\n",
       "      <th>Balance</th>\n",
       "      <th>NumOfProducts</th>\n",
       "      <th>HasCrCard</th>\n",
       "      <th>IsActiveMember</th>\n",
       "      <th>EstimatedSalary</th>\n",
       "    </tr>\n",
       "  </thead>\n",
       "  <tbody>\n",
       "    <tr>\n",
       "      <th>0</th>\n",
       "      <td>165034</td>\n",
       "      <td>15773898</td>\n",
       "      <td>1607</td>\n",
       "      <td>586</td>\n",
       "      <td>0</td>\n",
       "      <td>0</td>\n",
       "      <td>23.0</td>\n",
       "      <td>2</td>\n",
       "      <td>0.00</td>\n",
       "      <td>2</td>\n",
       "      <td>0.0</td>\n",
       "      <td>1.0</td>\n",
       "      <td>160976.75</td>\n",
       "    </tr>\n",
       "    <tr>\n",
       "      <th>1</th>\n",
       "      <td>165035</td>\n",
       "      <td>15782418</td>\n",
       "      <td>1966</td>\n",
       "      <td>683</td>\n",
       "      <td>0</td>\n",
       "      <td>0</td>\n",
       "      <td>46.0</td>\n",
       "      <td>2</td>\n",
       "      <td>0.00</td>\n",
       "      <td>1</td>\n",
       "      <td>1.0</td>\n",
       "      <td>0.0</td>\n",
       "      <td>72549.27</td>\n",
       "    </tr>\n",
       "    <tr>\n",
       "      <th>2</th>\n",
       "      <td>165036</td>\n",
       "      <td>15807120</td>\n",
       "      <td>1351</td>\n",
       "      <td>656</td>\n",
       "      <td>0</td>\n",
       "      <td>0</td>\n",
       "      <td>34.0</td>\n",
       "      <td>7</td>\n",
       "      <td>0.00</td>\n",
       "      <td>2</td>\n",
       "      <td>1.0</td>\n",
       "      <td>0.0</td>\n",
       "      <td>138882.09</td>\n",
       "    </tr>\n",
       "    <tr>\n",
       "      <th>3</th>\n",
       "      <td>165037</td>\n",
       "      <td>15808905</td>\n",
       "      <td>1986</td>\n",
       "      <td>681</td>\n",
       "      <td>0</td>\n",
       "      <td>1</td>\n",
       "      <td>36.0</td>\n",
       "      <td>8</td>\n",
       "      <td>0.00</td>\n",
       "      <td>1</td>\n",
       "      <td>1.0</td>\n",
       "      <td>0.0</td>\n",
       "      <td>113931.57</td>\n",
       "    </tr>\n",
       "    <tr>\n",
       "      <th>4</th>\n",
       "      <td>165038</td>\n",
       "      <td>15607314</td>\n",
       "      <td>1172</td>\n",
       "      <td>752</td>\n",
       "      <td>1</td>\n",
       "      <td>1</td>\n",
       "      <td>38.0</td>\n",
       "      <td>10</td>\n",
       "      <td>121263.62</td>\n",
       "      <td>1</td>\n",
       "      <td>1.0</td>\n",
       "      <td>0.0</td>\n",
       "      <td>139431.00</td>\n",
       "    </tr>\n",
       "    <tr>\n",
       "      <th>...</th>\n",
       "      <td>...</td>\n",
       "      <td>...</td>\n",
       "      <td>...</td>\n",
       "      <td>...</td>\n",
       "      <td>...</td>\n",
       "      <td>...</td>\n",
       "      <td>...</td>\n",
       "      <td>...</td>\n",
       "      <td>...</td>\n",
       "      <td>...</td>\n",
       "      <td>...</td>\n",
       "      <td>...</td>\n",
       "      <td>...</td>\n",
       "    </tr>\n",
       "    <tr>\n",
       "      <th>110018</th>\n",
       "      <td>275052</td>\n",
       "      <td>15662091</td>\n",
       "      <td>2089</td>\n",
       "      <td>570</td>\n",
       "      <td>2</td>\n",
       "      <td>1</td>\n",
       "      <td>29.0</td>\n",
       "      <td>7</td>\n",
       "      <td>116099.82</td>\n",
       "      <td>1</td>\n",
       "      <td>1.0</td>\n",
       "      <td>1.0</td>\n",
       "      <td>148087.62</td>\n",
       "    </tr>\n",
       "    <tr>\n",
       "      <th>110019</th>\n",
       "      <td>275053</td>\n",
       "      <td>15774133</td>\n",
       "      <td>628</td>\n",
       "      <td>575</td>\n",
       "      <td>0</td>\n",
       "      <td>0</td>\n",
       "      <td>36.0</td>\n",
       "      <td>4</td>\n",
       "      <td>178032.53</td>\n",
       "      <td>1</td>\n",
       "      <td>1.0</td>\n",
       "      <td>1.0</td>\n",
       "      <td>42181.68</td>\n",
       "    </tr>\n",
       "    <tr>\n",
       "      <th>110020</th>\n",
       "      <td>275054</td>\n",
       "      <td>15728456</td>\n",
       "      <td>441</td>\n",
       "      <td>712</td>\n",
       "      <td>0</td>\n",
       "      <td>1</td>\n",
       "      <td>31.0</td>\n",
       "      <td>2</td>\n",
       "      <td>0.00</td>\n",
       "      <td>2</td>\n",
       "      <td>1.0</td>\n",
       "      <td>0.0</td>\n",
       "      <td>16287.38</td>\n",
       "    </tr>\n",
       "    <tr>\n",
       "      <th>110021</th>\n",
       "      <td>275055</td>\n",
       "      <td>15687541</td>\n",
       "      <td>2877</td>\n",
       "      <td>709</td>\n",
       "      <td>0</td>\n",
       "      <td>0</td>\n",
       "      <td>32.0</td>\n",
       "      <td>3</td>\n",
       "      <td>0.00</td>\n",
       "      <td>1</td>\n",
       "      <td>1.0</td>\n",
       "      <td>1.0</td>\n",
       "      <td>158816.58</td>\n",
       "    </tr>\n",
       "    <tr>\n",
       "      <th>110022</th>\n",
       "      <td>275056</td>\n",
       "      <td>15663942</td>\n",
       "      <td>2662</td>\n",
       "      <td>621</td>\n",
       "      <td>0</td>\n",
       "      <td>0</td>\n",
       "      <td>37.0</td>\n",
       "      <td>7</td>\n",
       "      <td>87848.39</td>\n",
       "      <td>1</td>\n",
       "      <td>1.0</td>\n",
       "      <td>0.0</td>\n",
       "      <td>24210.56</td>\n",
       "    </tr>\n",
       "  </tbody>\n",
       "</table>\n",
       "<p>110023 rows × 13 columns</p>\n",
       "</div>"
      ],
      "text/plain": [
       "            id  CustomerId  Surname  CreditScore  Geography  Gender   Age  \\\n",
       "0       165034    15773898     1607          586          0       0  23.0   \n",
       "1       165035    15782418     1966          683          0       0  46.0   \n",
       "2       165036    15807120     1351          656          0       0  34.0   \n",
       "3       165037    15808905     1986          681          0       1  36.0   \n",
       "4       165038    15607314     1172          752          1       1  38.0   \n",
       "...        ...         ...      ...          ...        ...     ...   ...   \n",
       "110018  275052    15662091     2089          570          2       1  29.0   \n",
       "110019  275053    15774133      628          575          0       0  36.0   \n",
       "110020  275054    15728456      441          712          0       1  31.0   \n",
       "110021  275055    15687541     2877          709          0       0  32.0   \n",
       "110022  275056    15663942     2662          621          0       0  37.0   \n",
       "\n",
       "        Tenure    Balance  NumOfProducts  HasCrCard  IsActiveMember  \\\n",
       "0            2       0.00              2        0.0             1.0   \n",
       "1            2       0.00              1        1.0             0.0   \n",
       "2            7       0.00              2        1.0             0.0   \n",
       "3            8       0.00              1        1.0             0.0   \n",
       "4           10  121263.62              1        1.0             0.0   \n",
       "...        ...        ...            ...        ...             ...   \n",
       "110018       7  116099.82              1        1.0             1.0   \n",
       "110019       4  178032.53              1        1.0             1.0   \n",
       "110020       2       0.00              2        1.0             0.0   \n",
       "110021       3       0.00              1        1.0             1.0   \n",
       "110022       7   87848.39              1        1.0             0.0   \n",
       "\n",
       "        EstimatedSalary  \n",
       "0             160976.75  \n",
       "1              72549.27  \n",
       "2             138882.09  \n",
       "3             113931.57  \n",
       "4             139431.00  \n",
       "...                 ...  \n",
       "110018        148087.62  \n",
       "110019         42181.68  \n",
       "110020         16287.38  \n",
       "110021        158816.58  \n",
       "110022         24210.56  \n",
       "\n",
       "[110023 rows x 13 columns]"
      ]
     },
     "execution_count": 30,
     "metadata": {},
     "output_type": "execute_result"
    }
   ],
   "source": [
    "df_test"
   ]
  },
  {
   "cell_type": "code",
   "execution_count": 31,
   "id": "7d1e988c",
   "metadata": {
    "execution": {
     "iopub.execute_input": "2024-01-08T15:46:18.201890Z",
     "iopub.status.busy": "2024-01-08T15:46:18.201559Z",
     "iopub.status.idle": "2024-01-08T15:46:18.205499Z",
     "shell.execute_reply": "2024-01-08T15:46:18.204663Z"
    },
    "papermill": {
     "duration": 0.026428,
     "end_time": "2024-01-08T15:46:18.207464",
     "exception": false,
     "start_time": "2024-01-08T15:46:18.181036",
     "status": "completed"
    },
    "tags": []
   },
   "outputs": [],
   "source": [
    "#max(df_combined['CreditScore']), max(df_test['CreditScore'])"
   ]
  },
  {
   "cell_type": "code",
   "execution_count": 32,
   "id": "033f2db4",
   "metadata": {
    "execution": {
     "iopub.execute_input": "2024-01-08T15:46:18.247487Z",
     "iopub.status.busy": "2024-01-08T15:46:18.247126Z",
     "iopub.status.idle": "2024-01-08T15:46:18.253553Z",
     "shell.execute_reply": "2024-01-08T15:46:18.252733Z"
    },
    "papermill": {
     "duration": 0.028628,
     "end_time": "2024-01-08T15:46:18.255497",
     "exception": false,
     "start_time": "2024-01-08T15:46:18.226869",
     "status": "completed"
    },
    "tags": []
   },
   "outputs": [],
   "source": [
    "def add_new_features(df):\n",
    "    df['AgeGroup'] = df['Age'] // 10 * 10\n",
    "    df['IsSenior'] = df['Age'].apply(lambda x: 1 if x >= 65 else 0)\n",
    "    df['Balance_to_Salary_Ratio'] = df['Balance'] / df['EstimatedSalary']\n",
    "    df['CreditScoreTier'] = pd.cut(df['CreditScore'], bins=[0, 650, 750, 850], labels=['0', '1', '2'])\n",
    "    df['IsActive_by_CreditCard'] = df['HasCrCard'] * df['IsActiveMember']\n",
    "    df['Customer_Status'] = df['Tenure'].apply(lambda x:0 if x < 2 else 1)\n",
    "    return df"
   ]
  },
  {
   "cell_type": "code",
   "execution_count": 33,
   "id": "6bbaa14b",
   "metadata": {
    "execution": {
     "iopub.execute_input": "2024-01-08T15:46:18.295811Z",
     "iopub.status.busy": "2024-01-08T15:46:18.295458Z",
     "iopub.status.idle": "2024-01-08T15:46:18.703342Z",
     "shell.execute_reply": "2024-01-08T15:46:18.702473Z"
    },
    "papermill": {
     "duration": 0.430932,
     "end_time": "2024-01-08T15:46:18.705713",
     "exception": false,
     "start_time": "2024-01-08T15:46:18.274781",
     "status": "completed"
    },
    "tags": []
   },
   "outputs": [],
   "source": [
    "df_combined=add_new_features(df_combined)\n",
    "df_test=add_new_features(df_test)"
   ]
  },
  {
   "cell_type": "code",
   "execution_count": 34,
   "id": "93fb4bc0",
   "metadata": {
    "execution": {
     "iopub.execute_input": "2024-01-08T15:46:18.746146Z",
     "iopub.status.busy": "2024-01-08T15:46:18.745794Z",
     "iopub.status.idle": "2024-01-08T15:46:18.780115Z",
     "shell.execute_reply": "2024-01-08T15:46:18.779321Z"
    },
    "papermill": {
     "duration": 0.05677,
     "end_time": "2024-01-08T15:46:18.782188",
     "exception": false,
     "start_time": "2024-01-08T15:46:18.725418",
     "status": "completed"
    },
    "tags": []
   },
   "outputs": [],
   "source": [
    "y_train=df_combined['Exited']\n",
    "X_train=df_combined.drop(['Exited','id'],axis=1)\n",
    "X_test=df_test.drop(['id'],axis=1)"
   ]
  },
  {
   "cell_type": "code",
   "execution_count": 35,
   "id": "7f1084d4",
   "metadata": {
    "execution": {
     "iopub.execute_input": "2024-01-08T15:46:18.822512Z",
     "iopub.status.busy": "2024-01-08T15:46:18.822144Z",
     "iopub.status.idle": "2024-01-08T15:46:18.828249Z",
     "shell.execute_reply": "2024-01-08T15:46:18.827475Z"
    },
    "papermill": {
     "duration": 0.028452,
     "end_time": "2024-01-08T15:46:18.830258",
     "exception": false,
     "start_time": "2024-01-08T15:46:18.801806",
     "status": "completed"
    },
    "tags": []
   },
   "outputs": [
    {
     "data": {
      "text/plain": [
       "Index(['CustomerId', 'Surname', 'CreditScore', 'Geography', 'Gender', 'Age',\n",
       "       'Tenure', 'Balance', 'NumOfProducts', 'HasCrCard', 'IsActiveMember',\n",
       "       'EstimatedSalary', 'AgeGroup', 'IsSenior', 'Balance_to_Salary_Ratio',\n",
       "       'CreditScoreTier', 'IsActive_by_CreditCard', 'Customer_Status'],\n",
       "      dtype='object')"
      ]
     },
     "execution_count": 35,
     "metadata": {},
     "output_type": "execute_result"
    }
   ],
   "source": [
    "X_train.keys()"
   ]
  },
  {
   "cell_type": "code",
   "execution_count": 36,
   "id": "dbdd622f",
   "metadata": {
    "execution": {
     "iopub.execute_input": "2024-01-08T15:46:18.870722Z",
     "iopub.status.busy": "2024-01-08T15:46:18.870376Z",
     "iopub.status.idle": "2024-01-08T15:46:18.876174Z",
     "shell.execute_reply": "2024-01-08T15:46:18.875368Z"
    },
    "papermill": {
     "duration": 0.028472,
     "end_time": "2024-01-08T15:46:18.878171",
     "exception": false,
     "start_time": "2024-01-08T15:46:18.849699",
     "status": "completed"
    },
    "tags": []
   },
   "outputs": [
    {
     "data": {
      "text/plain": [
       "Index(['CustomerId', 'Surname', 'CreditScore', 'Geography', 'Gender', 'Age',\n",
       "       'Tenure', 'Balance', 'NumOfProducts', 'HasCrCard', 'IsActiveMember',\n",
       "       'EstimatedSalary', 'AgeGroup', 'IsSenior', 'Balance_to_Salary_Ratio',\n",
       "       'CreditScoreTier', 'IsActive_by_CreditCard', 'Customer_Status'],\n",
       "      dtype='object')"
      ]
     },
     "execution_count": 36,
     "metadata": {},
     "output_type": "execute_result"
    }
   ],
   "source": [
    "X_test.keys()"
   ]
  },
  {
   "cell_type": "code",
   "execution_count": 37,
   "id": "eb44d45f",
   "metadata": {
    "execution": {
     "iopub.execute_input": "2024-01-08T15:46:18.918874Z",
     "iopub.status.busy": "2024-01-08T15:46:18.918543Z",
     "iopub.status.idle": "2024-01-08T15:46:18.924310Z",
     "shell.execute_reply": "2024-01-08T15:46:18.923538Z"
    },
    "papermill": {
     "duration": 0.028632,
     "end_time": "2024-01-08T15:46:18.926233",
     "exception": false,
     "start_time": "2024-01-08T15:46:18.897601",
     "status": "completed"
    },
    "tags": []
   },
   "outputs": [
    {
     "data": {
      "text/plain": [
       "((175033, 18), (110023, 18))"
      ]
     },
     "execution_count": 37,
     "metadata": {},
     "output_type": "execute_result"
    }
   ],
   "source": [
    "X_train.shape, X_test.shape"
   ]
  },
  {
   "cell_type": "code",
   "execution_count": 38,
   "id": "96d1bb6f",
   "metadata": {
    "execution": {
     "iopub.execute_input": "2024-01-08T15:46:18.967439Z",
     "iopub.status.busy": "2024-01-08T15:46:18.967067Z",
     "iopub.status.idle": "2024-01-08T15:46:23.429249Z",
     "shell.execute_reply": "2024-01-08T15:46:23.428297Z"
    },
    "papermill": {
     "duration": 4.487471,
     "end_time": "2024-01-08T15:46:23.433286",
     "exception": false,
     "start_time": "2024-01-08T15:46:18.945815",
     "status": "completed"
    },
    "tags": []
   },
   "outputs": [
    {
     "data": {
      "image/png": "[encoded data removed]",
      "text/plain": [
       "<Figure size 2000x2000 with 20 Axes>"
      ]
     },
     "metadata": {},
     "output_type": "display_data"
    }
   ],
   "source": [
    "X_train.hist(figsize=(20,20),color = 'blue')\n",
    "plt.show()"
   ]
  },
  {
   "cell_type": "code",
   "execution_count": 39,
   "id": "668572d4",
   "metadata": {
    "execution": {
     "iopub.execute_input": "2024-01-08T15:46:23.480945Z",
     "iopub.status.busy": "2024-01-08T15:46:23.480580Z",
     "iopub.status.idle": "2024-01-08T15:46:23.485018Z",
     "shell.execute_reply": "2024-01-08T15:46:23.484173Z"
    },
    "papermill": {
     "duration": 0.030977,
     "end_time": "2024-01-08T15:46:23.486951",
     "exception": false,
     "start_time": "2024-01-08T15:46:23.455974",
     "status": "completed"
    },
    "tags": []
   },
   "outputs": [],
   "source": [
    "features=list(X_train)"
   ]
  },
  {
   "cell_type": "code",
   "execution_count": 40,
   "id": "6c54b540",
   "metadata": {
    "execution": {
     "iopub.execute_input": "2024-01-08T15:46:23.533507Z",
     "iopub.status.busy": "2024-01-08T15:46:23.533149Z",
     "iopub.status.idle": "2024-01-08T15:46:23.615365Z",
     "shell.execute_reply": "2024-01-08T15:46:23.614355Z"
    },
    "papermill": {
     "duration": 0.108082,
     "end_time": "2024-01-08T15:46:23.617775",
     "exception": false,
     "start_time": "2024-01-08T15:46:23.509693",
     "status": "completed"
    },
    "tags": []
   },
   "outputs": [
    {
     "name": "stdout",
     "output_type": "stream",
     "text": [
      "CustomerId : -0.009717656060735323\n",
      "Surname : -0.02700503482871959\n",
      "CreditScore : -0.02723470190321217\n",
      "Geography : 0.05219880264483844\n",
      "Gender : -0.14411789200235817\n",
      "Age : 0.3366026281717808\n",
      "Tenure : -0.01925227017021265\n",
      "Balance : 0.12838878791130443\n",
      "NumOfProducts : -0.20449580851481175\n",
      "HasCrCard : -0.02111888816106734\n",
      "IsActiveMember : -0.2072118566692743\n",
      "EstimatedSalary : 0.018603941855032193\n",
      "AgeGroup : 0.3221899398541786\n",
      "IsSenior : -0.002574525172480242\n",
      "Balance_to_Salary_Ratio : 0.003118271517108101\n",
      "CreditScoreTier : -0.028340414182083606\n",
      "IsActive_by_CreditCard : -0.17564549481514016\n",
      "Customer_Status : -0.0202666866789978\n"
     ]
    }
   ],
   "source": [
    "# show correlation to target\n",
    "for f in features:\n",
    "    print(f,\":\",X_train[f].corr(y_train))"
   ]
  },
  {
   "cell_type": "code",
   "execution_count": 41,
   "id": "ed2d7253",
   "metadata": {
    "execution": {
     "iopub.execute_input": "2024-01-08T15:46:23.665200Z",
     "iopub.status.busy": "2024-01-08T15:46:23.664473Z",
     "iopub.status.idle": "2024-01-08T15:46:23.669572Z",
     "shell.execute_reply": "2024-01-08T15:46:23.668645Z"
    },
    "papermill": {
     "duration": 0.031224,
     "end_time": "2024-01-08T15:46:23.671713",
     "exception": false,
     "start_time": "2024-01-08T15:46:23.640489",
     "status": "completed"
    },
    "tags": []
   },
   "outputs": [],
   "source": [
    "# plausible candidate_features_to_be_dropped in analysis phase based on guess \n",
    "candiate_features_1=['Surname','CreditScore','Geography','Tenure','HasCrCard','EstimatedSalary']\n",
    "candiate_features_2=['Surname','Tenure','HasCrCard','EstimatedSalary']\n",
    "candiate_features_3=['Geography','Tenure']\n",
    "candiate_features_4=[]"
   ]
  },
  {
   "cell_type": "code",
   "execution_count": 42,
   "id": "517bd081",
   "metadata": {
    "execution": {
     "iopub.execute_input": "2024-01-08T15:46:23.718127Z",
     "iopub.status.busy": "2024-01-08T15:46:23.717295Z",
     "iopub.status.idle": "2024-01-08T15:46:23.723557Z",
     "shell.execute_reply": "2024-01-08T15:46:23.722572Z"
    },
    "papermill": {
     "duration": 0.03144,
     "end_time": "2024-01-08T15:46:23.725443",
     "exception": false,
     "start_time": "2024-01-08T15:46:23.694003",
     "status": "completed"
    },
    "tags": []
   },
   "outputs": [
    {
     "data": {
      "text/plain": [
       "((175033, 18), (110023, 18))"
      ]
     },
     "execution_count": 42,
     "metadata": {},
     "output_type": "execute_result"
    }
   ],
   "source": [
    "X_train.shape, X_test.shape"
   ]
  },
  {
   "cell_type": "code",
   "execution_count": 43,
   "id": "d5dcc05e",
   "metadata": {
    "execution": {
     "iopub.execute_input": "2024-01-08T15:46:23.772014Z",
     "iopub.status.busy": "2024-01-08T15:46:23.771665Z",
     "iopub.status.idle": "2024-01-08T15:46:23.775939Z",
     "shell.execute_reply": "2024-01-08T15:46:23.775091Z"
    },
    "papermill": {
     "duration": 0.0299,
     "end_time": "2024-01-08T15:46:23.777868",
     "exception": false,
     "start_time": "2024-01-08T15:46:23.747968",
     "status": "completed"
    },
    "tags": []
   },
   "outputs": [],
   "source": [
    "y_train=y_train.to_numpy()"
   ]
  },
  {
   "cell_type": "markdown",
   "id": "3b8ac0fb",
   "metadata": {
    "papermill": {
     "duration": 0.022359,
     "end_time": "2024-01-08T15:46:23.822895",
     "exception": false,
     "start_time": "2024-01-08T15:46:23.800536",
     "status": "completed"
    },
    "tags": []
   },
   "source": [
    "****************-----------------------------------**Models---**--------------------------------------************"
   ]
  },
  {
   "cell_type": "code",
   "execution_count": 44,
   "id": "1bf281c8",
   "metadata": {
    "execution": {
     "iopub.execute_input": "2024-01-08T15:46:23.869491Z",
     "iopub.status.busy": "2024-01-08T15:46:23.869088Z",
     "iopub.status.idle": "2024-01-08T15:46:24.167978Z",
     "shell.execute_reply": "2024-01-08T15:46:24.166930Z"
    },
    "papermill": {
     "duration": 0.325079,
     "end_time": "2024-01-08T15:46:24.170468",
     "exception": false,
     "start_time": "2024-01-08T15:46:23.845389",
     "status": "completed"
    },
    "tags": []
   },
   "outputs": [],
   "source": [
    "from sklearn.ensemble import RandomForestClassifier\n",
    "from sklearn.ensemble import ExtraTreesClassifier\n",
    "from sklearn.ensemble import VotingClassifier\n",
    "from sklearn.model_selection import cross_validate\n",
    "from sklearn.model_selection import RepeatedStratifiedKFold\n",
    "from sklearn.model_selection import StratifiedKFold\n",
    "from sklearn.model_selection import cross_val_score\n",
    "from sklearn.metrics import roc_auc_score"
   ]
  },
  {
   "cell_type": "code",
   "execution_count": 45,
   "id": "dc4089a2",
   "metadata": {
    "execution": {
     "iopub.execute_input": "2024-01-08T15:46:24.219464Z",
     "iopub.status.busy": "2024-01-08T15:46:24.219093Z",
     "iopub.status.idle": "2024-01-08T15:46:37.330232Z",
     "shell.execute_reply": "2024-01-08T15:46:37.328851Z"
    },
    "papermill": {
     "duration": 13.137576,
     "end_time": "2024-01-08T15:46:37.332373",
     "exception": false,
     "start_time": "2024-01-08T15:46:24.194797",
     "status": "completed"
    },
    "tags": []
   },
   "outputs": [
    {
     "name": "stdout",
     "output_type": "stream",
     "text": [
      "Requirement already satisfied: xgboost in /usr/local/lib/python3.10/dist-packages (2.0.0)\n",
      "Requirement already satisfied: numpy in /usr/local/lib/python3.10/dist-packages (from xgboost) (1.24.4)\n",
      "Requirement already satisfied: scipy in /usr/local/lib/python3.10/dist-packages (from xgboost) (1.11.2)\n",
      "\u001b[33mWARNING: Running pip as the 'root' user can result in broken permissions and conflicting behaviour with the system package manager. It is recommended to use a virtual environment instead: https://pip.pypa.io/warnings/venv\u001b[0m\u001b[33m\n",
      "\u001b[0m\n",
      "\u001b[1m[\u001b[0m\u001b[34;49mnotice\u001b[0m\u001b[1;39;49m]\u001b[0m\u001b[39;49m A new release of pip is available: \u001b[0m\u001b[31;49m23.2.1\u001b[0m\u001b[39;49m -> \u001b[0m\u001b[32;49m23.3.2\u001b[0m\n",
      "\u001b[1m[\u001b[0m\u001b[34;49mnotice\u001b[0m\u001b[1;39;49m]\u001b[0m\u001b[39;49m To update, run: \u001b[0m\u001b[32;49mpip install --upgrade pip\u001b[0m\n",
      "2.0.0\n"
     ]
    }
   ],
   "source": [
    "!pip install xgboost\n",
    "# check xgboost version\n",
    "import xgboost\n",
    "print(xgboost.__version__)"
   ]
  },
  {
   "cell_type": "code",
   "execution_count": 46,
   "id": "f4cf5c47",
   "metadata": {
    "execution": {
     "iopub.execute_input": "2024-01-08T15:46:37.380415Z",
     "iopub.status.busy": "2024-01-08T15:46:37.379490Z",
     "iopub.status.idle": "2024-01-08T15:46:37.384273Z",
     "shell.execute_reply": "2024-01-08T15:46:37.383344Z"
    },
    "papermill": {
     "duration": 0.031,
     "end_time": "2024-01-08T15:46:37.386380",
     "exception": false,
     "start_time": "2024-01-08T15:46:37.355380",
     "status": "completed"
    },
    "tags": []
   },
   "outputs": [],
   "source": [
    "import xgboost as xgb"
   ]
  },
  {
   "cell_type": "code",
   "execution_count": 47,
   "id": "42767654",
   "metadata": {
    "execution": {
     "iopub.execute_input": "2024-01-08T15:46:37.435046Z",
     "iopub.status.busy": "2024-01-08T15:46:37.434695Z",
     "iopub.status.idle": "2024-01-08T15:46:37.440098Z",
     "shell.execute_reply": "2024-01-08T15:46:37.439196Z"
    },
    "papermill": {
     "duration": 0.032072,
     "end_time": "2024-01-08T15:46:37.442039",
     "exception": false,
     "start_time": "2024-01-08T15:46:37.409967",
     "status": "completed"
    },
    "tags": []
   },
   "outputs": [],
   "source": [
    "n_run=0\n",
    "test_preds = [] #for storing test_preds calculated by each model\n",
    "errors_list = [] #for storing errors calculated by each model\n",
    "scores_list = [] #for storing roc auc scores calculated by each model\n",
    "score_threshold=0.0\n",
    "CV_Value=10\n",
    "n_splits=10 #20 #15\n",
    "SEED   = 97"
   ]
  },
  {
   "cell_type": "markdown",
   "id": "078a1032",
   "metadata": {
    "papermill": {
     "duration": 0.023404,
     "end_time": "2024-01-08T15:46:37.489423",
     "exception": false,
     "start_time": "2024-01-08T15:46:37.466019",
     "status": "completed"
    },
    "tags": []
   },
   "source": [
    "**Random Forest Classifier**"
   ]
  },
  {
   "cell_type": "code",
   "execution_count": 48,
   "id": "7daea415",
   "metadata": {
    "execution": {
     "iopub.execute_input": "2024-01-08T15:46:37.538099Z",
     "iopub.status.busy": "2024-01-08T15:46:37.537727Z",
     "iopub.status.idle": "2024-01-08T15:46:37.542533Z",
     "shell.execute_reply": "2024-01-08T15:46:37.541612Z"
    },
    "papermill": {
     "duration": 0.031188,
     "end_time": "2024-01-08T15:46:37.544478",
     "exception": false,
     "start_time": "2024-01-08T15:46:37.513290",
     "status": "completed"
    },
    "tags": []
   },
   "outputs": [],
   "source": [
    "rfc=RandomForestClassifier(n_estimators=250,max_features=None,max_depth=13,criterion='gini',random_state=83)"
   ]
  },
  {
   "cell_type": "code",
   "execution_count": 49,
   "id": "ba8ff41e",
   "metadata": {
    "execution": {
     "iopub.execute_input": "2024-01-08T15:46:37.593819Z",
     "iopub.status.busy": "2024-01-08T15:46:37.593425Z",
     "iopub.status.idle": "2024-01-08T15:47:56.304221Z",
     "shell.execute_reply": "2024-01-08T15:47:56.303223Z"
    },
    "papermill": {
     "duration": 78.761952,
     "end_time": "2024-01-08T15:47:56.329921",
     "exception": false,
     "start_time": "2024-01-08T15:46:37.567969",
     "status": "completed"
    },
    "tags": []
   },
   "outputs": [
    {
     "data": {
      "text/html": [
       "<style>#sk-container-id-1 {color: black;}#sk-container-id-1 pre{padding: 0;}#sk-container-id-1 div.sk-toggleable {background-color: white;}#sk-container-id-1 label.sk-toggleable__label {cursor: pointer;display: block;width: 100%;margin-bottom: 0;padding: 0.3em;box-sizing: border-box;text-align: center;}#sk-container-id-1 label.sk-toggleable__label-arrow:before {content: \"▸\";float: left;margin-right: 0.25em;color: #696969;}#sk-container-id-1 label.sk-toggleable__label-arrow:hover:before {color: black;}#sk-container-id-1 div.sk-estimator:hover label.sk-toggleable__label-arrow:before {color: black;}#sk-container-id-1 div.sk-toggleable__content {max-height: 0;max-width: 0;overflow: hidden;text-align: left;background-color: #f0f8ff;}#sk-container-id-1 div.sk-toggleable__content pre {margin: 0.2em;color: black;border-radius: 0.25em;background-color: #f0f8ff;}#sk-container-id-1 input.sk-toggleable__control:checked~div.sk-toggleable__content {max-height: 200px;max-width: 100%;overflow: auto;}#sk-container-id-1 input.sk-toggleable__control:checked~label.sk-toggleable__label-arrow:before {content: \"▾\";}#sk-container-id-1 div.sk-estimator input.sk-toggleable__control:checked~label.sk-toggleable__label {background-color: #d4ebff;}#sk-container-id-1 div.sk-label input.sk-toggleable__control:checked~label.sk-toggleable__label {background-color: #d4ebff;}#sk-container-id-1 input.sk-hidden--visually {border: 0;clip: rect(1px 1px 1px 1px);clip: rect(1px, 1px, 1px, 1px);height: 1px;margin: -1px;overflow: hidden;padding: 0;position: absolute;width: 1px;}#sk-container-id-1 div.sk-estimator {font-family: monospace;background-color: #f0f8ff;border: 1px dotted black;border-radius: 0.25em;box-sizing: border-box;margin-bottom: 0.5em;}#sk-container-id-1 div.sk-estimator:hover {background-color: #d4ebff;}#sk-container-id-1 div.sk-parallel-item::after {content: \"\";width: 100%;border-bottom: 1px solid gray;flex-grow: 1;}#sk-container-id-1 div.sk-label:hover label.sk-toggleable__label {background-color: #d4ebff;}#sk-container-id-1 div.sk-serial::before {content: \"\";position: absolute;border-left: 1px solid gray;box-sizing: border-box;top: 0;bottom: 0;left: 50%;z-index: 0;}#sk-container-id-1 div.sk-serial {display: flex;flex-direction: column;align-items: center;background-color: white;padding-right: 0.2em;padding-left: 0.2em;position: relative;}#sk-container-id-1 div.sk-item {position: relative;z-index: 1;}#sk-container-id-1 div.sk-parallel {display: flex;align-items: stretch;justify-content: center;background-color: white;position: relative;}#sk-container-id-1 div.sk-item::before, #sk-container-id-1 div.sk-parallel-item::before {content: \"\";position: absolute;border-left: 1px solid gray;box-sizing: border-box;top: 0;bottom: 0;left: 50%;z-index: -1;}#sk-container-id-1 div.sk-parallel-item {display: flex;flex-direction: column;z-index: 1;position: relative;background-color: white;}#sk-container-id-1 div.sk-parallel-item:first-child::after {align-self: flex-end;width: 50%;}#sk-container-id-1 div.sk-parallel-item:last-child::after {align-self: flex-start;width: 50%;}#sk-container-id-1 div.sk-parallel-item:only-child::after {width: 0;}#sk-container-id-1 div.sk-dashed-wrapped {border: 1px dashed gray;margin: 0 0.4em 0.5em 0.4em;box-sizing: border-box;padding-bottom: 0.4em;background-color: white;}#sk-container-id-1 div.sk-label label {font-family: monospace;font-weight: bold;display: inline-block;line-height: 1.2em;}#sk-container-id-1 div.sk-label-container {text-align: center;}#sk-container-id-1 div.sk-container {/* jupyter's `normalize.less` sets `[hidden] { display: none; }` but bootstrap.min.css set `[hidden] { display: none !important; }` so we also need the `!important` here to be able to override the default hidden behavior on the sphinx rendered scikit-learn.org. See: https://github.com/scikit-learn/scikit-learn/issues/21755 */display: inline-block !important;position: relative;}#sk-container-id-1 div.sk-text-repr-fallback {display: none;}</style><div id=\"sk-container-id-1\" class=\"sk-top-container\"><div class=\"sk-text-repr-fallback\"><pre>RandomForestClassifier(max_depth=13, max_features=None, n_estimators=250,\n",
       "                       random_state=83)</pre><b>In a Jupyter environment, please rerun this cell to show the HTML representation or trust the notebook. <br />On GitHub, the HTML representation is unable to render, please try loading this page with nbviewer.org.</b></div><div class=\"sk-container\" hidden><div class=\"sk-item\"><div class=\"sk-estimator sk-toggleable\"><input class=\"sk-toggleable__control sk-hidden--visually\" id=\"sk-estimator-id-1\" type=\"checkbox\" checked><label for=\"sk-estimator-id-1\" class=\"sk-toggleable__label sk-toggleable__label-arrow\">RandomForestClassifier</label><div class=\"sk-toggleable__content\"><pre>RandomForestClassifier(max_depth=13, max_features=None, n_estimators=250,\n",
       "                       random_state=83)</pre></div></div></div></div></div>"
      ],
      "text/plain": [
       "RandomForestClassifier(max_depth=13, max_features=None, n_estimators=250,\n",
       "                       random_state=83)"
      ]
     },
     "execution_count": 49,
     "metadata": {},
     "output_type": "execute_result"
    }
   ],
   "source": [
    "rfc.fit(X_train,y_train)"
   ]
  },
  {
   "cell_type": "markdown",
   "id": "11696cd8",
   "metadata": {
    "papermill": {
     "duration": 0.022762,
     "end_time": "2024-01-08T15:47:56.375631",
     "exception": false,
     "start_time": "2024-01-08T15:47:56.352869",
     "status": "completed"
    },
    "tags": []
   },
   "source": [
    "<b> Extra Trees Classifier </b>"
   ]
  },
  {
   "cell_type": "code",
   "execution_count": 50,
   "id": "08025512",
   "metadata": {
    "execution": {
     "iopub.execute_input": "2024-01-08T15:47:56.424145Z",
     "iopub.status.busy": "2024-01-08T15:47:56.423109Z",
     "iopub.status.idle": "2024-01-08T15:47:56.428251Z",
     "shell.execute_reply": "2024-01-08T15:47:56.427494Z"
    },
    "papermill": {
     "duration": 0.032051,
     "end_time": "2024-01-08T15:47:56.430794",
     "exception": false,
     "start_time": "2024-01-08T15:47:56.398743",
     "status": "completed"
    },
    "tags": []
   },
   "outputs": [],
   "source": [
    "ERF=ExtraTreesClassifier(n_estimators=500,max_depth=13,criterion='gini',random_state=45)"
   ]
  },
  {
   "cell_type": "code",
   "execution_count": 51,
   "id": "86214858",
   "metadata": {
    "execution": {
     "iopub.execute_input": "2024-01-08T15:47:56.480056Z",
     "iopub.status.busy": "2024-01-08T15:47:56.479702Z",
     "iopub.status.idle": "2024-01-08T15:47:56.483912Z",
     "shell.execute_reply": "2024-01-08T15:47:56.482966Z"
    },
    "papermill": {
     "duration": 0.030918,
     "end_time": "2024-01-08T15:47:56.486048",
     "exception": false,
     "start_time": "2024-01-08T15:47:56.455130",
     "status": "completed"
    },
    "tags": []
   },
   "outputs": [],
   "source": [
    "#ERF.fit(X_train,y_train)"
   ]
  },
  {
   "cell_type": "markdown",
   "id": "584e5b0a",
   "metadata": {
    "papermill": {
     "duration": 0.023058,
     "end_time": "2024-01-08T15:47:56.533778",
     "exception": false,
     "start_time": "2024-01-08T15:47:56.510720",
     "status": "completed"
    },
    "tags": []
   },
   "source": [
    "<b> XGBOOST </b>"
   ]
  },
  {
   "cell_type": "code",
   "execution_count": 52,
   "id": "15848eda",
   "metadata": {
    "execution": {
     "iopub.execute_input": "2024-01-08T15:47:56.581270Z",
     "iopub.status.busy": "2024-01-08T15:47:56.580892Z",
     "iopub.status.idle": "2024-01-08T15:47:56.587455Z",
     "shell.execute_reply": "2024-01-08T15:47:56.586581Z"
    },
    "papermill": {
     "duration": 0.032675,
     "end_time": "2024-01-08T15:47:56.589402",
     "exception": false,
     "start_time": "2024-01-08T15:47:56.556727",
     "status": "completed"
    },
    "tags": []
   },
   "outputs": [],
   "source": [
    "xgb_params = {'n_estimators'          : 2048,\n",
    "          'max_depth'             : 10,\n",
    "          'learning_rate'         : 0.05,\n",
    "          'booster'               : 'gbtree',\n",
    "          'subsample'             : 0.75,\n",
    "          'colsample_bytree'      : 0.30,\n",
    "          'reg_lambda'            : 1.00,\n",
    "          'reg_alpha'             : 1.00,\n",
    "          'gamma'                 : 1.00,\n",
    "          'random_state'          : 578,\n",
    "          'objective'             : 'binary:logistic',\n",
    "          'tree_method'           : 'gpu_hist',\n",
    "          'eval_metric'           : 'auc',\n",
    "          'early_stopping_rounds' : 256,\n",
    "          'n_jobs'                : -1,\n",
    "         }\n",
    "\n",
    "xgb_params_1 = {\n",
    "        'n_estimators':1200,\n",
    "        'objective':'binary:logistic',\n",
    "        'max_depth':15,\n",
    "        'eta':0.01,\n",
    "        'random_state':45,\n",
    "        'subsample':0.6,\n",
    "        'colsample_bytree':0.7\n",
    "}"
   ]
  },
  {
   "cell_type": "code",
   "execution_count": 53,
   "id": "9c0f001e",
   "metadata": {
    "execution": {
     "iopub.execute_input": "2024-01-08T15:47:56.637422Z",
     "iopub.status.busy": "2024-01-08T15:47:56.637028Z",
     "iopub.status.idle": "2024-01-08T15:54:12.129918Z",
     "shell.execute_reply": "2024-01-08T15:54:12.129128Z"
    },
    "papermill": {
     "duration": 375.518976,
     "end_time": "2024-01-08T15:54:12.131840",
     "exception": false,
     "start_time": "2024-01-08T15:47:56.612864",
     "status": "completed"
    },
    "tags": []
   },
   "outputs": [
    {
     "name": "stdout",
     "output_type": "stream",
     "text": [
      "Fold 1*******************************************************\n",
      "[0]\tvalidation-auc:0.77758\n",
      "[100]\tvalidation-auc:0.88567\n",
      "[200]\tvalidation-auc:0.88810\n",
      "[300]\tvalidation-auc:0.88897\n",
      "[400]\tvalidation-auc:0.88894\n",
      "[499]\tvalidation-auc:0.88920\n",
      "score: 0.8892031346405622\n",
      "Fold 2*******************************************************\n",
      "[0]\tvalidation-auc:0.78661\n",
      "[100]\tvalidation-auc:0.88744\n",
      "[200]\tvalidation-auc:0.88957\n",
      "[300]\tvalidation-auc:0.89099\n",
      "[400]\tvalidation-auc:0.89134\n",
      "[499]\tvalidation-auc:0.89160\n",
      "score: 0.8915990886768697\n",
      "Fold 3*******************************************************\n",
      "[0]\tvalidation-auc:0.78946\n",
      "[100]\tvalidation-auc:0.89001\n",
      "[200]\tvalidation-auc:0.89257\n",
      "[300]\tvalidation-auc:0.89331\n",
      "[400]\tvalidation-auc:0.89331\n",
      "[499]\tvalidation-auc:0.89311\n",
      "score: 0.8931109718062934\n",
      "Fold 4*******************************************************\n",
      "[0]\tvalidation-auc:0.78444\n",
      "[100]\tvalidation-auc:0.88998\n",
      "[200]\tvalidation-auc:0.89263\n",
      "[300]\tvalidation-auc:0.89348\n",
      "[400]\tvalidation-auc:0.89360\n",
      "[499]\tvalidation-auc:0.89359\n",
      "score: 0.8935913874720309\n",
      "Fold 5*******************************************************\n",
      "[0]\tvalidation-auc:0.78107\n",
      "[100]\tvalidation-auc:0.88267\n",
      "[200]\tvalidation-auc:0.88509\n",
      "[300]\tvalidation-auc:0.88640\n",
      "[400]\tvalidation-auc:0.88667\n",
      "[499]\tvalidation-auc:0.88669\n",
      "score: 0.8866934576130998\n",
      "Fold 6*******************************************************\n",
      "[0]\tvalidation-auc:0.78245\n",
      "[100]\tvalidation-auc:0.88580\n",
      "[200]\tvalidation-auc:0.88877\n",
      "[300]\tvalidation-auc:0.89013\n",
      "[400]\tvalidation-auc:0.89052\n",
      "[499]\tvalidation-auc:0.89087\n",
      "score: 0.8908686426861087\n",
      "Fold 7*******************************************************\n",
      "[0]\tvalidation-auc:0.78209\n",
      "[100]\tvalidation-auc:0.89116\n",
      "[200]\tvalidation-auc:0.89296\n",
      "[300]\tvalidation-auc:0.89415\n",
      "[400]\tvalidation-auc:0.89462\n",
      "[499]\tvalidation-auc:0.89474\n",
      "score: 0.8947447625224297\n",
      "Fold 8*******************************************************\n",
      "[0]\tvalidation-auc:0.77626\n",
      "[100]\tvalidation-auc:0.88381\n",
      "[200]\tvalidation-auc:0.88579\n",
      "[300]\tvalidation-auc:0.88684\n",
      "[400]\tvalidation-auc:0.88722\n",
      "[499]\tvalidation-auc:0.88710\n",
      "score: 0.8871008890496287\n",
      "Fold 9*******************************************************\n",
      "[0]\tvalidation-auc:0.78398\n",
      "[100]\tvalidation-auc:0.88954\n",
      "[200]\tvalidation-auc:0.89188\n",
      "[300]\tvalidation-auc:0.89283\n",
      "[400]\tvalidation-auc:0.89313\n",
      "[499]\tvalidation-auc:0.89298\n",
      "score: 0.8929764632533155\n",
      "Fold 10*******************************************************\n",
      "[0]\tvalidation-auc:0.78030\n",
      "[100]\tvalidation-auc:0.88486\n",
      "[200]\tvalidation-auc:0.88645\n",
      "[300]\tvalidation-auc:0.88722\n",
      "[400]\tvalidation-auc:0.88718\n",
      "[499]\tvalidation-auc:0.88719\n",
      "score: 0.8871888557532617\n",
      "Fold 1*******************************************************\n",
      "[0]\tvalidation-logloss:0.51568\n",
      "[100]\tvalidation-logloss:0.37600\n",
      "[200]\tvalidation-logloss:0.33966\n",
      "[300]\tvalidation-logloss:0.32871\n",
      "[400]\tvalidation-logloss:0.32587\n",
      "[499]\tvalidation-logloss:0.32593\n",
      "score: 0.884287202302574\n",
      "Fold 2*******************************************************\n",
      "[0]\tvalidation-logloss:0.51556\n",
      "[100]\tvalidation-logloss:0.37515\n",
      "[200]\tvalidation-logloss:0.33841\n",
      "[300]\tvalidation-logloss:0.32733\n",
      "[400]\tvalidation-logloss:0.32407\n",
      "[499]\tvalidation-logloss:0.32386\n",
      "score: 0.8871106231784824\n",
      "Fold 3*******************************************************\n",
      "[0]\tvalidation-logloss:0.51554\n",
      "[100]\tvalidation-logloss:0.37305\n",
      "[200]\tvalidation-logloss:0.33583\n",
      "[300]\tvalidation-logloss:0.32479\n",
      "[400]\tvalidation-logloss:0.32177\n",
      "[499]\tvalidation-logloss:0.32170\n",
      "score: 0.8885194972924912\n",
      "Fold 4*******************************************************\n",
      "[0]\tvalidation-logloss:0.51548\n",
      "[100]\tvalidation-logloss:0.37195\n",
      "[200]\tvalidation-logloss:0.33458\n",
      "[300]\tvalidation-logloss:0.32313\n",
      "[400]\tvalidation-logloss:0.31979\n",
      "[499]\tvalidation-logloss:0.31925\n",
      "score: 0.8909484333374622\n",
      "Fold 5*******************************************************\n",
      "[0]\tvalidation-logloss:0.51560\n",
      "[100]\tvalidation-logloss:0.37617\n",
      "[200]\tvalidation-logloss:0.34055\n",
      "[300]\tvalidation-logloss:0.32982\n",
      "[400]\tvalidation-logloss:0.32698\n",
      "[499]\tvalidation-logloss:0.32679\n",
      "score: 0.8823447396499109\n",
      "Fold 6*******************************************************\n",
      "[0]\tvalidation-logloss:0.51563\n",
      "[100]\tvalidation-logloss:0.37456\n",
      "[200]\tvalidation-logloss:0.33787\n",
      "[300]\tvalidation-logloss:0.32714\n",
      "[400]\tvalidation-logloss:0.32394\n",
      "[499]\tvalidation-logloss:0.32370\n",
      "score: 0.8860856956772978\n",
      "Fold 7*******************************************************\n",
      "[0]\tvalidation-logloss:0.51557\n",
      "[100]\tvalidation-logloss:0.37201\n",
      "[200]\tvalidation-logloss:0.33393\n",
      "[300]\tvalidation-logloss:0.32190\n",
      "[400]\tvalidation-logloss:0.31825\n",
      "[499]\tvalidation-logloss:0.31756\n",
      "score: 0.8915946962250467\n",
      "Fold 8*******************************************************\n",
      "[0]\tvalidation-logloss:0.51556\n",
      "[100]\tvalidation-logloss:0.37442\n",
      "[200]\tvalidation-logloss:0.33813\n",
      "[300]\tvalidation-logloss:0.32773\n",
      "[400]\tvalidation-logloss:0.32494\n",
      "[499]\tvalidation-logloss:0.32478\n",
      "score: 0.8830519711752961\n",
      "Fold 9*******************************************************\n",
      "[0]\tvalidation-logloss:0.51552\n",
      "[100]\tvalidation-logloss:0.37285\n",
      "[200]\tvalidation-logloss:0.33511\n",
      "[300]\tvalidation-logloss:0.32316\n",
      "[400]\tvalidation-logloss:0.31931\n",
      "[499]\tvalidation-logloss:0.31876\n",
      "score: 0.8900093751459907\n",
      "Fold 10*******************************************************\n",
      "[0]\tvalidation-logloss:0.51555\n",
      "[100]\tvalidation-logloss:0.37521\n",
      "[200]\tvalidation-logloss:0.33901\n",
      "[300]\tvalidation-logloss:0.32861\n",
      "[400]\tvalidation-logloss:0.32614\n",
      "[499]\tvalidation-logloss:0.32622\n",
      "score: 0.8833433155651959\n",
      "n_run 20\n",
      "Average score  over all folds: 0.8887186601511674\n"
     ]
    }
   ],
   "source": [
    "kf = StratifiedKFold(n_splits=n_splits, shuffle=True, random_state=SEED) \n",
    "\n",
    "#Cross-validation\n",
    "for params in [xgb_params,xgb_params_1]:\n",
    "    #for cf in [candiate_features_1,candiate_features_2,candiate_features_3,candiate_features_4]:\n",
    "    for cf in [candiate_features_4]:    \n",
    "        for fold, (train_idx, val_idx) in enumerate(kf.split(X_train, y_train)):\n",
    "            print(f'Fold {fold + 1}*******************************************************')\n",
    "            X_train_new=X_train.drop(cf,axis=1)\n",
    "            train_data = xgb.DMatrix(X_train_new.iloc[train_idx], label=y_train[train_idx],enable_categorical='True')\n",
    "            val_data = xgb.DMatrix(X_train_new.iloc[val_idx], label=y_train[val_idx],enable_categorical='True')\n",
    "            n_round =500\n",
    "            watchlist = [(val_data, 'validation')]\n",
    "            bst = xgb.train(params, train_data, n_round, evals=watchlist, verbose_eval=100)\n",
    "            val_fold_preds = bst.predict(val_data)\n",
    "            score = roc_auc_score(y_train[val_idx], val_fold_preds)\n",
    "            print(f'score: {score}')\n",
    "            if score > score_threshold :\n",
    "                scores_list.append(score)\n",
    "                X_test_new=X_test.drop(cf,axis=1)\n",
    "                test_DMatrix = xgb.DMatrix(X_test_new,enable_categorical='True')\n",
    "                test_fold_preds = bst.predict(test_DMatrix)\n",
    "                test_preds.append(test_fold_preds)\n",
    "                n_run = n_run +1\n",
    "\n",
    "run_avg = sum(scores_list) / n_run\n",
    "print(\"n_run\",n_run)\n",
    "print(f'Average score  over all folds: {run_avg}')\n",
    "\n",
    "# Average the test predictions over folds\n",
    "avg_xgb_test_preds = sum(test_preds) / n_run\n"
   ]
  },
  {
   "cell_type": "code",
   "execution_count": 54,
   "id": "eb78b28c",
   "metadata": {
    "execution": {
     "iopub.execute_input": "2024-01-08T15:54:12.203113Z",
     "iopub.status.busy": "2024-01-08T15:54:12.202790Z",
     "iopub.status.idle": "2024-01-08T15:54:12.206843Z",
     "shell.execute_reply": "2024-01-08T15:54:12.206017Z"
    },
    "papermill": {
     "duration": 0.041309,
     "end_time": "2024-01-08T15:54:12.208706",
     "exception": false,
     "start_time": "2024-01-08T15:54:12.167397",
     "status": "completed"
    },
    "tags": []
   },
   "outputs": [],
   "source": [
    "#rfc.fit(X_train,y_train)\n",
    "#ERF.fit(X_train,y_train)\n",
    "#xgb_clf.fit(X_train,y_train)"
   ]
  },
  {
   "cell_type": "markdown",
   "id": "8aa6dfb8",
   "metadata": {
    "papermill": {
     "duration": 0.033984,
     "end_time": "2024-01-08T15:54:12.276412",
     "exception": false,
     "start_time": "2024-01-08T15:54:12.242428",
     "status": "completed"
    },
    "tags": []
   },
   "source": [
    "<b> Prediction </b>"
   ]
  },
  {
   "cell_type": "code",
   "execution_count": 55,
   "id": "dd8a579e",
   "metadata": {
    "execution": {
     "iopub.execute_input": "2024-01-08T15:54:12.345868Z",
     "iopub.status.busy": "2024-01-08T15:54:12.345545Z",
     "iopub.status.idle": "2024-01-08T15:54:12.349384Z",
     "shell.execute_reply": "2024-01-08T15:54:12.348517Z"
    },
    "papermill": {
     "duration": 0.040902,
     "end_time": "2024-01-08T15:54:12.351229",
     "exception": false,
     "start_time": "2024-01-08T15:54:12.310327",
     "status": "completed"
    },
    "tags": []
   },
   "outputs": [],
   "source": [
    "#y_hat_test_rf=rfc.predict_proba(X_test)[:,1]\n",
    "#y_hat_test_xg=xgb_clf.predict_proba(X_test)[:,1]\n",
    "#y_hat_test_erf=ERF.predict_proba(X_test)[:,1]"
   ]
  },
  {
   "cell_type": "code",
   "execution_count": 56,
   "id": "d84f6dd1",
   "metadata": {
    "execution": {
     "iopub.execute_input": "2024-01-08T15:54:12.420902Z",
     "iopub.status.busy": "2024-01-08T15:54:12.420556Z",
     "iopub.status.idle": "2024-01-08T15:54:12.424640Z",
     "shell.execute_reply": "2024-01-08T15:54:12.423769Z"
    },
    "papermill": {
     "duration": 0.041773,
     "end_time": "2024-01-08T15:54:12.426689",
     "exception": false,
     "start_time": "2024-01-08T15:54:12.384916",
     "status": "completed"
    },
    "tags": []
   },
   "outputs": [],
   "source": [
    "#y_hat_test=0.8 * avg_xgb_test_preds + 0.2 * y_hat_test_rf\n",
    "y_hat_test= avg_xgb_test_preds "
   ]
  },
  {
   "cell_type": "markdown",
   "id": "8423d8dd",
   "metadata": {
    "papermill": {
     "duration": 0.034052,
     "end_time": "2024-01-08T15:54:12.494700",
     "exception": false,
     "start_time": "2024-01-08T15:54:12.460648",
     "status": "completed"
    },
    "tags": []
   },
   "source": [
    "# **Submission** "
   ]
  },
  {
   "cell_type": "code",
   "execution_count": 57,
   "id": "fbeb6743",
   "metadata": {
    "execution": {
     "iopub.execute_input": "2024-01-08T15:54:12.564592Z",
     "iopub.status.busy": "2024-01-08T15:54:12.564246Z",
     "iopub.status.idle": "2024-01-08T15:54:12.901013Z",
     "shell.execute_reply": "2024-01-08T15:54:12.900051Z"
    },
    "papermill": {
     "duration": 0.373571,
     "end_time": "2024-01-08T15:54:12.903175",
     "exception": false,
     "start_time": "2024-01-08T15:54:12.529604",
     "status": "completed"
    },
    "tags": []
   },
   "outputs": [
    {
     "name": "stdout",
     "output_type": "stream",
     "text": [
      "            id    Exited\n",
      "0       165034  0.032188\n",
      "1       165035  0.866029\n",
      "2       165036  0.017580\n",
      "3       165037  0.214982\n",
      "4       165038  0.286346\n",
      "...        ...       ...\n",
      "110018  275052  0.033654\n",
      "110019  275053  0.174831\n",
      "110020  275054  0.018854\n",
      "110021  275055  0.189496\n",
      "110022  275056  0.193328\n",
      "\n",
      "[110023 rows x 2 columns]\n"
     ]
    }
   ],
   "source": [
    "my_submission = pd.DataFrame({'id': df_test.id, 'Exited': y_hat_test})\n",
    "print(my_submission)\n",
    "my_submission.to_csv('../output/submission.csv', index=False)"
   ]
  },
  {
   "cell_type": "markdown",
   "id": "accd580b",
   "metadata": {
    "papermill": {
     "duration": 0.033899,
     "end_time": "2024-01-08T15:54:12.972091",
     "exception": false,
     "start_time": "2024-01-08T15:54:12.938192",
     "status": "completed"
    },
    "tags": []
   },
   "source": [
    "<b>Please upvote if you find this notebook useful.</b>\n",
    "\n",
    "<b> Thank You! </b>"
   ]
  }
 ],
 "metadata": {
  "kaggle": {
   "accelerator": "gpu",
   "dataSources": [
    {
     "databundleVersionId": 7405009,
     "sourceId": 65711,
     "sourceType": "competition"
    },
    {
     "datasetId": 3191230,
     "sourceId": 5536933,
     "sourceType": "datasetVersion"
    }
   ],
   "dockerImageVersionId": 30626,
   "isGpuEnabled": true,
   "isInternetEnabled": true,
   "language": "python",
   "sourceType": "notebook"
  },
  "kernelspec": {
   "display_name": "Python 3",
   "language": "python",
   "name": "python3"
  },
  "language_info": {
   "codemirror_mode": {
    "name": "ipython",
    "version": 3
   },
   "file_extension": ".py",
   "mimetype": "text/x-python",
   "name": "python",
   "nbconvert_exporter": "python",
   "pygments_lexer": "ipython3",
   "version": "3.10.12"
  },
  "papermill": {
   "default_parameters": {},
   "duration": 484.693114,
   "end_time": "2024-01-08T15:54:13.626386",
   "environment_variables": {},
   "exception": null,
   "input_path": "__notebook__.ipynb",
   "output_path": "__notebook__.ipynb",
   "parameters": {},
   "start_time": "2024-01-08T15:46:08.933272",
   "version": "2.3.4"
  }
 },
 "nbformat": 4,
 "nbformat_minor": 5
}
